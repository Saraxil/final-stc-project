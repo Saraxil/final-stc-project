{
 "cells": [
  {
   "cell_type": "code",
   "execution_count": 1,
   "metadata": {
    "id": "EbrFD1vMR_qS"
   },
   "outputs": [
    {
     "name": "stdout",
     "output_type": "stream",
     "text": [
      "WARNING:tensorflow:From C:\\Users\\Queen Remas\\AppData\\Roaming\\Python\\Python311\\site-packages\\keras\\src\\losses.py:2976: The name tf.losses.sparse_softmax_cross_entropy is deprecated. Please use tf.compat.v1.losses.sparse_softmax_cross_entropy instead.\n",
      "\n"
     ]
    }
   ],
   "source": [
    "import tensorflow as tf\n",
    "import os\n",
    "import pandas as pd\n",
    "import numpy as np"
   ]
  },
  {
   "cell_type": "code",
   "execution_count": 72,
   "metadata": {
    "colab": {
     "base_uri": "https://localhost:8080/"
    },
    "id": "1q73lN27SDPC",
    "outputId": "e1f0eac0-188c-4d21-8b46-81a2999b2cbf"
   },
   "outputs": [],
   "source": [
    "#Downloading and Extracting the Dataset\n",
    "zip_path = tf.keras.utils.get_file(\n",
    "    origin='https://storage.googleapis.com/tensorflow/tf-keras-datasets/jena_climate_2009_2016.csv.zip',#downloding from URL\n",
    "    fname='jena_climate_2009_2016.csv.zip',#name of file\n",
    "    extract=True)#extract the contents \n",
    "csv_path, _ = os.path.splitext(zip_path)#extracted CSV file"
   ]
  },
  {
   "cell_type": "code",
   "execution_count": 73,
   "metadata": {
    "colab": {
     "base_uri": "https://localhost:8080/",
     "height": 632
    },
    "id": "RRVN-4QOSKAx",
    "outputId": "7fe7489b-43dc-41c8-fe7c-6f57d7942a91"
   },
   "outputs": [
    {
     "data": {
      "text/html": [
       "<div>\n",
       "<style scoped>\n",
       "    .dataframe tbody tr th:only-of-type {\n",
       "        vertical-align: middle;\n",
       "    }\n",
       "\n",
       "    .dataframe tbody tr th {\n",
       "        vertical-align: top;\n",
       "    }\n",
       "\n",
       "    .dataframe thead th {\n",
       "        text-align: right;\n",
       "    }\n",
       "</style>\n",
       "<table border=\"1\" class=\"dataframe\">\n",
       "  <thead>\n",
       "    <tr style=\"text-align: right;\">\n",
       "      <th></th>\n",
       "      <th>Date Time</th>\n",
       "      <th>p (mbar)</th>\n",
       "      <th>T (degC)</th>\n",
       "      <th>Tpot (K)</th>\n",
       "      <th>Tdew (degC)</th>\n",
       "      <th>rh (%)</th>\n",
       "      <th>VPmax (mbar)</th>\n",
       "      <th>VPact (mbar)</th>\n",
       "      <th>VPdef (mbar)</th>\n",
       "      <th>sh (g/kg)</th>\n",
       "      <th>H2OC (mmol/mol)</th>\n",
       "      <th>rho (g/m**3)</th>\n",
       "      <th>wv (m/s)</th>\n",
       "      <th>max. wv (m/s)</th>\n",
       "      <th>wd (deg)</th>\n",
       "    </tr>\n",
       "  </thead>\n",
       "  <tbody>\n",
       "    <tr>\n",
       "      <th>0</th>\n",
       "      <td>01.01.2009 00:10:00</td>\n",
       "      <td>996.52</td>\n",
       "      <td>-8.02</td>\n",
       "      <td>265.40</td>\n",
       "      <td>-8.90</td>\n",
       "      <td>93.30</td>\n",
       "      <td>3.33</td>\n",
       "      <td>3.11</td>\n",
       "      <td>0.22</td>\n",
       "      <td>1.94</td>\n",
       "      <td>3.12</td>\n",
       "      <td>1307.75</td>\n",
       "      <td>1.03</td>\n",
       "      <td>1.75</td>\n",
       "      <td>152.3</td>\n",
       "    </tr>\n",
       "    <tr>\n",
       "      <th>1</th>\n",
       "      <td>01.01.2009 00:20:00</td>\n",
       "      <td>996.57</td>\n",
       "      <td>-8.41</td>\n",
       "      <td>265.01</td>\n",
       "      <td>-9.28</td>\n",
       "      <td>93.40</td>\n",
       "      <td>3.23</td>\n",
       "      <td>3.02</td>\n",
       "      <td>0.21</td>\n",
       "      <td>1.89</td>\n",
       "      <td>3.03</td>\n",
       "      <td>1309.80</td>\n",
       "      <td>0.72</td>\n",
       "      <td>1.50</td>\n",
       "      <td>136.1</td>\n",
       "    </tr>\n",
       "    <tr>\n",
       "      <th>2</th>\n",
       "      <td>01.01.2009 00:30:00</td>\n",
       "      <td>996.53</td>\n",
       "      <td>-8.51</td>\n",
       "      <td>264.91</td>\n",
       "      <td>-9.31</td>\n",
       "      <td>93.90</td>\n",
       "      <td>3.21</td>\n",
       "      <td>3.01</td>\n",
       "      <td>0.20</td>\n",
       "      <td>1.88</td>\n",
       "      <td>3.02</td>\n",
       "      <td>1310.24</td>\n",
       "      <td>0.19</td>\n",
       "      <td>0.63</td>\n",
       "      <td>171.6</td>\n",
       "    </tr>\n",
       "    <tr>\n",
       "      <th>3</th>\n",
       "      <td>01.01.2009 00:40:00</td>\n",
       "      <td>996.51</td>\n",
       "      <td>-8.31</td>\n",
       "      <td>265.12</td>\n",
       "      <td>-9.07</td>\n",
       "      <td>94.20</td>\n",
       "      <td>3.26</td>\n",
       "      <td>3.07</td>\n",
       "      <td>0.19</td>\n",
       "      <td>1.92</td>\n",
       "      <td>3.08</td>\n",
       "      <td>1309.19</td>\n",
       "      <td>0.34</td>\n",
       "      <td>0.50</td>\n",
       "      <td>198.0</td>\n",
       "    </tr>\n",
       "    <tr>\n",
       "      <th>4</th>\n",
       "      <td>01.01.2009 00:50:00</td>\n",
       "      <td>996.51</td>\n",
       "      <td>-8.27</td>\n",
       "      <td>265.15</td>\n",
       "      <td>-9.04</td>\n",
       "      <td>94.10</td>\n",
       "      <td>3.27</td>\n",
       "      <td>3.08</td>\n",
       "      <td>0.19</td>\n",
       "      <td>1.92</td>\n",
       "      <td>3.09</td>\n",
       "      <td>1309.00</td>\n",
       "      <td>0.32</td>\n",
       "      <td>0.63</td>\n",
       "      <td>214.3</td>\n",
       "    </tr>\n",
       "    <tr>\n",
       "      <th>...</th>\n",
       "      <td>...</td>\n",
       "      <td>...</td>\n",
       "      <td>...</td>\n",
       "      <td>...</td>\n",
       "      <td>...</td>\n",
       "      <td>...</td>\n",
       "      <td>...</td>\n",
       "      <td>...</td>\n",
       "      <td>...</td>\n",
       "      <td>...</td>\n",
       "      <td>...</td>\n",
       "      <td>...</td>\n",
       "      <td>...</td>\n",
       "      <td>...</td>\n",
       "      <td>...</td>\n",
       "    </tr>\n",
       "    <tr>\n",
       "      <th>420546</th>\n",
       "      <td>31.12.2016 23:20:00</td>\n",
       "      <td>1000.07</td>\n",
       "      <td>-4.05</td>\n",
       "      <td>269.10</td>\n",
       "      <td>-8.13</td>\n",
       "      <td>73.10</td>\n",
       "      <td>4.52</td>\n",
       "      <td>3.30</td>\n",
       "      <td>1.22</td>\n",
       "      <td>2.06</td>\n",
       "      <td>3.30</td>\n",
       "      <td>1292.98</td>\n",
       "      <td>0.67</td>\n",
       "      <td>1.52</td>\n",
       "      <td>240.0</td>\n",
       "    </tr>\n",
       "    <tr>\n",
       "      <th>420547</th>\n",
       "      <td>31.12.2016 23:30:00</td>\n",
       "      <td>999.93</td>\n",
       "      <td>-3.35</td>\n",
       "      <td>269.81</td>\n",
       "      <td>-8.06</td>\n",
       "      <td>69.71</td>\n",
       "      <td>4.77</td>\n",
       "      <td>3.32</td>\n",
       "      <td>1.44</td>\n",
       "      <td>2.07</td>\n",
       "      <td>3.32</td>\n",
       "      <td>1289.44</td>\n",
       "      <td>1.14</td>\n",
       "      <td>1.92</td>\n",
       "      <td>234.3</td>\n",
       "    </tr>\n",
       "    <tr>\n",
       "      <th>420548</th>\n",
       "      <td>31.12.2016 23:40:00</td>\n",
       "      <td>999.82</td>\n",
       "      <td>-3.16</td>\n",
       "      <td>270.01</td>\n",
       "      <td>-8.21</td>\n",
       "      <td>67.91</td>\n",
       "      <td>4.84</td>\n",
       "      <td>3.28</td>\n",
       "      <td>1.55</td>\n",
       "      <td>2.05</td>\n",
       "      <td>3.28</td>\n",
       "      <td>1288.39</td>\n",
       "      <td>1.08</td>\n",
       "      <td>2.00</td>\n",
       "      <td>215.2</td>\n",
       "    </tr>\n",
       "    <tr>\n",
       "      <th>420549</th>\n",
       "      <td>31.12.2016 23:50:00</td>\n",
       "      <td>999.81</td>\n",
       "      <td>-4.23</td>\n",
       "      <td>268.94</td>\n",
       "      <td>-8.53</td>\n",
       "      <td>71.80</td>\n",
       "      <td>4.46</td>\n",
       "      <td>3.20</td>\n",
       "      <td>1.26</td>\n",
       "      <td>1.99</td>\n",
       "      <td>3.20</td>\n",
       "      <td>1293.56</td>\n",
       "      <td>1.49</td>\n",
       "      <td>2.16</td>\n",
       "      <td>225.8</td>\n",
       "    </tr>\n",
       "    <tr>\n",
       "      <th>420550</th>\n",
       "      <td>01.01.2017 00:00:00</td>\n",
       "      <td>999.82</td>\n",
       "      <td>-4.82</td>\n",
       "      <td>268.36</td>\n",
       "      <td>-8.42</td>\n",
       "      <td>75.70</td>\n",
       "      <td>4.27</td>\n",
       "      <td>3.23</td>\n",
       "      <td>1.04</td>\n",
       "      <td>2.01</td>\n",
       "      <td>3.23</td>\n",
       "      <td>1296.38</td>\n",
       "      <td>1.23</td>\n",
       "      <td>1.96</td>\n",
       "      <td>184.9</td>\n",
       "    </tr>\n",
       "  </tbody>\n",
       "</table>\n",
       "<p>420551 rows × 15 columns</p>\n",
       "</div>"
      ],
      "text/plain": [
       "                  Date Time  p (mbar)  T (degC)  Tpot (K)  Tdew (degC)  \\\n",
       "0       01.01.2009 00:10:00    996.52     -8.02    265.40        -8.90   \n",
       "1       01.01.2009 00:20:00    996.57     -8.41    265.01        -9.28   \n",
       "2       01.01.2009 00:30:00    996.53     -8.51    264.91        -9.31   \n",
       "3       01.01.2009 00:40:00    996.51     -8.31    265.12        -9.07   \n",
       "4       01.01.2009 00:50:00    996.51     -8.27    265.15        -9.04   \n",
       "...                     ...       ...       ...       ...          ...   \n",
       "420546  31.12.2016 23:20:00   1000.07     -4.05    269.10        -8.13   \n",
       "420547  31.12.2016 23:30:00    999.93     -3.35    269.81        -8.06   \n",
       "420548  31.12.2016 23:40:00    999.82     -3.16    270.01        -8.21   \n",
       "420549  31.12.2016 23:50:00    999.81     -4.23    268.94        -8.53   \n",
       "420550  01.01.2017 00:00:00    999.82     -4.82    268.36        -8.42   \n",
       "\n",
       "        rh (%)  VPmax (mbar)  VPact (mbar)  VPdef (mbar)  sh (g/kg)  \\\n",
       "0        93.30          3.33          3.11          0.22       1.94   \n",
       "1        93.40          3.23          3.02          0.21       1.89   \n",
       "2        93.90          3.21          3.01          0.20       1.88   \n",
       "3        94.20          3.26          3.07          0.19       1.92   \n",
       "4        94.10          3.27          3.08          0.19       1.92   \n",
       "...        ...           ...           ...           ...        ...   \n",
       "420546   73.10          4.52          3.30          1.22       2.06   \n",
       "420547   69.71          4.77          3.32          1.44       2.07   \n",
       "420548   67.91          4.84          3.28          1.55       2.05   \n",
       "420549   71.80          4.46          3.20          1.26       1.99   \n",
       "420550   75.70          4.27          3.23          1.04       2.01   \n",
       "\n",
       "        H2OC (mmol/mol)  rho (g/m**3)  wv (m/s)  max. wv (m/s)  wd (deg)  \n",
       "0                  3.12       1307.75      1.03           1.75     152.3  \n",
       "1                  3.03       1309.80      0.72           1.50     136.1  \n",
       "2                  3.02       1310.24      0.19           0.63     171.6  \n",
       "3                  3.08       1309.19      0.34           0.50     198.0  \n",
       "4                  3.09       1309.00      0.32           0.63     214.3  \n",
       "...                 ...           ...       ...            ...       ...  \n",
       "420546             3.30       1292.98      0.67           1.52     240.0  \n",
       "420547             3.32       1289.44      1.14           1.92     234.3  \n",
       "420548             3.28       1288.39      1.08           2.00     215.2  \n",
       "420549             3.20       1293.56      1.49           2.16     225.8  \n",
       "420550             3.23       1296.38      1.23           1.96     184.9  \n",
       "\n",
       "[420551 rows x 15 columns]"
      ]
     },
     "execution_count": 73,
     "metadata": {},
     "output_type": "execute_result"
    }
   ],
   "source": [
    "df = pd.read_csv(csv_path)#read a CSV \n",
    "df"
   ]
  },
  {
   "cell_type": "code",
   "execution_count": 74,
   "metadata": {
    "colab": {
     "base_uri": "https://localhost:8080/",
     "height": 602
    },
    "id": "FDJTiftYSPGj",
    "outputId": "f157f680-baef-4443-ff0f-92803bff3ca6"
   },
   "outputs": [
    {
     "data": {
      "text/html": [
       "<div>\n",
       "<style scoped>\n",
       "    .dataframe tbody tr th:only-of-type {\n",
       "        vertical-align: middle;\n",
       "    }\n",
       "\n",
       "    .dataframe tbody tr th {\n",
       "        vertical-align: top;\n",
       "    }\n",
       "\n",
       "    .dataframe thead th {\n",
       "        text-align: right;\n",
       "    }\n",
       "</style>\n",
       "<table border=\"1\" class=\"dataframe\">\n",
       "  <thead>\n",
       "    <tr style=\"text-align: right;\">\n",
       "      <th></th>\n",
       "      <th>Date Time</th>\n",
       "      <th>p (mbar)</th>\n",
       "      <th>T (degC)</th>\n",
       "      <th>Tpot (K)</th>\n",
       "      <th>Tdew (degC)</th>\n",
       "      <th>rh (%)</th>\n",
       "      <th>VPmax (mbar)</th>\n",
       "      <th>VPact (mbar)</th>\n",
       "      <th>VPdef (mbar)</th>\n",
       "      <th>sh (g/kg)</th>\n",
       "      <th>H2OC (mmol/mol)</th>\n",
       "      <th>rho (g/m**3)</th>\n",
       "      <th>wv (m/s)</th>\n",
       "      <th>max. wv (m/s)</th>\n",
       "      <th>wd (deg)</th>\n",
       "    </tr>\n",
       "  </thead>\n",
       "  <tbody>\n",
       "    <tr>\n",
       "      <th>5</th>\n",
       "      <td>01.01.2009 01:00:00</td>\n",
       "      <td>996.50</td>\n",
       "      <td>-8.05</td>\n",
       "      <td>265.38</td>\n",
       "      <td>-8.78</td>\n",
       "      <td>94.40</td>\n",
       "      <td>3.33</td>\n",
       "      <td>3.14</td>\n",
       "      <td>0.19</td>\n",
       "      <td>1.96</td>\n",
       "      <td>3.15</td>\n",
       "      <td>1307.86</td>\n",
       "      <td>0.21</td>\n",
       "      <td>0.63</td>\n",
       "      <td>192.7</td>\n",
       "    </tr>\n",
       "    <tr>\n",
       "      <th>11</th>\n",
       "      <td>01.01.2009 02:00:00</td>\n",
       "      <td>996.62</td>\n",
       "      <td>-8.88</td>\n",
       "      <td>264.54</td>\n",
       "      <td>-9.77</td>\n",
       "      <td>93.20</td>\n",
       "      <td>3.12</td>\n",
       "      <td>2.90</td>\n",
       "      <td>0.21</td>\n",
       "      <td>1.81</td>\n",
       "      <td>2.91</td>\n",
       "      <td>1312.25</td>\n",
       "      <td>0.25</td>\n",
       "      <td>0.63</td>\n",
       "      <td>190.3</td>\n",
       "    </tr>\n",
       "    <tr>\n",
       "      <th>17</th>\n",
       "      <td>01.01.2009 03:00:00</td>\n",
       "      <td>996.84</td>\n",
       "      <td>-8.81</td>\n",
       "      <td>264.59</td>\n",
       "      <td>-9.66</td>\n",
       "      <td>93.50</td>\n",
       "      <td>3.13</td>\n",
       "      <td>2.93</td>\n",
       "      <td>0.20</td>\n",
       "      <td>1.83</td>\n",
       "      <td>2.94</td>\n",
       "      <td>1312.18</td>\n",
       "      <td>0.18</td>\n",
       "      <td>0.63</td>\n",
       "      <td>167.2</td>\n",
       "    </tr>\n",
       "    <tr>\n",
       "      <th>23</th>\n",
       "      <td>01.01.2009 04:00:00</td>\n",
       "      <td>996.99</td>\n",
       "      <td>-9.05</td>\n",
       "      <td>264.34</td>\n",
       "      <td>-10.02</td>\n",
       "      <td>92.60</td>\n",
       "      <td>3.07</td>\n",
       "      <td>2.85</td>\n",
       "      <td>0.23</td>\n",
       "      <td>1.78</td>\n",
       "      <td>2.85</td>\n",
       "      <td>1313.61</td>\n",
       "      <td>0.10</td>\n",
       "      <td>0.38</td>\n",
       "      <td>240.0</td>\n",
       "    </tr>\n",
       "    <tr>\n",
       "      <th>29</th>\n",
       "      <td>01.01.2009 05:00:00</td>\n",
       "      <td>997.46</td>\n",
       "      <td>-9.63</td>\n",
       "      <td>263.72</td>\n",
       "      <td>-10.65</td>\n",
       "      <td>92.20</td>\n",
       "      <td>2.94</td>\n",
       "      <td>2.71</td>\n",
       "      <td>0.23</td>\n",
       "      <td>1.69</td>\n",
       "      <td>2.71</td>\n",
       "      <td>1317.19</td>\n",
       "      <td>0.40</td>\n",
       "      <td>0.88</td>\n",
       "      <td>157.0</td>\n",
       "    </tr>\n",
       "    <tr>\n",
       "      <th>...</th>\n",
       "      <td>...</td>\n",
       "      <td>...</td>\n",
       "      <td>...</td>\n",
       "      <td>...</td>\n",
       "      <td>...</td>\n",
       "      <td>...</td>\n",
       "      <td>...</td>\n",
       "      <td>...</td>\n",
       "      <td>...</td>\n",
       "      <td>...</td>\n",
       "      <td>...</td>\n",
       "      <td>...</td>\n",
       "      <td>...</td>\n",
       "      <td>...</td>\n",
       "      <td>...</td>\n",
       "    </tr>\n",
       "    <tr>\n",
       "      <th>420521</th>\n",
       "      <td>31.12.2016 19:10:00</td>\n",
       "      <td>1002.18</td>\n",
       "      <td>-0.98</td>\n",
       "      <td>272.01</td>\n",
       "      <td>-5.36</td>\n",
       "      <td>72.00</td>\n",
       "      <td>5.69</td>\n",
       "      <td>4.09</td>\n",
       "      <td>1.59</td>\n",
       "      <td>2.54</td>\n",
       "      <td>4.08</td>\n",
       "      <td>1280.70</td>\n",
       "      <td>0.87</td>\n",
       "      <td>1.36</td>\n",
       "      <td>190.6</td>\n",
       "    </tr>\n",
       "    <tr>\n",
       "      <th>420527</th>\n",
       "      <td>31.12.2016 20:10:00</td>\n",
       "      <td>1001.40</td>\n",
       "      <td>-1.40</td>\n",
       "      <td>271.66</td>\n",
       "      <td>-6.84</td>\n",
       "      <td>66.29</td>\n",
       "      <td>5.51</td>\n",
       "      <td>3.65</td>\n",
       "      <td>1.86</td>\n",
       "      <td>2.27</td>\n",
       "      <td>3.65</td>\n",
       "      <td>1281.87</td>\n",
       "      <td>1.02</td>\n",
       "      <td>1.92</td>\n",
       "      <td>225.4</td>\n",
       "    </tr>\n",
       "    <tr>\n",
       "      <th>420533</th>\n",
       "      <td>31.12.2016 21:10:00</td>\n",
       "      <td>1001.19</td>\n",
       "      <td>-2.75</td>\n",
       "      <td>270.32</td>\n",
       "      <td>-6.90</td>\n",
       "      <td>72.90</td>\n",
       "      <td>4.99</td>\n",
       "      <td>3.64</td>\n",
       "      <td>1.35</td>\n",
       "      <td>2.26</td>\n",
       "      <td>3.63</td>\n",
       "      <td>1288.02</td>\n",
       "      <td>0.71</td>\n",
       "      <td>1.56</td>\n",
       "      <td>158.7</td>\n",
       "    </tr>\n",
       "    <tr>\n",
       "      <th>420539</th>\n",
       "      <td>31.12.2016 22:10:00</td>\n",
       "      <td>1000.65</td>\n",
       "      <td>-2.89</td>\n",
       "      <td>270.22</td>\n",
       "      <td>-7.15</td>\n",
       "      <td>72.30</td>\n",
       "      <td>4.93</td>\n",
       "      <td>3.57</td>\n",
       "      <td>1.37</td>\n",
       "      <td>2.22</td>\n",
       "      <td>3.57</td>\n",
       "      <td>1288.03</td>\n",
       "      <td>0.35</td>\n",
       "      <td>0.68</td>\n",
       "      <td>216.7</td>\n",
       "    </tr>\n",
       "    <tr>\n",
       "      <th>420545</th>\n",
       "      <td>31.12.2016 23:10:00</td>\n",
       "      <td>1000.11</td>\n",
       "      <td>-3.93</td>\n",
       "      <td>269.23</td>\n",
       "      <td>-8.09</td>\n",
       "      <td>72.60</td>\n",
       "      <td>4.56</td>\n",
       "      <td>3.31</td>\n",
       "      <td>1.25</td>\n",
       "      <td>2.06</td>\n",
       "      <td>3.31</td>\n",
       "      <td>1292.41</td>\n",
       "      <td>0.56</td>\n",
       "      <td>1.00</td>\n",
       "      <td>202.6</td>\n",
       "    </tr>\n",
       "  </tbody>\n",
       "</table>\n",
       "<p>70091 rows × 15 columns</p>\n",
       "</div>"
      ],
      "text/plain": [
       "                  Date Time  p (mbar)  T (degC)  Tpot (K)  Tdew (degC)  \\\n",
       "5       01.01.2009 01:00:00    996.50     -8.05    265.38        -8.78   \n",
       "11      01.01.2009 02:00:00    996.62     -8.88    264.54        -9.77   \n",
       "17      01.01.2009 03:00:00    996.84     -8.81    264.59        -9.66   \n",
       "23      01.01.2009 04:00:00    996.99     -9.05    264.34       -10.02   \n",
       "29      01.01.2009 05:00:00    997.46     -9.63    263.72       -10.65   \n",
       "...                     ...       ...       ...       ...          ...   \n",
       "420521  31.12.2016 19:10:00   1002.18     -0.98    272.01        -5.36   \n",
       "420527  31.12.2016 20:10:00   1001.40     -1.40    271.66        -6.84   \n",
       "420533  31.12.2016 21:10:00   1001.19     -2.75    270.32        -6.90   \n",
       "420539  31.12.2016 22:10:00   1000.65     -2.89    270.22        -7.15   \n",
       "420545  31.12.2016 23:10:00   1000.11     -3.93    269.23        -8.09   \n",
       "\n",
       "        rh (%)  VPmax (mbar)  VPact (mbar)  VPdef (mbar)  sh (g/kg)  \\\n",
       "5        94.40          3.33          3.14          0.19       1.96   \n",
       "11       93.20          3.12          2.90          0.21       1.81   \n",
       "17       93.50          3.13          2.93          0.20       1.83   \n",
       "23       92.60          3.07          2.85          0.23       1.78   \n",
       "29       92.20          2.94          2.71          0.23       1.69   \n",
       "...        ...           ...           ...           ...        ...   \n",
       "420521   72.00          5.69          4.09          1.59       2.54   \n",
       "420527   66.29          5.51          3.65          1.86       2.27   \n",
       "420533   72.90          4.99          3.64          1.35       2.26   \n",
       "420539   72.30          4.93          3.57          1.37       2.22   \n",
       "420545   72.60          4.56          3.31          1.25       2.06   \n",
       "\n",
       "        H2OC (mmol/mol)  rho (g/m**3)  wv (m/s)  max. wv (m/s)  wd (deg)  \n",
       "5                  3.15       1307.86      0.21           0.63     192.7  \n",
       "11                 2.91       1312.25      0.25           0.63     190.3  \n",
       "17                 2.94       1312.18      0.18           0.63     167.2  \n",
       "23                 2.85       1313.61      0.10           0.38     240.0  \n",
       "29                 2.71       1317.19      0.40           0.88     157.0  \n",
       "...                 ...           ...       ...            ...       ...  \n",
       "420521             4.08       1280.70      0.87           1.36     190.6  \n",
       "420527             3.65       1281.87      1.02           1.92     225.4  \n",
       "420533             3.63       1288.02      0.71           1.56     158.7  \n",
       "420539             3.57       1288.03      0.35           0.68     216.7  \n",
       "420545             3.31       1292.41      0.56           1.00     202.6  \n",
       "\n",
       "[70091 rows x 15 columns]"
      ]
     },
     "execution_count": 74,
     "metadata": {},
     "output_type": "execute_result"
    }
   ],
   "source": [
    "df = df[5::6]# selects every 6th row from the DataFrame, starting from the row at index 5\n",
    "df"
   ]
  },
  {
   "cell_type": "code",
   "execution_count": 75,
   "metadata": {
    "colab": {
     "base_uri": "https://localhost:8080/",
     "height": 1000
    },
    "id": "C1MZOKB3Sg0X",
    "outputId": "b8ae7e79-5237-49e2-9ece-d5714983768b"
   },
   "outputs": [
    {
     "data": {
      "text/html": [
       "<div>\n",
       "<style scoped>\n",
       "    .dataframe tbody tr th:only-of-type {\n",
       "        vertical-align: middle;\n",
       "    }\n",
       "\n",
       "    .dataframe tbody tr th {\n",
       "        vertical-align: top;\n",
       "    }\n",
       "\n",
       "    .dataframe thead th {\n",
       "        text-align: right;\n",
       "    }\n",
       "</style>\n",
       "<table border=\"1\" class=\"dataframe\">\n",
       "  <thead>\n",
       "    <tr style=\"text-align: right;\">\n",
       "      <th></th>\n",
       "      <th>Date Time</th>\n",
       "      <th>p (mbar)</th>\n",
       "      <th>T (degC)</th>\n",
       "      <th>Tpot (K)</th>\n",
       "      <th>Tdew (degC)</th>\n",
       "      <th>rh (%)</th>\n",
       "      <th>VPmax (mbar)</th>\n",
       "      <th>VPact (mbar)</th>\n",
       "      <th>VPdef (mbar)</th>\n",
       "      <th>sh (g/kg)</th>\n",
       "      <th>H2OC (mmol/mol)</th>\n",
       "      <th>rho (g/m**3)</th>\n",
       "      <th>wv (m/s)</th>\n",
       "      <th>max. wv (m/s)</th>\n",
       "      <th>wd (deg)</th>\n",
       "    </tr>\n",
       "    <tr>\n",
       "      <th>Date Time</th>\n",
       "      <th></th>\n",
       "      <th></th>\n",
       "      <th></th>\n",
       "      <th></th>\n",
       "      <th></th>\n",
       "      <th></th>\n",
       "      <th></th>\n",
       "      <th></th>\n",
       "      <th></th>\n",
       "      <th></th>\n",
       "      <th></th>\n",
       "      <th></th>\n",
       "      <th></th>\n",
       "      <th></th>\n",
       "      <th></th>\n",
       "    </tr>\n",
       "  </thead>\n",
       "  <tbody>\n",
       "    <tr>\n",
       "      <th>2009-01-01 01:00:00</th>\n",
       "      <td>01.01.2009 01:00:00</td>\n",
       "      <td>996.50</td>\n",
       "      <td>-8.05</td>\n",
       "      <td>265.38</td>\n",
       "      <td>-8.78</td>\n",
       "      <td>94.4</td>\n",
       "      <td>3.33</td>\n",
       "      <td>3.14</td>\n",
       "      <td>0.19</td>\n",
       "      <td>1.96</td>\n",
       "      <td>3.15</td>\n",
       "      <td>1307.86</td>\n",
       "      <td>0.21</td>\n",
       "      <td>0.63</td>\n",
       "      <td>192.7</td>\n",
       "    </tr>\n",
       "    <tr>\n",
       "      <th>2009-01-01 02:00:00</th>\n",
       "      <td>01.01.2009 02:00:00</td>\n",
       "      <td>996.62</td>\n",
       "      <td>-8.88</td>\n",
       "      <td>264.54</td>\n",
       "      <td>-9.77</td>\n",
       "      <td>93.2</td>\n",
       "      <td>3.12</td>\n",
       "      <td>2.90</td>\n",
       "      <td>0.21</td>\n",
       "      <td>1.81</td>\n",
       "      <td>2.91</td>\n",
       "      <td>1312.25</td>\n",
       "      <td>0.25</td>\n",
       "      <td>0.63</td>\n",
       "      <td>190.3</td>\n",
       "    </tr>\n",
       "    <tr>\n",
       "      <th>2009-01-01 03:00:00</th>\n",
       "      <td>01.01.2009 03:00:00</td>\n",
       "      <td>996.84</td>\n",
       "      <td>-8.81</td>\n",
       "      <td>264.59</td>\n",
       "      <td>-9.66</td>\n",
       "      <td>93.5</td>\n",
       "      <td>3.13</td>\n",
       "      <td>2.93</td>\n",
       "      <td>0.20</td>\n",
       "      <td>1.83</td>\n",
       "      <td>2.94</td>\n",
       "      <td>1312.18</td>\n",
       "      <td>0.18</td>\n",
       "      <td>0.63</td>\n",
       "      <td>167.2</td>\n",
       "    </tr>\n",
       "    <tr>\n",
       "      <th>2009-01-01 04:00:00</th>\n",
       "      <td>01.01.2009 04:00:00</td>\n",
       "      <td>996.99</td>\n",
       "      <td>-9.05</td>\n",
       "      <td>264.34</td>\n",
       "      <td>-10.02</td>\n",
       "      <td>92.6</td>\n",
       "      <td>3.07</td>\n",
       "      <td>2.85</td>\n",
       "      <td>0.23</td>\n",
       "      <td>1.78</td>\n",
       "      <td>2.85</td>\n",
       "      <td>1313.61</td>\n",
       "      <td>0.10</td>\n",
       "      <td>0.38</td>\n",
       "      <td>240.0</td>\n",
       "    </tr>\n",
       "    <tr>\n",
       "      <th>2009-01-01 05:00:00</th>\n",
       "      <td>01.01.2009 05:00:00</td>\n",
       "      <td>997.46</td>\n",
       "      <td>-9.63</td>\n",
       "      <td>263.72</td>\n",
       "      <td>-10.65</td>\n",
       "      <td>92.2</td>\n",
       "      <td>2.94</td>\n",
       "      <td>2.71</td>\n",
       "      <td>0.23</td>\n",
       "      <td>1.69</td>\n",
       "      <td>2.71</td>\n",
       "      <td>1317.19</td>\n",
       "      <td>0.40</td>\n",
       "      <td>0.88</td>\n",
       "      <td>157.0</td>\n",
       "    </tr>\n",
       "    <tr>\n",
       "      <th>2009-01-01 06:00:00</th>\n",
       "      <td>01.01.2009 06:00:00</td>\n",
       "      <td>997.71</td>\n",
       "      <td>-9.67</td>\n",
       "      <td>263.66</td>\n",
       "      <td>-10.62</td>\n",
       "      <td>92.7</td>\n",
       "      <td>2.93</td>\n",
       "      <td>2.71</td>\n",
       "      <td>0.21</td>\n",
       "      <td>1.69</td>\n",
       "      <td>2.72</td>\n",
       "      <td>1317.71</td>\n",
       "      <td>0.05</td>\n",
       "      <td>0.50</td>\n",
       "      <td>146.0</td>\n",
       "    </tr>\n",
       "    <tr>\n",
       "      <th>2009-01-01 07:00:00</th>\n",
       "      <td>01.01.2009 07:00:00</td>\n",
       "      <td>998.33</td>\n",
       "      <td>-9.17</td>\n",
       "      <td>264.12</td>\n",
       "      <td>-10.10</td>\n",
       "      <td>92.9</td>\n",
       "      <td>3.04</td>\n",
       "      <td>2.83</td>\n",
       "      <td>0.22</td>\n",
       "      <td>1.76</td>\n",
       "      <td>2.83</td>\n",
       "      <td>1315.98</td>\n",
       "      <td>2.08</td>\n",
       "      <td>2.88</td>\n",
       "      <td>348.8</td>\n",
       "    </tr>\n",
       "    <tr>\n",
       "      <th>2009-01-01 08:00:00</th>\n",
       "      <td>01.01.2009 08:00:00</td>\n",
       "      <td>999.17</td>\n",
       "      <td>-8.10</td>\n",
       "      <td>265.12</td>\n",
       "      <td>-9.05</td>\n",
       "      <td>92.8</td>\n",
       "      <td>3.31</td>\n",
       "      <td>3.07</td>\n",
       "      <td>0.24</td>\n",
       "      <td>1.92</td>\n",
       "      <td>3.08</td>\n",
       "      <td>1311.65</td>\n",
       "      <td>0.72</td>\n",
       "      <td>1.25</td>\n",
       "      <td>213.9</td>\n",
       "    </tr>\n",
       "    <tr>\n",
       "      <th>2009-01-01 09:00:00</th>\n",
       "      <td>01.01.2009 09:00:00</td>\n",
       "      <td>999.69</td>\n",
       "      <td>-7.66</td>\n",
       "      <td>265.52</td>\n",
       "      <td>-8.84</td>\n",
       "      <td>91.2</td>\n",
       "      <td>3.43</td>\n",
       "      <td>3.13</td>\n",
       "      <td>0.30</td>\n",
       "      <td>1.95</td>\n",
       "      <td>3.13</td>\n",
       "      <td>1310.14</td>\n",
       "      <td>0.34</td>\n",
       "      <td>0.63</td>\n",
       "      <td>202.2</td>\n",
       "    </tr>\n",
       "    <tr>\n",
       "      <th>2009-01-01 10:00:00</th>\n",
       "      <td>01.01.2009 10:00:00</td>\n",
       "      <td>1000.27</td>\n",
       "      <td>-7.04</td>\n",
       "      <td>266.10</td>\n",
       "      <td>-8.17</td>\n",
       "      <td>91.6</td>\n",
       "      <td>3.60</td>\n",
       "      <td>3.30</td>\n",
       "      <td>0.30</td>\n",
       "      <td>2.05</td>\n",
       "      <td>3.29</td>\n",
       "      <td>1307.76</td>\n",
       "      <td>1.45</td>\n",
       "      <td>3.00</td>\n",
       "      <td>292.6</td>\n",
       "    </tr>\n",
       "    <tr>\n",
       "      <th>2009-01-01 11:00:00</th>\n",
       "      <td>01.01.2009 11:00:00</td>\n",
       "      <td>1000.87</td>\n",
       "      <td>-7.41</td>\n",
       "      <td>265.68</td>\n",
       "      <td>-8.66</td>\n",
       "      <td>90.7</td>\n",
       "      <td>3.50</td>\n",
       "      <td>3.17</td>\n",
       "      <td>0.33</td>\n",
       "      <td>1.97</td>\n",
       "      <td>3.17</td>\n",
       "      <td>1310.43</td>\n",
       "      <td>1.91</td>\n",
       "      <td>3.38</td>\n",
       "      <td>269.6</td>\n",
       "    </tr>\n",
       "    <tr>\n",
       "      <th>2009-01-01 12:00:00</th>\n",
       "      <td>01.01.2009 12:00:00</td>\n",
       "      <td>1000.30</td>\n",
       "      <td>-6.87</td>\n",
       "      <td>266.27</td>\n",
       "      <td>-8.28</td>\n",
       "      <td>89.6</td>\n",
       "      <td>3.64</td>\n",
       "      <td>3.27</td>\n",
       "      <td>0.38</td>\n",
       "      <td>2.03</td>\n",
       "      <td>3.26</td>\n",
       "      <td>1306.98</td>\n",
       "      <td>1.84</td>\n",
       "      <td>2.63</td>\n",
       "      <td>184.4</td>\n",
       "    </tr>\n",
       "    <tr>\n",
       "      <th>2009-01-01 13:00:00</th>\n",
       "      <td>01.01.2009 13:00:00</td>\n",
       "      <td>1000.03</td>\n",
       "      <td>-5.89</td>\n",
       "      <td>267.27</td>\n",
       "      <td>-7.46</td>\n",
       "      <td>88.6</td>\n",
       "      <td>3.93</td>\n",
       "      <td>3.48</td>\n",
       "      <td>0.45</td>\n",
       "      <td>2.17</td>\n",
       "      <td>3.48</td>\n",
       "      <td>1301.73</td>\n",
       "      <td>0.57</td>\n",
       "      <td>1.25</td>\n",
       "      <td>187.3</td>\n",
       "    </tr>\n",
       "    <tr>\n",
       "      <th>2009-01-01 14:00:00</th>\n",
       "      <td>01.01.2009 14:00:00</td>\n",
       "      <td>999.81</td>\n",
       "      <td>-5.94</td>\n",
       "      <td>267.24</td>\n",
       "      <td>-7.43</td>\n",
       "      <td>89.1</td>\n",
       "      <td>3.92</td>\n",
       "      <td>3.49</td>\n",
       "      <td>0.43</td>\n",
       "      <td>2.17</td>\n",
       "      <td>3.49</td>\n",
       "      <td>1301.67</td>\n",
       "      <td>1.25</td>\n",
       "      <td>2.00</td>\n",
       "      <td>144.0</td>\n",
       "    </tr>\n",
       "    <tr>\n",
       "      <th>2009-01-01 15:00:00</th>\n",
       "      <td>01.01.2009 15:00:00</td>\n",
       "      <td>999.88</td>\n",
       "      <td>-5.69</td>\n",
       "      <td>267.48</td>\n",
       "      <td>-7.00</td>\n",
       "      <td>90.4</td>\n",
       "      <td>3.99</td>\n",
       "      <td>3.61</td>\n",
       "      <td>0.38</td>\n",
       "      <td>2.25</td>\n",
       "      <td>3.61</td>\n",
       "      <td>1300.51</td>\n",
       "      <td>1.17</td>\n",
       "      <td>1.88</td>\n",
       "      <td>134.9</td>\n",
       "    </tr>\n",
       "    <tr>\n",
       "      <th>2009-01-01 16:00:00</th>\n",
       "      <td>01.01.2009 16:00:00</td>\n",
       "      <td>999.94</td>\n",
       "      <td>-5.40</td>\n",
       "      <td>267.76</td>\n",
       "      <td>-6.86</td>\n",
       "      <td>89.4</td>\n",
       "      <td>4.08</td>\n",
       "      <td>3.65</td>\n",
       "      <td>0.43</td>\n",
       "      <td>2.27</td>\n",
       "      <td>3.65</td>\n",
       "      <td>1299.17</td>\n",
       "      <td>1.40</td>\n",
       "      <td>2.13</td>\n",
       "      <td>145.5</td>\n",
       "    </tr>\n",
       "    <tr>\n",
       "      <th>2009-01-01 17:00:00</th>\n",
       "      <td>01.01.2009 17:00:00</td>\n",
       "      <td>1000.17</td>\n",
       "      <td>-5.37</td>\n",
       "      <td>267.78</td>\n",
       "      <td>-6.82</td>\n",
       "      <td>89.4</td>\n",
       "      <td>4.09</td>\n",
       "      <td>3.66</td>\n",
       "      <td>0.43</td>\n",
       "      <td>2.28</td>\n",
       "      <td>3.66</td>\n",
       "      <td>1299.27</td>\n",
       "      <td>0.85</td>\n",
       "      <td>1.63</td>\n",
       "      <td>142.2</td>\n",
       "    </tr>\n",
       "    <tr>\n",
       "      <th>2009-01-01 18:00:00</th>\n",
       "      <td>01.01.2009 18:00:00</td>\n",
       "      <td>1000.16</td>\n",
       "      <td>-5.25</td>\n",
       "      <td>267.90</td>\n",
       "      <td>-6.75</td>\n",
       "      <td>89.1</td>\n",
       "      <td>4.13</td>\n",
       "      <td>3.68</td>\n",
       "      <td>0.45</td>\n",
       "      <td>2.29</td>\n",
       "      <td>3.68</td>\n",
       "      <td>1298.68</td>\n",
       "      <td>0.55</td>\n",
       "      <td>1.00</td>\n",
       "      <td>183.7</td>\n",
       "    </tr>\n",
       "    <tr>\n",
       "      <th>2009-01-01 19:00:00</th>\n",
       "      <td>01.01.2009 19:00:00</td>\n",
       "      <td>1000.22</td>\n",
       "      <td>-5.11</td>\n",
       "      <td>268.03</td>\n",
       "      <td>-6.57</td>\n",
       "      <td>89.4</td>\n",
       "      <td>4.17</td>\n",
       "      <td>3.73</td>\n",
       "      <td>0.44</td>\n",
       "      <td>2.32</td>\n",
       "      <td>3.73</td>\n",
       "      <td>1298.07</td>\n",
       "      <td>0.41</td>\n",
       "      <td>0.75</td>\n",
       "      <td>176.7</td>\n",
       "    </tr>\n",
       "    <tr>\n",
       "      <th>2009-01-01 20:00:00</th>\n",
       "      <td>01.01.2009 20:00:00</td>\n",
       "      <td>1000.22</td>\n",
       "      <td>-4.90</td>\n",
       "      <td>268.24</td>\n",
       "      <td>-6.38</td>\n",
       "      <td>89.3</td>\n",
       "      <td>4.24</td>\n",
       "      <td>3.79</td>\n",
       "      <td>0.45</td>\n",
       "      <td>2.36</td>\n",
       "      <td>3.78</td>\n",
       "      <td>1297.05</td>\n",
       "      <td>0.68</td>\n",
       "      <td>1.13</td>\n",
       "      <td>195.2</td>\n",
       "    </tr>\n",
       "    <tr>\n",
       "      <th>2009-01-01 21:00:00</th>\n",
       "      <td>01.01.2009 21:00:00</td>\n",
       "      <td>1000.19</td>\n",
       "      <td>-4.80</td>\n",
       "      <td>268.35</td>\n",
       "      <td>-6.14</td>\n",
       "      <td>90.2</td>\n",
       "      <td>4.27</td>\n",
       "      <td>3.85</td>\n",
       "      <td>0.42</td>\n",
       "      <td>2.40</td>\n",
       "      <td>3.85</td>\n",
       "      <td>1296.45</td>\n",
       "      <td>0.44</td>\n",
       "      <td>0.75</td>\n",
       "      <td>206.3</td>\n",
       "    </tr>\n",
       "    <tr>\n",
       "      <th>2009-01-01 22:00:00</th>\n",
       "      <td>01.01.2009 22:00:00</td>\n",
       "      <td>1000.00</td>\n",
       "      <td>-4.50</td>\n",
       "      <td>268.66</td>\n",
       "      <td>-5.82</td>\n",
       "      <td>90.4</td>\n",
       "      <td>4.37</td>\n",
       "      <td>3.95</td>\n",
       "      <td>0.42</td>\n",
       "      <td>2.46</td>\n",
       "      <td>3.95</td>\n",
       "      <td>1294.72</td>\n",
       "      <td>0.33</td>\n",
       "      <td>0.63</td>\n",
       "      <td>175.7</td>\n",
       "    </tr>\n",
       "    <tr>\n",
       "      <th>2009-01-01 23:00:00</th>\n",
       "      <td>01.01.2009 23:00:00</td>\n",
       "      <td>999.77</td>\n",
       "      <td>-4.47</td>\n",
       "      <td>268.71</td>\n",
       "      <td>-5.84</td>\n",
       "      <td>90.1</td>\n",
       "      <td>4.38</td>\n",
       "      <td>3.95</td>\n",
       "      <td>0.43</td>\n",
       "      <td>2.46</td>\n",
       "      <td>3.95</td>\n",
       "      <td>1294.29</td>\n",
       "      <td>0.65</td>\n",
       "      <td>1.00</td>\n",
       "      <td>219.3</td>\n",
       "    </tr>\n",
       "    <tr>\n",
       "      <th>2009-01-02 00:00:00</th>\n",
       "      <td>02.01.2009 00:00:00</td>\n",
       "      <td>999.59</td>\n",
       "      <td>-4.54</td>\n",
       "      <td>268.65</td>\n",
       "      <td>-5.46</td>\n",
       "      <td>93.2</td>\n",
       "      <td>4.36</td>\n",
       "      <td>4.06</td>\n",
       "      <td>0.30</td>\n",
       "      <td>2.53</td>\n",
       "      <td>4.06</td>\n",
       "      <td>1294.33</td>\n",
       "      <td>0.41</td>\n",
       "      <td>0.88</td>\n",
       "      <td>155.0</td>\n",
       "    </tr>\n",
       "    <tr>\n",
       "      <th>2009-01-02 01:00:00</th>\n",
       "      <td>02.01.2009 01:00:00</td>\n",
       "      <td>999.34</td>\n",
       "      <td>-4.44</td>\n",
       "      <td>268.77</td>\n",
       "      <td>-5.19</td>\n",
       "      <td>94.4</td>\n",
       "      <td>4.39</td>\n",
       "      <td>4.15</td>\n",
       "      <td>0.25</td>\n",
       "      <td>2.58</td>\n",
       "      <td>4.15</td>\n",
       "      <td>1293.47</td>\n",
       "      <td>0.28</td>\n",
       "      <td>1.00</td>\n",
       "      <td>148.1</td>\n",
       "    </tr>\n",
       "    <tr>\n",
       "      <th>2009-01-02 02:00:00</th>\n",
       "      <td>02.01.2009 02:00:00</td>\n",
       "      <td>998.93</td>\n",
       "      <td>-4.29</td>\n",
       "      <td>268.95</td>\n",
       "      <td>-5.04</td>\n",
       "      <td>94.5</td>\n",
       "      <td>4.44</td>\n",
       "      <td>4.20</td>\n",
       "      <td>0.24</td>\n",
       "      <td>2.62</td>\n",
       "      <td>4.20</td>\n",
       "      <td>1292.22</td>\n",
       "      <td>0.49</td>\n",
       "      <td>0.88</td>\n",
       "      <td>209.8</td>\n",
       "    </tr>\n",
       "  </tbody>\n",
       "</table>\n",
       "</div>"
      ],
      "text/plain": [
       "                               Date Time  p (mbar)  T (degC)  Tpot (K)  \\\n",
       "Date Time                                                                \n",
       "2009-01-01 01:00:00  01.01.2009 01:00:00    996.50     -8.05    265.38   \n",
       "2009-01-01 02:00:00  01.01.2009 02:00:00    996.62     -8.88    264.54   \n",
       "2009-01-01 03:00:00  01.01.2009 03:00:00    996.84     -8.81    264.59   \n",
       "2009-01-01 04:00:00  01.01.2009 04:00:00    996.99     -9.05    264.34   \n",
       "2009-01-01 05:00:00  01.01.2009 05:00:00    997.46     -9.63    263.72   \n",
       "2009-01-01 06:00:00  01.01.2009 06:00:00    997.71     -9.67    263.66   \n",
       "2009-01-01 07:00:00  01.01.2009 07:00:00    998.33     -9.17    264.12   \n",
       "2009-01-01 08:00:00  01.01.2009 08:00:00    999.17     -8.10    265.12   \n",
       "2009-01-01 09:00:00  01.01.2009 09:00:00    999.69     -7.66    265.52   \n",
       "2009-01-01 10:00:00  01.01.2009 10:00:00   1000.27     -7.04    266.10   \n",
       "2009-01-01 11:00:00  01.01.2009 11:00:00   1000.87     -7.41    265.68   \n",
       "2009-01-01 12:00:00  01.01.2009 12:00:00   1000.30     -6.87    266.27   \n",
       "2009-01-01 13:00:00  01.01.2009 13:00:00   1000.03     -5.89    267.27   \n",
       "2009-01-01 14:00:00  01.01.2009 14:00:00    999.81     -5.94    267.24   \n",
       "2009-01-01 15:00:00  01.01.2009 15:00:00    999.88     -5.69    267.48   \n",
       "2009-01-01 16:00:00  01.01.2009 16:00:00    999.94     -5.40    267.76   \n",
       "2009-01-01 17:00:00  01.01.2009 17:00:00   1000.17     -5.37    267.78   \n",
       "2009-01-01 18:00:00  01.01.2009 18:00:00   1000.16     -5.25    267.90   \n",
       "2009-01-01 19:00:00  01.01.2009 19:00:00   1000.22     -5.11    268.03   \n",
       "2009-01-01 20:00:00  01.01.2009 20:00:00   1000.22     -4.90    268.24   \n",
       "2009-01-01 21:00:00  01.01.2009 21:00:00   1000.19     -4.80    268.35   \n",
       "2009-01-01 22:00:00  01.01.2009 22:00:00   1000.00     -4.50    268.66   \n",
       "2009-01-01 23:00:00  01.01.2009 23:00:00    999.77     -4.47    268.71   \n",
       "2009-01-02 00:00:00  02.01.2009 00:00:00    999.59     -4.54    268.65   \n",
       "2009-01-02 01:00:00  02.01.2009 01:00:00    999.34     -4.44    268.77   \n",
       "2009-01-02 02:00:00  02.01.2009 02:00:00    998.93     -4.29    268.95   \n",
       "\n",
       "                     Tdew (degC)  rh (%)  VPmax (mbar)  VPact (mbar)  \\\n",
       "Date Time                                                              \n",
       "2009-01-01 01:00:00        -8.78    94.4          3.33          3.14   \n",
       "2009-01-01 02:00:00        -9.77    93.2          3.12          2.90   \n",
       "2009-01-01 03:00:00        -9.66    93.5          3.13          2.93   \n",
       "2009-01-01 04:00:00       -10.02    92.6          3.07          2.85   \n",
       "2009-01-01 05:00:00       -10.65    92.2          2.94          2.71   \n",
       "2009-01-01 06:00:00       -10.62    92.7          2.93          2.71   \n",
       "2009-01-01 07:00:00       -10.10    92.9          3.04          2.83   \n",
       "2009-01-01 08:00:00        -9.05    92.8          3.31          3.07   \n",
       "2009-01-01 09:00:00        -8.84    91.2          3.43          3.13   \n",
       "2009-01-01 10:00:00        -8.17    91.6          3.60          3.30   \n",
       "2009-01-01 11:00:00        -8.66    90.7          3.50          3.17   \n",
       "2009-01-01 12:00:00        -8.28    89.6          3.64          3.27   \n",
       "2009-01-01 13:00:00        -7.46    88.6          3.93          3.48   \n",
       "2009-01-01 14:00:00        -7.43    89.1          3.92          3.49   \n",
       "2009-01-01 15:00:00        -7.00    90.4          3.99          3.61   \n",
       "2009-01-01 16:00:00        -6.86    89.4          4.08          3.65   \n",
       "2009-01-01 17:00:00        -6.82    89.4          4.09          3.66   \n",
       "2009-01-01 18:00:00        -6.75    89.1          4.13          3.68   \n",
       "2009-01-01 19:00:00        -6.57    89.4          4.17          3.73   \n",
       "2009-01-01 20:00:00        -6.38    89.3          4.24          3.79   \n",
       "2009-01-01 21:00:00        -6.14    90.2          4.27          3.85   \n",
       "2009-01-01 22:00:00        -5.82    90.4          4.37          3.95   \n",
       "2009-01-01 23:00:00        -5.84    90.1          4.38          3.95   \n",
       "2009-01-02 00:00:00        -5.46    93.2          4.36          4.06   \n",
       "2009-01-02 01:00:00        -5.19    94.4          4.39          4.15   \n",
       "2009-01-02 02:00:00        -5.04    94.5          4.44          4.20   \n",
       "\n",
       "                     VPdef (mbar)  sh (g/kg)  H2OC (mmol/mol)  rho (g/m**3)  \\\n",
       "Date Time                                                                     \n",
       "2009-01-01 01:00:00          0.19       1.96             3.15       1307.86   \n",
       "2009-01-01 02:00:00          0.21       1.81             2.91       1312.25   \n",
       "2009-01-01 03:00:00          0.20       1.83             2.94       1312.18   \n",
       "2009-01-01 04:00:00          0.23       1.78             2.85       1313.61   \n",
       "2009-01-01 05:00:00          0.23       1.69             2.71       1317.19   \n",
       "2009-01-01 06:00:00          0.21       1.69             2.72       1317.71   \n",
       "2009-01-01 07:00:00          0.22       1.76             2.83       1315.98   \n",
       "2009-01-01 08:00:00          0.24       1.92             3.08       1311.65   \n",
       "2009-01-01 09:00:00          0.30       1.95             3.13       1310.14   \n",
       "2009-01-01 10:00:00          0.30       2.05             3.29       1307.76   \n",
       "2009-01-01 11:00:00          0.33       1.97             3.17       1310.43   \n",
       "2009-01-01 12:00:00          0.38       2.03             3.26       1306.98   \n",
       "2009-01-01 13:00:00          0.45       2.17             3.48       1301.73   \n",
       "2009-01-01 14:00:00          0.43       2.17             3.49       1301.67   \n",
       "2009-01-01 15:00:00          0.38       2.25             3.61       1300.51   \n",
       "2009-01-01 16:00:00          0.43       2.27             3.65       1299.17   \n",
       "2009-01-01 17:00:00          0.43       2.28             3.66       1299.27   \n",
       "2009-01-01 18:00:00          0.45       2.29             3.68       1298.68   \n",
       "2009-01-01 19:00:00          0.44       2.32             3.73       1298.07   \n",
       "2009-01-01 20:00:00          0.45       2.36             3.78       1297.05   \n",
       "2009-01-01 21:00:00          0.42       2.40             3.85       1296.45   \n",
       "2009-01-01 22:00:00          0.42       2.46             3.95       1294.72   \n",
       "2009-01-01 23:00:00          0.43       2.46             3.95       1294.29   \n",
       "2009-01-02 00:00:00          0.30       2.53             4.06       1294.33   \n",
       "2009-01-02 01:00:00          0.25       2.58             4.15       1293.47   \n",
       "2009-01-02 02:00:00          0.24       2.62             4.20       1292.22   \n",
       "\n",
       "                     wv (m/s)  max. wv (m/s)  wd (deg)  \n",
       "Date Time                                               \n",
       "2009-01-01 01:00:00      0.21           0.63     192.7  \n",
       "2009-01-01 02:00:00      0.25           0.63     190.3  \n",
       "2009-01-01 03:00:00      0.18           0.63     167.2  \n",
       "2009-01-01 04:00:00      0.10           0.38     240.0  \n",
       "2009-01-01 05:00:00      0.40           0.88     157.0  \n",
       "2009-01-01 06:00:00      0.05           0.50     146.0  \n",
       "2009-01-01 07:00:00      2.08           2.88     348.8  \n",
       "2009-01-01 08:00:00      0.72           1.25     213.9  \n",
       "2009-01-01 09:00:00      0.34           0.63     202.2  \n",
       "2009-01-01 10:00:00      1.45           3.00     292.6  \n",
       "2009-01-01 11:00:00      1.91           3.38     269.6  \n",
       "2009-01-01 12:00:00      1.84           2.63     184.4  \n",
       "2009-01-01 13:00:00      0.57           1.25     187.3  \n",
       "2009-01-01 14:00:00      1.25           2.00     144.0  \n",
       "2009-01-01 15:00:00      1.17           1.88     134.9  \n",
       "2009-01-01 16:00:00      1.40           2.13     145.5  \n",
       "2009-01-01 17:00:00      0.85           1.63     142.2  \n",
       "2009-01-01 18:00:00      0.55           1.00     183.7  \n",
       "2009-01-01 19:00:00      0.41           0.75     176.7  \n",
       "2009-01-01 20:00:00      0.68           1.13     195.2  \n",
       "2009-01-01 21:00:00      0.44           0.75     206.3  \n",
       "2009-01-01 22:00:00      0.33           0.63     175.7  \n",
       "2009-01-01 23:00:00      0.65           1.00     219.3  \n",
       "2009-01-02 00:00:00      0.41           0.88     155.0  \n",
       "2009-01-02 01:00:00      0.28           1.00     148.1  \n",
       "2009-01-02 02:00:00      0.49           0.88     209.8  "
      ]
     },
     "execution_count": 75,
     "metadata": {},
     "output_type": "execute_result"
    }
   ],
   "source": [
    "df.index = pd.to_datetime(df['Date Time'], format='%d.%m.%Y %H:%M:%S')#display the first 26 rows of the datetime format\n",
    "df[:26]"
   ]
  },
  {
   "cell_type": "code",
   "execution_count": 76,
   "metadata": {
    "colab": {
     "base_uri": "https://localhost:8080/",
     "height": 289
    },
    "id": "3fWZ3nYxS3oe",
    "outputId": "39e85f19-f71c-471d-eed6-a1552cb0b769"
   },
   "outputs": [
    {
     "data": {
      "text/plain": [
       "<Axes: xlabel='Date Time'>"
      ]
     },
     "execution_count": 76,
     "metadata": {},
     "output_type": "execute_result"
    },
    {
     "data": {
      "image/png": "[encoded data removed]",
      "text/plain": [
       "<Figure size 640x480 with 1 Axes>"
      ]
     },
     "metadata": {},
     "output_type": "display_data"
    }
   ],
   "source": [
    "temp = df['T (degC)']#select a specific column from the DataFrame\n",
    "temp.plot()#create a line plot "
   ]
  },
  {
   "cell_type": "code",
   "execution_count": 77,
   "metadata": {
    "id": "bY2yEu2QTBXP"
   },
   "outputs": [],
   "source": [
    "# [[[1], [2], [3], [4], [5]]] [6]\n",
    "# [[[2], [3], [4], [5], [6]]] [7]\n",
    "# [[[3], [4], [5], [6], [7]]] [8]\n",
    "\n",
    "def df_to_X_y(df, window_size=5):#defines a function with number of previous time steps\n",
    "  df_as_np = df.to_numpy()#Converts the DataFrame df into a NumPy array\n",
    "  X = []#empty list that will store the input sequences\n",
    "  y = []#empty list that will store the target values\n",
    "  for i in range(len(df_as_np)-window_size):#Loop to Create Input Sequences and Labels\n",
    "    row = [[a] for a in df_as_np[i:i+window_size]]#Create Input Features for Each Window:\n",
    "    X.append(row)#Adds the created window (sequence) to the X list\n",
    "    label = df_as_np[i+window_size]#Create Target Labels for Each Window\n",
    "    y.append(label)#Adds this label (next data point) to the y list\n",
    "  return np.array(X), np.array(y)# Converts the list X and list Y into a NumPy array"
   ]
  },
  {
   "cell_type": "code",
   "execution_count": 78,
   "metadata": {
    "colab": {
     "base_uri": "https://localhost:8080/"
    },
    "id": "qhGUH0NoV9Zq",
    "outputId": "c18fba4f-40c7-4555-f5ae-32bcf916a5c2"
   },
   "outputs": [
    {
     "data": {
      "text/plain": [
       "((70086, 5, 1), (70086,))"
      ]
     },
     "execution_count": 78,
     "metadata": {},
     "output_type": "execute_result"
    }
   ],
   "source": [
    "WINDOW_SIZE = 5\n",
    "X1, y1 = df_to_X_y(temp, WINDOW_SIZE)#Generate input-output pairs using df_to_X_y\n",
    "X1.shape, y1.shape # Check the shapes of the arrays (X1 and y1)"
   ]
  },
  {
   "cell_type": "code",
   "execution_count": 79,
   "metadata": {
    "colab": {
     "base_uri": "https://localhost:8080/"
    },
    "id": "Vsy2-BjnWMhB",
    "outputId": "d0c731ff-68d6-4165-8f5c-43c5dc3b145b"
   },
   "outputs": [
    {
     "data": {
      "text/plain": [
       "((60000, 5, 1), (60000,), (5000, 5, 1), (5000,), (5086, 5, 1), (5086,))"
      ]
     },
     "execution_count": 79,
     "metadata": {},
     "output_type": "execute_result"
    }
   ],
   "source": [
    "#Split the Data into Training, Validation, and Test Sets\n",
    "X_train1, y_train1 = X1[:60000], y1[:60000]#training data and labels with selects the first 60,000 samples from the X1,Y1 array\n",
    "X_val1, y_val1 = X1[60000:65000], y1[60000:65000]#validation data and labels with selects the next 5,000 labels from the y1,X1\n",
    "X_test1, y_test1 = X1[65000:], y1[65000:]#test data and labels with selects all the remaining samples from index 65,000 to the end of the X1,Y1\n",
    "X_train1.shape, y_train1.shape, X_val1.shape, y_val1.shape, X_test1.shape, y_test1.shape #Check the Shapes of the Splitted Data"
   ]
  },
  {
   "cell_type": "code",
   "execution_count": 80,
   "metadata": {
    "colab": {
     "base_uri": "https://localhost:8080/"
    },
    "id": "4jZz4ZjpW217",
    "outputId": "cd0012a7-a71d-48de-ae20-6b5ff97d37c9"
   },
   "outputs": [
    {
     "name": "stdout",
     "output_type": "stream",
     "text": [
      "Model: \"sequential_7\"\n",
      "_________________________________________________________________\n",
      " Layer (type)                Output Shape              Param #   \n",
      "=================================================================\n",
      " lstm_5 (LSTM)               (None, 64)                16896     \n",
      "                                                                 \n",
      " dense_14 (Dense)            (None, 8)                 520       \n",
      "                                                                 \n",
      " dense_15 (Dense)            (None, 1)                 9         \n",
      "                                                                 \n",
      "=================================================================\n",
      "Total params: 17425 (68.07 KB)\n",
      "Trainable params: 17425 (68.07 KB)\n",
      "Non-trainable params: 0 (0.00 Byte)\n",
      "_________________________________________________________________\n"
     ]
    }
   ],
   "source": [
    "from tensorflow.keras.models import Sequential\n",
    "from tensorflow.keras.layers import *\n",
    "from tensorflow.keras.callbacks import ModelCheckpoint\n",
    "from tensorflow.keras.losses import MeanSquaredError\n",
    "from tensorflow.keras.metrics import RootMeanSquaredError\n",
    "from tensorflow.keras.optimizers import Adam\n",
    "\n",
    "model1 = Sequential()#Model Definition\n",
    "model1.add(InputLayer((5, 1)))#Adds an input layer to the model with Specifies the shape\n",
    "model1.add(LSTM(64))#Adds an LSTM layer with 64 units\n",
    "model1.add(Dense(8, 'relu'))#Adds a fully connected layer with 8 units and ReLU activation\n",
    "model1.add(Dense(1, 'linear'))#Adds a final dense layer with 1 unit and a linear activation function\n",
    "\n",
    "model1.summary()#Displays a summary of the model architecture"
   ]
  },
  {
   "cell_type": "code",
   "execution_count": 81,
   "metadata": {
    "id": "5jMK7auDXwEr"
   },
   "outputs": [],
   "source": [
    "cp1 = ModelCheckpoint('model1/', save_best_only=True)#used to save the model during training\n",
    "model1.compile(loss=MeanSquaredError(), optimizer=Adam(learning_rate=0.0001), metrics=[RootMeanSquaredError()])#Compiling the Model"
   ]
  },
  {
   "cell_type": "code",
   "execution_count": 82,
   "metadata": {
    "colab": {
     "base_uri": "https://localhost:8080/"
    },
    "id": "CWeSakSwYLtr",
    "outputId": "9977d223-2642-449a-db72-97a6f52bacdd"
   },
   "outputs": [
    {
     "name": "stdout",
     "output_type": "stream",
     "text": [
      "Epoch 1/10\n",
      "1869/1875 [============================>.] - ETA: 0s - loss: 31.0623 - root_mean_squared_error: 5.5734INFO:tensorflow:Assets written to: model1\\assets\n"
     ]
    },
    {
     "name": "stderr",
     "output_type": "stream",
     "text": [
      "INFO:tensorflow:Assets written to: model1\\assets\n"
     ]
    },
    {
     "name": "stdout",
     "output_type": "stream",
     "text": [
      "1875/1875 [==============================] - 25s 11ms/step - loss: 30.9719 - root_mean_squared_error: 5.5652 - val_loss: 1.0917 - val_root_mean_squared_error: 1.0448\n",
      "Epoch 2/10\n",
      "1874/1875 [============================>.] - ETA: 0s - loss: 1.7621 - root_mean_squared_error: 1.3275INFO:tensorflow:Assets written to: model1\\assets\n"
     ]
    },
    {
     "name": "stderr",
     "output_type": "stream",
     "text": [
      "INFO:tensorflow:Assets written to: model1\\assets\n"
     ]
    },
    {
     "name": "stdout",
     "output_type": "stream",
     "text": [
      "1875/1875 [==============================] - 19s 10ms/step - loss: 1.7617 - root_mean_squared_error: 1.3273 - val_loss: 0.6082 - val_root_mean_squared_error: 0.7799\n",
      "Epoch 3/10\n",
      "1871/1875 [============================>.] - ETA: 0s - loss: 0.8921 - root_mean_squared_error: 0.9445INFO:tensorflow:Assets written to: model1\\assets\n"
     ]
    },
    {
     "name": "stderr",
     "output_type": "stream",
     "text": [
      "INFO:tensorflow:Assets written to: model1\\assets\n"
     ]
    },
    {
     "name": "stdout",
     "output_type": "stream",
     "text": [
      "1875/1875 [==============================] - 20s 11ms/step - loss: 0.8924 - root_mean_squared_error: 0.9446 - val_loss: 0.5496 - val_root_mean_squared_error: 0.7414\n",
      "Epoch 4/10\n",
      "1874/1875 [============================>.] - ETA: 0s - loss: 0.7267 - root_mean_squared_error: 0.8525INFO:tensorflow:Assets written to: model1\\assets\n"
     ]
    },
    {
     "name": "stderr",
     "output_type": "stream",
     "text": [
      "INFO:tensorflow:Assets written to: model1\\assets\n"
     ]
    },
    {
     "name": "stdout",
     "output_type": "stream",
     "text": [
      "1875/1875 [==============================] - 20s 11ms/step - loss: 0.7267 - root_mean_squared_error: 0.8524 - val_loss: 0.5218 - val_root_mean_squared_error: 0.7223\n",
      "Epoch 5/10\n",
      "1871/1875 [============================>.] - ETA: 0s - loss: 0.6793 - root_mean_squared_error: 0.8242INFO:tensorflow:Assets written to: model1\\assets\n"
     ]
    },
    {
     "name": "stderr",
     "output_type": "stream",
     "text": [
      "INFO:tensorflow:Assets written to: model1\\assets\n"
     ]
    },
    {
     "name": "stdout",
     "output_type": "stream",
     "text": [
      "1875/1875 [==============================] - 21s 11ms/step - loss: 0.6791 - root_mean_squared_error: 0.8240 - val_loss: 0.5000 - val_root_mean_squared_error: 0.7071\n",
      "Epoch 6/10\n",
      "1874/1875 [============================>.] - ETA: 0s - loss: 0.6644 - root_mean_squared_error: 0.8151INFO:tensorflow:Assets written to: model1\\assets\n"
     ]
    },
    {
     "name": "stderr",
     "output_type": "stream",
     "text": [
      "INFO:tensorflow:Assets written to: model1\\assets\n"
     ]
    },
    {
     "name": "stdout",
     "output_type": "stream",
     "text": [
      "1875/1875 [==============================] - 21s 11ms/step - loss: 0.6645 - root_mean_squared_error: 0.8152 - val_loss: 0.4938 - val_root_mean_squared_error: 0.7027\n",
      "Epoch 7/10\n",
      "1875/1875 [==============================] - 15s 8ms/step - loss: 0.6565 - root_mean_squared_error: 0.8102 - val_loss: 0.4968 - val_root_mean_squared_error: 0.7048\n",
      "Epoch 8/10\n",
      "1875/1875 [==============================] - 16s 8ms/step - loss: 0.6520 - root_mean_squared_error: 0.8075 - val_loss: 0.4944 - val_root_mean_squared_error: 0.7032\n",
      "Epoch 9/10\n",
      "1875/1875 [==============================] - 15s 8ms/step - loss: 0.6483 - root_mean_squared_error: 0.8052 - val_loss: 0.5160 - val_root_mean_squared_error: 0.7184\n",
      "Epoch 10/10\n",
      "1870/1875 [============================>.] - ETA: 0s - loss: 0.6457 - root_mean_squared_error: 0.8036INFO:tensorflow:Assets written to: model1\\assets\n"
     ]
    },
    {
     "name": "stderr",
     "output_type": "stream",
     "text": [
      "INFO:tensorflow:Assets written to: model1\\assets\n"
     ]
    },
    {
     "name": "stdout",
     "output_type": "stream",
     "text": [
      "1875/1875 [==============================] - 21s 11ms/step - loss: 0.6458 - root_mean_squared_error: 0.8036 - val_loss: 0.4878 - val_root_mean_squared_error: 0.6984\n"
     ]
    },
    {
     "data": {
      "text/plain": [
       "<keras.src.callbacks.History at 0x1ee00095610>"
      ]
     },
     "execution_count": 82,
     "metadata": {},
     "output_type": "execute_result"
    }
   ],
   "source": [
    "model1.fit(X_train1, y_train1, validation_data=(X_val1, y_val1), epochs=10, callbacks=[cp1])#Training the Model"
   ]
  },
  {
   "cell_type": "code",
   "execution_count": 83,
   "metadata": {
    "id": "vdaqGHG4YZkN"
   },
   "outputs": [],
   "source": [
    "#Loading the Saved Model\n",
    "from tensorflow.keras.models import load_model\n",
    "model1 = load_model('model1/')"
   ]
  },
  {
   "cell_type": "code",
   "execution_count": 84,
   "metadata": {
    "colab": {
     "base_uri": "https://localhost:8080/",
     "height": 417
    },
    "id": "byObmr8CZRhp",
    "outputId": "d11e1086-ae1f-414e-b9d2-f6412487f00c"
   },
   "outputs": [
    {
     "name": "stdout",
     "output_type": "stream",
     "text": [
      "1875/1875 [==============================] - 10s 5ms/step\n"
     ]
    },
    {
     "data": {
      "text/html": [
       "<div>\n",
       "<style scoped>\n",
       "    .dataframe tbody tr th:only-of-type {\n",
       "        vertical-align: middle;\n",
       "    }\n",
       "\n",
       "    .dataframe tbody tr th {\n",
       "        vertical-align: top;\n",
       "    }\n",
       "\n",
       "    .dataframe thead th {\n",
       "        text-align: right;\n",
       "    }\n",
       "</style>\n",
       "<table border=\"1\" class=\"dataframe\">\n",
       "  <thead>\n",
       "    <tr style=\"text-align: right;\">\n",
       "      <th></th>\n",
       "      <th>Train Predictions</th>\n",
       "      <th>Actuals</th>\n",
       "    </tr>\n",
       "  </thead>\n",
       "  <tbody>\n",
       "    <tr>\n",
       "      <th>0</th>\n",
       "      <td>-9.813815</td>\n",
       "      <td>-9.67</td>\n",
       "    </tr>\n",
       "    <tr>\n",
       "      <th>1</th>\n",
       "      <td>-9.570124</td>\n",
       "      <td>-9.17</td>\n",
       "    </tr>\n",
       "    <tr>\n",
       "      <th>2</th>\n",
       "      <td>-8.632229</td>\n",
       "      <td>-8.10</td>\n",
       "    </tr>\n",
       "    <tr>\n",
       "      <th>3</th>\n",
       "      <td>-7.129507</td>\n",
       "      <td>-7.66</td>\n",
       "    </tr>\n",
       "    <tr>\n",
       "      <th>4</th>\n",
       "      <td>-7.084054</td>\n",
       "      <td>-7.04</td>\n",
       "    </tr>\n",
       "    <tr>\n",
       "      <th>...</th>\n",
       "      <td>...</td>\n",
       "      <td>...</td>\n",
       "    </tr>\n",
       "    <tr>\n",
       "      <th>59995</th>\n",
       "      <td>5.990815</td>\n",
       "      <td>6.07</td>\n",
       "    </tr>\n",
       "    <tr>\n",
       "      <th>59996</th>\n",
       "      <td>7.239703</td>\n",
       "      <td>9.88</td>\n",
       "    </tr>\n",
       "    <tr>\n",
       "      <th>59997</th>\n",
       "      <td>12.242669</td>\n",
       "      <td>13.53</td>\n",
       "    </tr>\n",
       "    <tr>\n",
       "      <th>59998</th>\n",
       "      <td>15.838144</td>\n",
       "      <td>15.43</td>\n",
       "    </tr>\n",
       "    <tr>\n",
       "      <th>59999</th>\n",
       "      <td>16.206194</td>\n",
       "      <td>15.54</td>\n",
       "    </tr>\n",
       "  </tbody>\n",
       "</table>\n",
       "<p>60000 rows × 2 columns</p>\n",
       "</div>"
      ],
      "text/plain": [
       "       Train Predictions  Actuals\n",
       "0              -9.813815    -9.67\n",
       "1              -9.570124    -9.17\n",
       "2              -8.632229    -8.10\n",
       "3              -7.129507    -7.66\n",
       "4              -7.084054    -7.04\n",
       "...                  ...      ...\n",
       "59995           5.990815     6.07\n",
       "59996           7.239703     9.88\n",
       "59997          12.242669    13.53\n",
       "59998          15.838144    15.43\n",
       "59999          16.206194    15.54\n",
       "\n",
       "[60000 rows x 2 columns]"
      ]
     },
     "execution_count": 84,
     "metadata": {},
     "output_type": "execute_result"
    }
   ],
   "source": [
    "train_predictions = model1.predict(X_train1).flatten()#Making Predictions on the Training Data\n",
    "train_results = pd.DataFrame(data={'Train Predictions':train_predictions, 'Actuals':y_train1})#Creating a DataFrame for Results\n",
    "train_results #Displaying the DataFrame"
   ]
  },
  {
   "cell_type": "code",
   "execution_count": 85,
   "metadata": {
    "colab": {
     "base_uri": "https://localhost:8080/",
     "height": 282
    },
    "id": "KTqY8r6_Zpev",
    "outputId": "012c15d4-b097-4eb5-dd73-10cd2e893780"
   },
   "outputs": [
    {
     "data": {
      "text/plain": [
       "[<matplotlib.lines.Line2D at 0x1ee65fa0650>]"
      ]
     },
     "execution_count": 85,
     "metadata": {},
     "output_type": "execute_result"
    },
    {
     "data": {
      "image/png": "[encoded data removed]",
      "text/plain": [
       "<Figure size 640x480 with 1 Axes>"
      ]
     },
     "metadata": {},
     "output_type": "display_data"
    }
   ],
   "source": [
    "import matplotlib.pyplot as plt\n",
    "plt.plot(train_results['Train Predictions'][50:100])#Plotting the Predicted Values\n",
    "plt.plot(train_results['Actuals'][50:100])#Plotting the Actual Values"
   ]
  },
  {
   "cell_type": "code",
   "execution_count": 86,
   "metadata": {
    "colab": {
     "base_uri": "https://localhost:8080/",
     "height": 417
    },
    "id": "vuY5nmGYZ8ix",
    "outputId": "e3a633dc-5bd7-48b9-bb2c-32f9328465fb"
   },
   "outputs": [
    {
     "name": "stdout",
     "output_type": "stream",
     "text": [
      "157/157 [==============================] - 1s 5ms/step\n"
     ]
    },
    {
     "data": {
      "text/html": [
       "<div>\n",
       "<style scoped>\n",
       "    .dataframe tbody tr th:only-of-type {\n",
       "        vertical-align: middle;\n",
       "    }\n",
       "\n",
       "    .dataframe tbody tr th {\n",
       "        vertical-align: top;\n",
       "    }\n",
       "\n",
       "    .dataframe thead th {\n",
       "        text-align: right;\n",
       "    }\n",
       "</style>\n",
       "<table border=\"1\" class=\"dataframe\">\n",
       "  <thead>\n",
       "    <tr style=\"text-align: right;\">\n",
       "      <th></th>\n",
       "      <th>Val Predictions</th>\n",
       "      <th>Actuals</th>\n",
       "    </tr>\n",
       "  </thead>\n",
       "  <tbody>\n",
       "    <tr>\n",
       "      <th>0</th>\n",
       "      <td>15.466625</td>\n",
       "      <td>14.02</td>\n",
       "    </tr>\n",
       "    <tr>\n",
       "      <th>1</th>\n",
       "      <td>13.295846</td>\n",
       "      <td>13.67</td>\n",
       "    </tr>\n",
       "    <tr>\n",
       "      <th>2</th>\n",
       "      <td>13.114360</td>\n",
       "      <td>12.27</td>\n",
       "    </tr>\n",
       "    <tr>\n",
       "      <th>3</th>\n",
       "      <td>11.535552</td>\n",
       "      <td>11.19</td>\n",
       "    </tr>\n",
       "    <tr>\n",
       "      <th>4</th>\n",
       "      <td>10.420790</td>\n",
       "      <td>10.85</td>\n",
       "    </tr>\n",
       "    <tr>\n",
       "      <th>...</th>\n",
       "      <td>...</td>\n",
       "      <td>...</td>\n",
       "    </tr>\n",
       "    <tr>\n",
       "      <th>4995</th>\n",
       "      <td>17.449690</td>\n",
       "      <td>18.27</td>\n",
       "    </tr>\n",
       "    <tr>\n",
       "      <th>4996</th>\n",
       "      <td>17.432846</td>\n",
       "      <td>17.85</td>\n",
       "    </tr>\n",
       "    <tr>\n",
       "      <th>4997</th>\n",
       "      <td>17.280895</td>\n",
       "      <td>16.65</td>\n",
       "    </tr>\n",
       "    <tr>\n",
       "      <th>4998</th>\n",
       "      <td>15.953874</td>\n",
       "      <td>15.85</td>\n",
       "    </tr>\n",
       "    <tr>\n",
       "      <th>4999</th>\n",
       "      <td>15.153837</td>\n",
       "      <td>15.09</td>\n",
       "    </tr>\n",
       "  </tbody>\n",
       "</table>\n",
       "<p>5000 rows × 2 columns</p>\n",
       "</div>"
      ],
      "text/plain": [
       "      Val Predictions  Actuals\n",
       "0           15.466625    14.02\n",
       "1           13.295846    13.67\n",
       "2           13.114360    12.27\n",
       "3           11.535552    11.19\n",
       "4           10.420790    10.85\n",
       "...               ...      ...\n",
       "4995        17.449690    18.27\n",
       "4996        17.432846    17.85\n",
       "4997        17.280895    16.65\n",
       "4998        15.953874    15.85\n",
       "4999        15.153837    15.09\n",
       "\n",
       "[5000 rows x 2 columns]"
      ]
     },
     "execution_count": 86,
     "metadata": {},
     "output_type": "execute_result"
    }
   ],
   "source": [
    "val_predictions = model1.predict(X_val1).flatten()#Making Predictions on the Validation Data\n",
    "val_results = pd.DataFrame(data={'Val Predictions':val_predictions, 'Actuals':y_val1})#Creating a DataFrame for Validation Results\n",
    "val_results #Displaying the DataFrame"
   ]
  },
  {
   "cell_type": "code",
   "execution_count": 87,
   "metadata": {
    "colab": {
     "base_uri": "https://localhost:8080/",
     "height": 282
    },
    "id": "6MlctzuuaQww",
    "outputId": "bd97d664-5c63-494b-da21-1fbd4088431e"
   },
   "outputs": [
    {
     "data": {
      "text/plain": [
       "[<matplotlib.lines.Line2D at 0x1ee66a9f2d0>]"
      ]
     },
     "execution_count": 87,
     "metadata": {},
     "output_type": "execute_result"
    },
    {
     "data": {
      "image/png": "[encoded data removed]",
      "text/plain": [
       "<Figure size 640x480 with 1 Axes>"
      ]
     },
     "metadata": {},
     "output_type": "display_data"
    }
   ],
   "source": [
    "plt.plot(val_results['Val Predictions'][:100])#Plotting the Validation Predictions\n",
    "plt.plot(val_results['Actuals'][:100])#Plotting the Actual Values"
   ]
  },
  {
   "cell_type": "code",
   "execution_count": 88,
   "metadata": {
    "colab": {
     "base_uri": "https://localhost:8080/",
     "height": 417
    },
    "id": "5O59Q8MTaRN7",
    "outputId": "7579be1d-97c0-46ca-c30c-cbb92b06c8fc"
   },
   "outputs": [
    {
     "name": "stdout",
     "output_type": "stream",
     "text": [
      "159/159 [==============================] - 1s 5ms/step\n"
     ]
    },
    {
     "data": {
      "text/html": [
       "<div>\n",
       "<style scoped>\n",
       "    .dataframe tbody tr th:only-of-type {\n",
       "        vertical-align: middle;\n",
       "    }\n",
       "\n",
       "    .dataframe tbody tr th {\n",
       "        vertical-align: top;\n",
       "    }\n",
       "\n",
       "    .dataframe thead th {\n",
       "        text-align: right;\n",
       "    }\n",
       "</style>\n",
       "<table border=\"1\" class=\"dataframe\">\n",
       "  <thead>\n",
       "    <tr style=\"text-align: right;\">\n",
       "      <th></th>\n",
       "      <th>Test Predictions</th>\n",
       "      <th>Actuals</th>\n",
       "    </tr>\n",
       "  </thead>\n",
       "  <tbody>\n",
       "    <tr>\n",
       "      <th>0</th>\n",
       "      <td>14.471550</td>\n",
       "      <td>13.99</td>\n",
       "    </tr>\n",
       "    <tr>\n",
       "      <th>1</th>\n",
       "      <td>13.313955</td>\n",
       "      <td>13.46</td>\n",
       "    </tr>\n",
       "    <tr>\n",
       "      <th>2</th>\n",
       "      <td>12.922308</td>\n",
       "      <td>12.93</td>\n",
       "    </tr>\n",
       "    <tr>\n",
       "      <th>3</th>\n",
       "      <td>12.517197</td>\n",
       "      <td>12.43</td>\n",
       "    </tr>\n",
       "    <tr>\n",
       "      <th>4</th>\n",
       "      <td>12.071275</td>\n",
       "      <td>12.17</td>\n",
       "    </tr>\n",
       "    <tr>\n",
       "      <th>...</th>\n",
       "      <td>...</td>\n",
       "      <td>...</td>\n",
       "    </tr>\n",
       "    <tr>\n",
       "      <th>5081</th>\n",
       "      <td>-1.110886</td>\n",
       "      <td>-0.98</td>\n",
       "    </tr>\n",
       "    <tr>\n",
       "      <th>5082</th>\n",
       "      <td>-1.495077</td>\n",
       "      <td>-1.40</td>\n",
       "    </tr>\n",
       "    <tr>\n",
       "      <th>5083</th>\n",
       "      <td>-1.706615</td>\n",
       "      <td>-2.75</td>\n",
       "    </tr>\n",
       "    <tr>\n",
       "      <th>5084</th>\n",
       "      <td>-3.101671</td>\n",
       "      <td>-2.89</td>\n",
       "    </tr>\n",
       "    <tr>\n",
       "      <th>5085</th>\n",
       "      <td>-3.016013</td>\n",
       "      <td>-3.93</td>\n",
       "    </tr>\n",
       "  </tbody>\n",
       "</table>\n",
       "<p>5086 rows × 2 columns</p>\n",
       "</div>"
      ],
      "text/plain": [
       "      Test Predictions  Actuals\n",
       "0            14.471550    13.99\n",
       "1            13.313955    13.46\n",
       "2            12.922308    12.93\n",
       "3            12.517197    12.43\n",
       "4            12.071275    12.17\n",
       "...                ...      ...\n",
       "5081         -1.110886    -0.98\n",
       "5082         -1.495077    -1.40\n",
       "5083         -1.706615    -2.75\n",
       "5084         -3.101671    -2.89\n",
       "5085         -3.016013    -3.93\n",
       "\n",
       "[5086 rows x 2 columns]"
      ]
     },
     "execution_count": 88,
     "metadata": {},
     "output_type": "execute_result"
    }
   ],
   "source": [
    "test_predictions = model1.predict(X_test1).flatten()#Making Predictions on the Test Data\n",
    "test_results = pd.DataFrame(data={'Test Predictions':test_predictions, 'Actuals':y_test1})#Creating a DataFrame to Compare Predictions and Actuals\n",
    "test_results #Displaying the DataFrame"
   ]
  },
  {
   "cell_type": "code",
   "execution_count": 89,
   "metadata": {
    "colab": {
     "base_uri": "https://localhost:8080/",
     "height": 282
    },
    "id": "m8UzGIfEaW-P",
    "outputId": "e593d54f-c02f-4da0-d2fe-fd3f95636618"
   },
   "outputs": [
    {
     "data": {
      "text/plain": [
       "[<matplotlib.lines.Line2D at 0x1ee62a27550>]"
      ]
     },
     "execution_count": 89,
     "metadata": {},
     "output_type": "execute_result"
    },
    {
     "data": {
      "image/png": "[encoded data removed]",
      "text/plain": [
       "<Figure size 640x480 with 1 Axes>"
      ]
     },
     "metadata": {},
     "output_type": "display_data"
    }
   ],
   "source": [
    "plt.plot(test_results['Test Predictions'][:100])#Plotting the Test Predictions\n",
    "plt.plot(test_results['Actuals'][:100])#Plotting the Actual Values"
   ]
  },
  {
   "cell_type": "code",
   "execution_count": 90,
   "metadata": {
    "id": "nWdZkoPo-MZM"
   },
   "outputs": [],
   "source": [
    "# Split"
   ]
  },
  {
   "cell_type": "code",
   "execution_count": 91,
   "metadata": {
    "id": "OK63d14raZFZ"
   },
   "outputs": [],
   "source": [
    "from sklearn.metrics import mean_squared_error as mse\n",
    "\n",
    "def plot_predictions1(model, X, y, start=0, end=100):\n",
    "  predictions = model.predict(X).flatten()#Generating Predictions\n",
    "  df = pd.DataFrame(data={'Predictions': predictions, 'Actuals':y})#Creating a DataFrame for Predictions and Actuals\n",
    "  #Plotting Predictions and Actuals\n",
    "  plt.plot(df['Predictions'][start:end])\n",
    "  plt.plot(df['Actuals'][start:end])\n",
    "  return df, mse(predictions, y)#Returning the DataFrame and MSE"
   ]
  },
  {
   "cell_type": "code",
   "execution_count": 92,
   "metadata": {
    "colab": {
     "base_uri": "https://localhost:8080/",
     "height": 500
    },
    "id": "m2JjeH6V-uQn",
    "outputId": "fbf8c505-b1d3-4ca6-bbf1-d93e35d08509"
   },
   "outputs": [
    {
     "name": "stdout",
     "output_type": "stream",
     "text": [
      "159/159 [==============================] - 1s 5ms/step\n"
     ]
    },
    {
     "data": {
      "text/plain": [
       "(      Predictions  Actuals\n",
       " 0       14.471550    13.99\n",
       " 1       13.313955    13.46\n",
       " 2       12.922308    12.93\n",
       " 3       12.517197    12.43\n",
       " 4       12.071275    12.17\n",
       " ...           ...      ...\n",
       " 5081    -1.110886    -0.98\n",
       " 5082    -1.495077    -1.40\n",
       " 5083    -1.706615    -2.75\n",
       " 5084    -3.101671    -2.89\n",
       " 5085    -3.016013    -3.93\n",
       " \n",
       " [5086 rows x 2 columns],\n",
       " 0.6119255985877041)"
      ]
     },
     "execution_count": 92,
     "metadata": {},
     "output_type": "execute_result"
    },
    {
     "data": {
      "image/png": "[encoded data removed]",
      "text/plain": [
       "<Figure size 640x480 with 1 Axes>"
      ]
     },
     "metadata": {},
     "output_type": "display_data"
    }
   ],
   "source": [
    "plot_predictions1(model1, X_test1, y_test1)#Calling the plot_predictions1() Function"
   ]
  },
  {
   "cell_type": "code",
   "execution_count": 93,
   "metadata": {
    "colab": {
     "base_uri": "https://localhost:8080/"
    },
    "id": "Avi4Zydf-ynb",
    "outputId": "80184d81-832f-4451-cede-d744f577aa5f"
   },
   "outputs": [
    {
     "name": "stdout",
     "output_type": "stream",
     "text": [
      "Model: \"sequential_8\"\n",
      "_________________________________________________________________\n",
      " Layer (type)                Output Shape              Param #   \n",
      "=================================================================\n",
      " conv1d_2 (Conv1D)           (None, 4, 64)             192       \n",
      "                                                                 \n",
      " flatten_2 (Flatten)         (None, 256)               0         \n",
      "                                                                 \n",
      " dense_16 (Dense)            (None, 8)                 2056      \n",
      "                                                                 \n",
      " dense_17 (Dense)            (None, 1)                 9         \n",
      "                                                                 \n",
      "=================================================================\n",
      "Total params: 2257 (8.82 KB)\n",
      "Trainable params: 2257 (8.82 KB)\n",
      "Non-trainable params: 0 (0.00 Byte)\n",
      "_________________________________________________________________\n"
     ]
    }
   ],
   "source": [
    "model2 = Sequential()\n",
    "model2.add(InputLayer((5, 1)))\n",
    "model2.add(Conv1D(64, kernel_size=2, activation='relu'))\n",
    "model2.add(Flatten())\n",
    "model2.add(Dense(8, 'relu'))\n",
    "model2.add(Dense(1, 'linear'))\n",
    "model2.summary()"
   ]
  },
  {
   "cell_type": "code",
   "execution_count": 94,
   "metadata": {
    "id": "znQvX4Hf_0-X"
   },
   "outputs": [],
   "source": [
    "cp2 = ModelCheckpoint('model2/', save_best_only=True)\n",
    "model2.compile(loss=MeanSquaredError(), optimizer=Adam(learning_rate=0.0001), metrics=[RootMeanSquaredError()])"
   ]
  },
  {
   "cell_type": "code",
   "execution_count": 95,
   "metadata": {
    "id": "zjSXAC_wAWaE"
   },
   "outputs": [
    {
     "name": "stdout",
     "output_type": "stream",
     "text": [
      "Epoch 1/10\n",
      "1871/1875 [============================>.] - ETA: 0s - loss: 21.8930 - root_mean_squared_error: 4.6790INFO:tensorflow:Assets written to: model2\\assets\n"
     ]
    },
    {
     "name": "stderr",
     "output_type": "stream",
     "text": [
      "INFO:tensorflow:Assets written to: model2\\assets\n"
     ]
    },
    {
     "name": "stdout",
     "output_type": "stream",
     "text": [
      "1875/1875 [==============================] - 12s 6ms/step - loss: 21.8497 - root_mean_squared_error: 4.6744 - val_loss: 1.3035 - val_root_mean_squared_error: 1.1417\n",
      "Epoch 2/10\n",
      "1866/1875 [============================>.] - ETA: 0s - loss: 1.2873 - root_mean_squared_error: 1.1346INFO:tensorflow:Assets written to: model2\\assets\n"
     ]
    },
    {
     "name": "stderr",
     "output_type": "stream",
     "text": [
      "INFO:tensorflow:Assets written to: model2\\assets\n"
     ]
    },
    {
     "name": "stdout",
     "output_type": "stream",
     "text": [
      "1875/1875 [==============================] - 11s 6ms/step - loss: 1.2860 - root_mean_squared_error: 1.1340 - val_loss: 0.8103 - val_root_mean_squared_error: 0.9002\n",
      "Epoch 3/10\n",
      "1875/1875 [==============================] - ETA: 0s - loss: 0.9156 - root_mean_squared_error: 0.9569INFO:tensorflow:Assets written to: model2\\assets\n"
     ]
    },
    {
     "name": "stderr",
     "output_type": "stream",
     "text": [
      "INFO:tensorflow:Assets written to: model2\\assets\n"
     ]
    },
    {
     "name": "stdout",
     "output_type": "stream",
     "text": [
      "1875/1875 [==============================] - 11s 6ms/step - loss: 0.9156 - root_mean_squared_error: 0.9569 - val_loss: 0.6227 - val_root_mean_squared_error: 0.7891\n",
      "Epoch 4/10\n",
      "1872/1875 [============================>.] - ETA: 0s - loss: 0.7509 - root_mean_squared_error: 0.8666INFO:tensorflow:Assets written to: model2\\assets\n"
     ]
    },
    {
     "name": "stderr",
     "output_type": "stream",
     "text": [
      "INFO:tensorflow:Assets written to: model2\\assets\n"
     ]
    },
    {
     "name": "stdout",
     "output_type": "stream",
     "text": [
      "1875/1875 [==============================] - 12s 6ms/step - loss: 0.7509 - root_mean_squared_error: 0.8666 - val_loss: 0.5283 - val_root_mean_squared_error: 0.7269\n",
      "Epoch 5/10\n",
      "1868/1875 [============================>.] - ETA: 0s - loss: 0.6973 - root_mean_squared_error: 0.8350INFO:tensorflow:Assets written to: model2\\assets\n"
     ]
    },
    {
     "name": "stderr",
     "output_type": "stream",
     "text": [
      "INFO:tensorflow:Assets written to: model2\\assets\n"
     ]
    },
    {
     "name": "stdout",
     "output_type": "stream",
     "text": [
      "1875/1875 [==============================] - 11s 6ms/step - loss: 0.6978 - root_mean_squared_error: 0.8353 - val_loss: 0.5115 - val_root_mean_squared_error: 0.7152\n",
      "Epoch 6/10\n",
      "1871/1875 [============================>.] - ETA: 0s - loss: 0.6816 - root_mean_squared_error: 0.8256INFO:tensorflow:Assets written to: model2\\assets\n"
     ]
    },
    {
     "name": "stderr",
     "output_type": "stream",
     "text": [
      "INFO:tensorflow:Assets written to: model2\\assets\n"
     ]
    },
    {
     "name": "stdout",
     "output_type": "stream",
     "text": [
      "1875/1875 [==============================] - 11s 6ms/step - loss: 0.6817 - root_mean_squared_error: 0.8257 - val_loss: 0.5006 - val_root_mean_squared_error: 0.7076\n",
      "Epoch 7/10\n",
      "1875/1875 [==============================] - 10s 5ms/step - loss: 0.6726 - root_mean_squared_error: 0.8201 - val_loss: 0.5069 - val_root_mean_squared_error: 0.7120\n",
      "Epoch 8/10\n",
      "1875/1875 [==============================] - ETA: 0s - loss: 0.6671 - root_mean_squared_error: 0.8167INFO:tensorflow:Assets written to: model2\\assets\n"
     ]
    },
    {
     "name": "stderr",
     "output_type": "stream",
     "text": [
      "INFO:tensorflow:Assets written to: model2\\assets\n"
     ]
    },
    {
     "name": "stdout",
     "output_type": "stream",
     "text": [
      "1875/1875 [==============================] - 11s 6ms/step - loss: 0.6671 - root_mean_squared_error: 0.8167 - val_loss: 0.4943 - val_root_mean_squared_error: 0.7031\n",
      "Epoch 9/10\n",
      "1875/1875 [==============================] - 10s 5ms/step - loss: 0.6645 - root_mean_squared_error: 0.8152 - val_loss: 0.4970 - val_root_mean_squared_error: 0.7050\n",
      "Epoch 10/10\n",
      "1875/1875 [==============================] - 10s 5ms/step - loss: 0.6595 - root_mean_squared_error: 0.8121 - val_loss: 0.4998 - val_root_mean_squared_error: 0.7070\n"
     ]
    },
    {
     "data": {
      "text/plain": [
       "<keras.src.callbacks.History at 0x1ee62a9d450>"
      ]
     },
     "execution_count": 95,
     "metadata": {},
     "output_type": "execute_result"
    }
   ],
   "source": [
    "model2.fit(X_train1, y_train1, validation_data=(X_val1, y_val1), epochs=10, callbacks=[cp2])"
   ]
  },
  {
   "cell_type": "code",
   "execution_count": 96,
   "metadata": {
    "colab": {
     "base_uri": "https://localhost:8080/",
     "height": 500
    },
    "id": "sTXr6cN5Aae5",
    "outputId": "ef66b277-71a6-4e77-f324-9804d5f76092"
   },
   "outputs": [
    {
     "name": "stdout",
     "output_type": "stream",
     "text": [
      "159/159 [==============================] - 1s 4ms/step\n"
     ]
    },
    {
     "data": {
      "text/plain": [
       "(      Predictions  Actuals\n",
       " 0       14.113940    13.99\n",
       " 1       12.996449    13.46\n",
       " 2       12.678542    12.93\n",
       " 3       12.237118    12.43\n",
       " 4       11.824786    12.17\n",
       " ...           ...      ...\n",
       " 5081    -1.410150    -0.98\n",
       " 5082    -1.596182    -1.40\n",
       " 5083    -1.794822    -2.75\n",
       " 5084    -3.289048    -2.89\n",
       " 5085    -3.258494    -3.93\n",
       " \n",
       " [5086 rows x 2 columns],\n",
       " 0.7123071077036697)"
      ]
     },
     "execution_count": 96,
     "metadata": {},
     "output_type": "execute_result"
    },
    {
     "data": {
      "image/png": "[encoded data removed]",
      "text/plain": [
       "<Figure size 640x480 with 1 Axes>"
      ]
     },
     "metadata": {},
     "output_type": "display_data"
    }
   ],
   "source": [
    "plot_predictions1(model2, X_test1, y_test1)"
   ]
  },
  {
   "cell_type": "code",
   "execution_count": 97,
   "metadata": {
    "colab": {
     "base_uri": "https://localhost:8080/"
    },
    "id": "OIKUNnb3A_x-",
    "outputId": "efe74678-1508-4336-f5a4-66ddf4bb86b9"
   },
   "outputs": [
    {
     "name": "stdout",
     "output_type": "stream",
     "text": [
      "Model: \"sequential_9\"\n",
      "_________________________________________________________________\n",
      " Layer (type)                Output Shape              Param #   \n",
      "=================================================================\n",
      " gru_1 (GRU)                 (None, 64)                12864     \n",
      "                                                                 \n",
      " dense_18 (Dense)            (None, 8)                 520       \n",
      "                                                                 \n",
      " dense_19 (Dense)            (None, 1)                 9         \n",
      "                                                                 \n",
      "=================================================================\n",
      "Total params: 13393 (52.32 KB)\n",
      "Trainable params: 13393 (52.32 KB)\n",
      "Non-trainable params: 0 (0.00 Byte)\n",
      "_________________________________________________________________\n"
     ]
    }
   ],
   "source": [
    "model3 = Sequential()\n",
    "model3.add(InputLayer((5, 1)))\n",
    "model3.add(GRU(64))\n",
    "model3.add(Dense(8, 'relu'))\n",
    "model3.add(Dense(1, 'linear'))\n",
    "model3.summary()"
   ]
  },
  {
   "cell_type": "code",
   "execution_count": 98,
   "metadata": {
    "id": "IgcU2I5FBksr"
   },
   "outputs": [],
   "source": [
    "cp3 = ModelCheckpoint('model3/', save_best_only=True)\n",
    "model3.compile(loss=MeanSquaredError(), optimizer=Adam(learning_rate=0.0001), metrics=[RootMeanSquaredError()])"
   ]
  },
  {
   "cell_type": "code",
   "execution_count": 99,
   "metadata": {
    "id": "FMcHF1rVB0Ry"
   },
   "outputs": [
    {
     "name": "stdout",
     "output_type": "stream",
     "text": [
      "Epoch 1/10\n",
      "1868/1875 [============================>.] - ETA: 0s - loss: 22.4710 - root_mean_squared_error: 4.7404INFO:tensorflow:Assets written to: model3\\assets\n"
     ]
    },
    {
     "name": "stderr",
     "output_type": "stream",
     "text": [
      "INFO:tensorflow:Assets written to: model3\\assets\n"
     ]
    },
    {
     "name": "stdout",
     "output_type": "stream",
     "text": [
      "1875/1875 [==============================] - 23s 10ms/step - loss: 22.3942 - root_mean_squared_error: 4.7323 - val_loss: 0.8897 - val_root_mean_squared_error: 0.9432\n",
      "Epoch 2/10\n",
      "1870/1875 [============================>.] - ETA: 0s - loss: 1.4748 - root_mean_squared_error: 1.2144INFO:tensorflow:Assets written to: model3\\assets\n"
     ]
    },
    {
     "name": "stderr",
     "output_type": "stream",
     "text": [
      "INFO:tensorflow:Assets written to: model3\\assets\n"
     ]
    },
    {
     "name": "stdout",
     "output_type": "stream",
     "text": [
      "1875/1875 [==============================] - 20s 10ms/step - loss: 1.4726 - root_mean_squared_error: 1.2135 - val_loss: 0.5778 - val_root_mean_squared_error: 0.7601\n",
      "Epoch 3/10\n",
      "1867/1875 [============================>.] - ETA: 0s - loss: 0.8277 - root_mean_squared_error: 0.9098INFO:tensorflow:Assets written to: model3\\assets\n"
     ]
    },
    {
     "name": "stderr",
     "output_type": "stream",
     "text": [
      "INFO:tensorflow:Assets written to: model3\\assets\n"
     ]
    },
    {
     "name": "stdout",
     "output_type": "stream",
     "text": [
      "1875/1875 [==============================] - 20s 11ms/step - loss: 0.8268 - root_mean_squared_error: 0.9093 - val_loss: 0.5210 - val_root_mean_squared_error: 0.7218\n",
      "Epoch 4/10\n",
      "1870/1875 [============================>.] - ETA: 0s - loss: 0.6927 - root_mean_squared_error: 0.8323INFO:tensorflow:Assets written to: model3\\assets\n"
     ]
    },
    {
     "name": "stderr",
     "output_type": "stream",
     "text": [
      "INFO:tensorflow:Assets written to: model3\\assets\n"
     ]
    },
    {
     "name": "stdout",
     "output_type": "stream",
     "text": [
      "1875/1875 [==============================] - 20s 11ms/step - loss: 0.6928 - root_mean_squared_error: 0.8324 - val_loss: 0.5010 - val_root_mean_squared_error: 0.7078\n",
      "Epoch 5/10\n",
      "1875/1875 [==============================] - 15s 8ms/step - loss: 0.6609 - root_mean_squared_error: 0.8130 - val_loss: 0.5100 - val_root_mean_squared_error: 0.7141\n",
      "Epoch 6/10\n",
      "1870/1875 [============================>.] - ETA: 0s - loss: 0.6504 - root_mean_squared_error: 0.8065INFO:tensorflow:Assets written to: model3\\assets\n"
     ]
    },
    {
     "name": "stderr",
     "output_type": "stream",
     "text": [
      "INFO:tensorflow:Assets written to: model3\\assets\n"
     ]
    },
    {
     "name": "stdout",
     "output_type": "stream",
     "text": [
      "1875/1875 [==============================] - 20s 11ms/step - loss: 0.6508 - root_mean_squared_error: 0.8067 - val_loss: 0.4892 - val_root_mean_squared_error: 0.6994\n",
      "Epoch 7/10\n",
      "1875/1875 [==============================] - 15s 8ms/step - loss: 0.6446 - root_mean_squared_error: 0.8029 - val_loss: 0.4952 - val_root_mean_squared_error: 0.7037\n",
      "Epoch 8/10\n",
      "1875/1875 [==============================] - 15s 8ms/step - loss: 0.6410 - root_mean_squared_error: 0.8006 - val_loss: 0.5089 - val_root_mean_squared_error: 0.7134\n",
      "Epoch 9/10\n",
      "1873/1875 [============================>.] - ETA: 0s - loss: 0.6389 - root_mean_squared_error: 0.7993INFO:tensorflow:Assets written to: model3\\assets\n"
     ]
    },
    {
     "name": "stderr",
     "output_type": "stream",
     "text": [
      "INFO:tensorflow:Assets written to: model3\\assets\n"
     ]
    },
    {
     "name": "stdout",
     "output_type": "stream",
     "text": [
      "1875/1875 [==============================] - 19s 10ms/step - loss: 0.6389 - root_mean_squared_error: 0.7993 - val_loss: 0.4879 - val_root_mean_squared_error: 0.6985\n",
      "Epoch 10/10\n",
      "1871/1875 [============================>.] - ETA: 0s - loss: 0.6379 - root_mean_squared_error: 0.7987INFO:tensorflow:Assets written to: model3\\assets\n"
     ]
    },
    {
     "name": "stderr",
     "output_type": "stream",
     "text": [
      "INFO:tensorflow:Assets written to: model3\\assets\n"
     ]
    },
    {
     "name": "stdout",
     "output_type": "stream",
     "text": [
      "1875/1875 [==============================] - 20s 11ms/step - loss: 0.6381 - root_mean_squared_error: 0.7988 - val_loss: 0.4855 - val_root_mean_squared_error: 0.6968\n"
     ]
    },
    {
     "data": {
      "text/plain": [
       "<keras.src.callbacks.History at 0x1ee7706b0d0>"
      ]
     },
     "execution_count": 99,
     "metadata": {},
     "output_type": "execute_result"
    }
   ],
   "source": [
    "model3.fit(X_train1, y_train1, validation_data=(X_val1, y_val1), epochs=10, callbacks=[cp3])"
   ]
  },
  {
   "cell_type": "code",
   "execution_count": 100,
   "metadata": {
    "colab": {
     "base_uri": "https://localhost:8080/"
    },
    "id": "kziIgnJgB2-F",
    "outputId": "1c464fd5-0f6e-44f2-95ba-1fd37f5f2c41"
   },
   "outputs": [
    {
     "data": {
      "text/plain": [
       "Date Time\n",
       "2009-01-01 01:00:00   -8.05\n",
       "2009-01-01 02:00:00   -8.88\n",
       "2009-01-01 03:00:00   -8.81\n",
       "2009-01-01 04:00:00   -9.05\n",
       "2009-01-01 05:00:00   -9.63\n",
       "                       ... \n",
       "2016-12-31 19:10:00   -0.98\n",
       "2016-12-31 20:10:00   -1.40\n",
       "2016-12-31 21:10:00   -2.75\n",
       "2016-12-31 22:10:00   -2.89\n",
       "2016-12-31 23:10:00   -3.93\n",
       "Name: T (degC), Length: 70091, dtype: float64"
      ]
     },
     "execution_count": 100,
     "metadata": {},
     "output_type": "execute_result"
    }
   ],
   "source": [
    "temp"
   ]
  },
  {
   "cell_type": "code",
   "execution_count": 101,
   "metadata": {
    "colab": {
     "base_uri": "https://localhost:8080/",
     "height": 447
    },
    "id": "LVV0xsEpHcYS",
    "outputId": "7630bd55-5dc4-419f-dd1e-33b7fdfbc04e"
   },
   "outputs": [
    {
     "data": {
      "text/html": [
       "<div>\n",
       "<style scoped>\n",
       "    .dataframe tbody tr th:only-of-type {\n",
       "        vertical-align: middle;\n",
       "    }\n",
       "\n",
       "    .dataframe tbody tr th {\n",
       "        vertical-align: top;\n",
       "    }\n",
       "\n",
       "    .dataframe thead th {\n",
       "        text-align: right;\n",
       "    }\n",
       "</style>\n",
       "<table border=\"1\" class=\"dataframe\">\n",
       "  <thead>\n",
       "    <tr style=\"text-align: right;\">\n",
       "      <th></th>\n",
       "      <th>Temperature</th>\n",
       "      <th>Seconds</th>\n",
       "    </tr>\n",
       "    <tr>\n",
       "      <th>Date Time</th>\n",
       "      <th></th>\n",
       "      <th></th>\n",
       "    </tr>\n",
       "  </thead>\n",
       "  <tbody>\n",
       "    <tr>\n",
       "      <th>2009-01-01 01:00:00</th>\n",
       "      <td>-8.05</td>\n",
       "      <td>1.230772e+09</td>\n",
       "    </tr>\n",
       "    <tr>\n",
       "      <th>2009-01-01 02:00:00</th>\n",
       "      <td>-8.88</td>\n",
       "      <td>1.230775e+09</td>\n",
       "    </tr>\n",
       "    <tr>\n",
       "      <th>2009-01-01 03:00:00</th>\n",
       "      <td>-8.81</td>\n",
       "      <td>1.230779e+09</td>\n",
       "    </tr>\n",
       "    <tr>\n",
       "      <th>2009-01-01 04:00:00</th>\n",
       "      <td>-9.05</td>\n",
       "      <td>1.230782e+09</td>\n",
       "    </tr>\n",
       "    <tr>\n",
       "      <th>2009-01-01 05:00:00</th>\n",
       "      <td>-9.63</td>\n",
       "      <td>1.230786e+09</td>\n",
       "    </tr>\n",
       "    <tr>\n",
       "      <th>...</th>\n",
       "      <td>...</td>\n",
       "      <td>...</td>\n",
       "    </tr>\n",
       "    <tr>\n",
       "      <th>2016-12-31 19:10:00</th>\n",
       "      <td>-0.98</td>\n",
       "      <td>1.483211e+09</td>\n",
       "    </tr>\n",
       "    <tr>\n",
       "      <th>2016-12-31 20:10:00</th>\n",
       "      <td>-1.40</td>\n",
       "      <td>1.483215e+09</td>\n",
       "    </tr>\n",
       "    <tr>\n",
       "      <th>2016-12-31 21:10:00</th>\n",
       "      <td>-2.75</td>\n",
       "      <td>1.483219e+09</td>\n",
       "    </tr>\n",
       "    <tr>\n",
       "      <th>2016-12-31 22:10:00</th>\n",
       "      <td>-2.89</td>\n",
       "      <td>1.483222e+09</td>\n",
       "    </tr>\n",
       "    <tr>\n",
       "      <th>2016-12-31 23:10:00</th>\n",
       "      <td>-3.93</td>\n",
       "      <td>1.483226e+09</td>\n",
       "    </tr>\n",
       "  </tbody>\n",
       "</table>\n",
       "<p>70091 rows × 2 columns</p>\n",
       "</div>"
      ],
      "text/plain": [
       "                     Temperature       Seconds\n",
       "Date Time                                     \n",
       "2009-01-01 01:00:00        -8.05  1.230772e+09\n",
       "2009-01-01 02:00:00        -8.88  1.230775e+09\n",
       "2009-01-01 03:00:00        -8.81  1.230779e+09\n",
       "2009-01-01 04:00:00        -9.05  1.230782e+09\n",
       "2009-01-01 05:00:00        -9.63  1.230786e+09\n",
       "...                          ...           ...\n",
       "2016-12-31 19:10:00        -0.98  1.483211e+09\n",
       "2016-12-31 20:10:00        -1.40  1.483215e+09\n",
       "2016-12-31 21:10:00        -2.75  1.483219e+09\n",
       "2016-12-31 22:10:00        -2.89  1.483222e+09\n",
       "2016-12-31 23:10:00        -3.93  1.483226e+09\n",
       "\n",
       "[70091 rows x 2 columns]"
      ]
     },
     "execution_count": 101,
     "metadata": {},
     "output_type": "execute_result"
    }
   ],
   "source": [
    "temp_df = pd.DataFrame({'Temperature':temp})\n",
    "temp_df['Seconds'] = temp_df.index.map(pd.Timestamp.timestamp)\n",
    "temp_df"
   ]
  },
  {
   "cell_type": "code",
   "execution_count": 102,
   "metadata": {
    "colab": {
     "base_uri": "https://localhost:8080/",
     "height": 447
    },
    "id": "trw64ao9GVsj",
    "outputId": "b206a050-021b-47aa-a3bd-0d1bdb468978"
   },
   "outputs": [
    {
     "data": {
      "text/html": [
       "<div>\n",
       "<style scoped>\n",
       "    .dataframe tbody tr th:only-of-type {\n",
       "        vertical-align: middle;\n",
       "    }\n",
       "\n",
       "    .dataframe tbody tr th {\n",
       "        vertical-align: top;\n",
       "    }\n",
       "\n",
       "    .dataframe thead th {\n",
       "        text-align: right;\n",
       "    }\n",
       "</style>\n",
       "<table border=\"1\" class=\"dataframe\">\n",
       "  <thead>\n",
       "    <tr style=\"text-align: right;\">\n",
       "      <th></th>\n",
       "      <th>Temperature</th>\n",
       "      <th>Seconds</th>\n",
       "      <th>Day sin</th>\n",
       "      <th>Day cos</th>\n",
       "      <th>Year sin</th>\n",
       "      <th>Year cos</th>\n",
       "    </tr>\n",
       "    <tr>\n",
       "      <th>Date Time</th>\n",
       "      <th></th>\n",
       "      <th></th>\n",
       "      <th></th>\n",
       "      <th></th>\n",
       "      <th></th>\n",
       "      <th></th>\n",
       "    </tr>\n",
       "  </thead>\n",
       "  <tbody>\n",
       "    <tr>\n",
       "      <th>2009-01-01 01:00:00</th>\n",
       "      <td>-8.05</td>\n",
       "      <td>1.230772e+09</td>\n",
       "      <td>0.258819</td>\n",
       "      <td>0.965926</td>\n",
       "      <td>0.010049</td>\n",
       "      <td>0.999950</td>\n",
       "    </tr>\n",
       "    <tr>\n",
       "      <th>2009-01-01 02:00:00</th>\n",
       "      <td>-8.88</td>\n",
       "      <td>1.230775e+09</td>\n",
       "      <td>0.500000</td>\n",
       "      <td>0.866025</td>\n",
       "      <td>0.010766</td>\n",
       "      <td>0.999942</td>\n",
       "    </tr>\n",
       "    <tr>\n",
       "      <th>2009-01-01 03:00:00</th>\n",
       "      <td>-8.81</td>\n",
       "      <td>1.230779e+09</td>\n",
       "      <td>0.707107</td>\n",
       "      <td>0.707107</td>\n",
       "      <td>0.011483</td>\n",
       "      <td>0.999934</td>\n",
       "    </tr>\n",
       "    <tr>\n",
       "      <th>2009-01-01 04:00:00</th>\n",
       "      <td>-9.05</td>\n",
       "      <td>1.230782e+09</td>\n",
       "      <td>0.866025</td>\n",
       "      <td>0.500000</td>\n",
       "      <td>0.012199</td>\n",
       "      <td>0.999926</td>\n",
       "    </tr>\n",
       "    <tr>\n",
       "      <th>2009-01-01 05:00:00</th>\n",
       "      <td>-9.63</td>\n",
       "      <td>1.230786e+09</td>\n",
       "      <td>0.965926</td>\n",
       "      <td>0.258819</td>\n",
       "      <td>0.012916</td>\n",
       "      <td>0.999917</td>\n",
       "    </tr>\n",
       "    <tr>\n",
       "      <th>...</th>\n",
       "      <td>...</td>\n",
       "      <td>...</td>\n",
       "      <td>...</td>\n",
       "      <td>...</td>\n",
       "      <td>...</td>\n",
       "      <td>...</td>\n",
       "    </tr>\n",
       "    <tr>\n",
       "      <th>2016-12-31 19:10:00</th>\n",
       "      <td>-0.98</td>\n",
       "      <td>1.483211e+09</td>\n",
       "      <td>-0.953717</td>\n",
       "      <td>0.300706</td>\n",
       "      <td>0.006900</td>\n",
       "      <td>0.999976</td>\n",
       "    </tr>\n",
       "    <tr>\n",
       "      <th>2016-12-31 20:10:00</th>\n",
       "      <td>-1.40</td>\n",
       "      <td>1.483215e+09</td>\n",
       "      <td>-0.843391</td>\n",
       "      <td>0.537300</td>\n",
       "      <td>0.007617</td>\n",
       "      <td>0.999971</td>\n",
       "    </tr>\n",
       "    <tr>\n",
       "      <th>2016-12-31 21:10:00</th>\n",
       "      <td>-2.75</td>\n",
       "      <td>1.483219e+09</td>\n",
       "      <td>-0.675590</td>\n",
       "      <td>0.737277</td>\n",
       "      <td>0.008334</td>\n",
       "      <td>0.999965</td>\n",
       "    </tr>\n",
       "    <tr>\n",
       "      <th>2016-12-31 22:10:00</th>\n",
       "      <td>-2.89</td>\n",
       "      <td>1.483222e+09</td>\n",
       "      <td>-0.461749</td>\n",
       "      <td>0.887011</td>\n",
       "      <td>0.009050</td>\n",
       "      <td>0.999959</td>\n",
       "    </tr>\n",
       "    <tr>\n",
       "      <th>2016-12-31 23:10:00</th>\n",
       "      <td>-3.93</td>\n",
       "      <td>1.483226e+09</td>\n",
       "      <td>-0.216440</td>\n",
       "      <td>0.976296</td>\n",
       "      <td>0.009767</td>\n",
       "      <td>0.999952</td>\n",
       "    </tr>\n",
       "  </tbody>\n",
       "</table>\n",
       "<p>70091 rows × 6 columns</p>\n",
       "</div>"
      ],
      "text/plain": [
       "                     Temperature       Seconds   Day sin   Day cos  Year sin  \\\n",
       "Date Time                                                                      \n",
       "2009-01-01 01:00:00        -8.05  1.230772e+09  0.258819  0.965926  0.010049   \n",
       "2009-01-01 02:00:00        -8.88  1.230775e+09  0.500000  0.866025  0.010766   \n",
       "2009-01-01 03:00:00        -8.81  1.230779e+09  0.707107  0.707107  0.011483   \n",
       "2009-01-01 04:00:00        -9.05  1.230782e+09  0.866025  0.500000  0.012199   \n",
       "2009-01-01 05:00:00        -9.63  1.230786e+09  0.965926  0.258819  0.012916   \n",
       "...                          ...           ...       ...       ...       ...   \n",
       "2016-12-31 19:10:00        -0.98  1.483211e+09 -0.953717  0.300706  0.006900   \n",
       "2016-12-31 20:10:00        -1.40  1.483215e+09 -0.843391  0.537300  0.007617   \n",
       "2016-12-31 21:10:00        -2.75  1.483219e+09 -0.675590  0.737277  0.008334   \n",
       "2016-12-31 22:10:00        -2.89  1.483222e+09 -0.461749  0.887011  0.009050   \n",
       "2016-12-31 23:10:00        -3.93  1.483226e+09 -0.216440  0.976296  0.009767   \n",
       "\n",
       "                     Year cos  \n",
       "Date Time                      \n",
       "2009-01-01 01:00:00  0.999950  \n",
       "2009-01-01 02:00:00  0.999942  \n",
       "2009-01-01 03:00:00  0.999934  \n",
       "2009-01-01 04:00:00  0.999926  \n",
       "2009-01-01 05:00:00  0.999917  \n",
       "...                       ...  \n",
       "2016-12-31 19:10:00  0.999976  \n",
       "2016-12-31 20:10:00  0.999971  \n",
       "2016-12-31 21:10:00  0.999965  \n",
       "2016-12-31 22:10:00  0.999959  \n",
       "2016-12-31 23:10:00  0.999952  \n",
       "\n",
       "[70091 rows x 6 columns]"
      ]
     },
     "execution_count": 102,
     "metadata": {},
     "output_type": "execute_result"
    }
   ],
   "source": [
    "day = 24*60*60\n",
    "year = (365.2425)*day\n",
    "\n",
    "temp_df['Day sin'] = np.sin(temp_df['Seconds'] * (2 * np.pi / day))\n",
    "temp_df['Day cos'] = np.cos(temp_df['Seconds'] * (2 * np.pi / day))\n",
    "temp_df['Year sin'] = np.sin(temp_df['Seconds'] * (2 * np.pi / year))\n",
    "temp_df['Year cos'] = np.cos(temp_df['Seconds'] * (2 * np.pi / year))\n",
    "temp_df"
   ]
  },
  {
   "cell_type": "code",
   "execution_count": 103,
   "metadata": {
    "colab": {
     "base_uri": "https://localhost:8080/",
     "height": 447
    },
    "id": "oHwTktN7CWHM",
    "outputId": "c758e91a-0b5e-4ce5-a101-af7081aa1462"
   },
   "outputs": [
    {
     "data": {
      "text/html": [
       "<div>\n",
       "<style scoped>\n",
       "    .dataframe tbody tr th:only-of-type {\n",
       "        vertical-align: middle;\n",
       "    }\n",
       "\n",
       "    .dataframe tbody tr th {\n",
       "        vertical-align: top;\n",
       "    }\n",
       "\n",
       "    .dataframe thead th {\n",
       "        text-align: right;\n",
       "    }\n",
       "</style>\n",
       "<table border=\"1\" class=\"dataframe\">\n",
       "  <thead>\n",
       "    <tr style=\"text-align: right;\">\n",
       "      <th></th>\n",
       "      <th>Temperature</th>\n",
       "      <th>Day sin</th>\n",
       "      <th>Day cos</th>\n",
       "      <th>Year sin</th>\n",
       "      <th>Year cos</th>\n",
       "    </tr>\n",
       "    <tr>\n",
       "      <th>Date Time</th>\n",
       "      <th></th>\n",
       "      <th></th>\n",
       "      <th></th>\n",
       "      <th></th>\n",
       "      <th></th>\n",
       "    </tr>\n",
       "  </thead>\n",
       "  <tbody>\n",
       "    <tr>\n",
       "      <th>2009-01-01 01:00:00</th>\n",
       "      <td>-8.05</td>\n",
       "      <td>0.258819</td>\n",
       "      <td>0.965926</td>\n",
       "      <td>0.010049</td>\n",
       "      <td>0.999950</td>\n",
       "    </tr>\n",
       "    <tr>\n",
       "      <th>2009-01-01 02:00:00</th>\n",
       "      <td>-8.88</td>\n",
       "      <td>0.500000</td>\n",
       "      <td>0.866025</td>\n",
       "      <td>0.010766</td>\n",
       "      <td>0.999942</td>\n",
       "    </tr>\n",
       "    <tr>\n",
       "      <th>2009-01-01 03:00:00</th>\n",
       "      <td>-8.81</td>\n",
       "      <td>0.707107</td>\n",
       "      <td>0.707107</td>\n",
       "      <td>0.011483</td>\n",
       "      <td>0.999934</td>\n",
       "    </tr>\n",
       "    <tr>\n",
       "      <th>2009-01-01 04:00:00</th>\n",
       "      <td>-9.05</td>\n",
       "      <td>0.866025</td>\n",
       "      <td>0.500000</td>\n",
       "      <td>0.012199</td>\n",
       "      <td>0.999926</td>\n",
       "    </tr>\n",
       "    <tr>\n",
       "      <th>2009-01-01 05:00:00</th>\n",
       "      <td>-9.63</td>\n",
       "      <td>0.965926</td>\n",
       "      <td>0.258819</td>\n",
       "      <td>0.012916</td>\n",
       "      <td>0.999917</td>\n",
       "    </tr>\n",
       "    <tr>\n",
       "      <th>...</th>\n",
       "      <td>...</td>\n",
       "      <td>...</td>\n",
       "      <td>...</td>\n",
       "      <td>...</td>\n",
       "      <td>...</td>\n",
       "    </tr>\n",
       "    <tr>\n",
       "      <th>2016-12-31 19:10:00</th>\n",
       "      <td>-0.98</td>\n",
       "      <td>-0.953717</td>\n",
       "      <td>0.300706</td>\n",
       "      <td>0.006900</td>\n",
       "      <td>0.999976</td>\n",
       "    </tr>\n",
       "    <tr>\n",
       "      <th>2016-12-31 20:10:00</th>\n",
       "      <td>-1.40</td>\n",
       "      <td>-0.843391</td>\n",
       "      <td>0.537300</td>\n",
       "      <td>0.007617</td>\n",
       "      <td>0.999971</td>\n",
       "    </tr>\n",
       "    <tr>\n",
       "      <th>2016-12-31 21:10:00</th>\n",
       "      <td>-2.75</td>\n",
       "      <td>-0.675590</td>\n",
       "      <td>0.737277</td>\n",
       "      <td>0.008334</td>\n",
       "      <td>0.999965</td>\n",
       "    </tr>\n",
       "    <tr>\n",
       "      <th>2016-12-31 22:10:00</th>\n",
       "      <td>-2.89</td>\n",
       "      <td>-0.461749</td>\n",
       "      <td>0.887011</td>\n",
       "      <td>0.009050</td>\n",
       "      <td>0.999959</td>\n",
       "    </tr>\n",
       "    <tr>\n",
       "      <th>2016-12-31 23:10:00</th>\n",
       "      <td>-3.93</td>\n",
       "      <td>-0.216440</td>\n",
       "      <td>0.976296</td>\n",
       "      <td>0.009767</td>\n",
       "      <td>0.999952</td>\n",
       "    </tr>\n",
       "  </tbody>\n",
       "</table>\n",
       "<p>70091 rows × 5 columns</p>\n",
       "</div>"
      ],
      "text/plain": [
       "                     Temperature   Day sin   Day cos  Year sin  Year cos\n",
       "Date Time                                                               \n",
       "2009-01-01 01:00:00        -8.05  0.258819  0.965926  0.010049  0.999950\n",
       "2009-01-01 02:00:00        -8.88  0.500000  0.866025  0.010766  0.999942\n",
       "2009-01-01 03:00:00        -8.81  0.707107  0.707107  0.011483  0.999934\n",
       "2009-01-01 04:00:00        -9.05  0.866025  0.500000  0.012199  0.999926\n",
       "2009-01-01 05:00:00        -9.63  0.965926  0.258819  0.012916  0.999917\n",
       "...                          ...       ...       ...       ...       ...\n",
       "2016-12-31 19:10:00        -0.98 -0.953717  0.300706  0.006900  0.999976\n",
       "2016-12-31 20:10:00        -1.40 -0.843391  0.537300  0.007617  0.999971\n",
       "2016-12-31 21:10:00        -2.75 -0.675590  0.737277  0.008334  0.999965\n",
       "2016-12-31 22:10:00        -2.89 -0.461749  0.887011  0.009050  0.999959\n",
       "2016-12-31 23:10:00        -3.93 -0.216440  0.976296  0.009767  0.999952\n",
       "\n",
       "[70091 rows x 5 columns]"
      ]
     },
     "execution_count": 103,
     "metadata": {},
     "output_type": "execute_result"
    }
   ],
   "source": [
    "temp_df = temp_df.drop('Seconds', axis=1)\n",
    "temp_df"
   ]
  },
  {
   "cell_type": "code",
   "execution_count": 104,
   "metadata": {
    "id": "pQSGTWaPL-E5"
   },
   "outputs": [],
   "source": [
    "def df_to_X_y2(df, window_size=6):\n",
    "  df_as_np = df.to_numpy()\n",
    "  X = []\n",
    "  y = []\n",
    "  for i in range(len(df_as_np)-window_size):\n",
    "    row = [r for r in df_as_np[i:i+window_size]]\n",
    "    X.append(row)\n",
    "    label = df_as_np[i+window_size][0]\n",
    "    y.append(label)\n",
    "  return np.array(X), np.array(y)"
   ]
  },
  {
   "cell_type": "code",
   "execution_count": 105,
   "metadata": {
    "colab": {
     "base_uri": "https://localhost:8080/"
    },
    "id": "ItaFUqTsCyna",
    "outputId": "3af2900d-062a-4473-d33d-42f75c85e19e"
   },
   "outputs": [
    {
     "data": {
      "text/plain": [
       "((70085, 6, 5), (70085,))"
      ]
     },
     "execution_count": 105,
     "metadata": {},
     "output_type": "execute_result"
    }
   ],
   "source": [
    "X2, y2 = df_to_X_y2(temp_df)\n",
    "X2.shape, y2.shape"
   ]
  },
  {
   "cell_type": "code",
   "execution_count": 106,
   "metadata": {
    "colab": {
     "base_uri": "https://localhost:8080/"
    },
    "id": "AmtFJ_0pD-xh",
    "outputId": "8793bef1-9040-4a04-97fe-21d54bb5fd90"
   },
   "outputs": [
    {
     "data": {
      "text/plain": [
       "((60000, 6, 5), (60000,), (5000, 6, 5), (5000,), (5085, 6, 5), (5085,))"
      ]
     },
     "execution_count": 106,
     "metadata": {},
     "output_type": "execute_result"
    }
   ],
   "source": [
    "X2_train, y2_train = X2[:60000], y2[:60000]\n",
    "X2_val, y2_val = X2[60000:65000], y2[60000:65000]\n",
    "X2_test, y2_test = X2[65000:], y2[65000:]\n",
    "X2_train.shape, y2_train.shape, X2_val.shape, y2_val.shape, X2_test.shape, y2_test.shape"
   ]
  },
  {
   "cell_type": "code",
   "execution_count": 107,
   "metadata": {
    "id": "a51kf2YbGlio"
   },
   "outputs": [],
   "source": [
    "temp_training_mean = np.mean(X2_train[:, :, 0])\n",
    "temp_training_std = np.std(X2_train[:, :, 0])\n",
    "\n",
    "def preprocess(X):\n",
    "  X[:, :, 0] = (X[:, :, 0] - temp_training_mean) / temp_training_std\n",
    "  return X"
   ]
  },
  {
   "cell_type": "code",
   "execution_count": 108,
   "metadata": {
    "colab": {
     "base_uri": "https://localhost:8080/"
    },
    "id": "CLnCvqyfHPDs",
    "outputId": "aecbb65b-3d08-4e19-b95d-ec76de72c56a"
   },
   "outputs": [
    {
     "data": {
      "text/plain": [
       "array([[[ 1.04009706e+00, -9.65925826e-01,  2.58819045e-01,\n",
       "          5.22877889e-01, -8.52407598e-01],\n",
       "        [ 9.90732794e-01, -8.66025404e-01,  5.00000000e-01,\n",
       "          5.22266764e-01, -8.52782169e-01],\n",
       "        [ 8.49692028e-01, -7.07106781e-01,  7.07106781e-01,\n",
       "          5.21655371e-01, -8.53156301e-01],\n",
       "        [ 7.55664851e-01, -5.00000000e-01,  8.66025404e-01,\n",
       "          5.21043709e-01, -8.53529995e-01],\n",
       "        [ 6.66339032e-01, -2.58819045e-01,  9.65925826e-01,\n",
       "          5.20431780e-01, -8.53903251e-01],\n",
       "        [ 5.37051663e-01, -7.16474371e-12,  1.00000000e+00,\n",
       "          5.19819584e-01, -8.54276068e-01]],\n",
       "\n",
       "       [[ 9.90732794e-01, -8.66025404e-01,  5.00000000e-01,\n",
       "          5.22266764e-01, -8.52782169e-01],\n",
       "        [ 8.49692028e-01, -7.07106781e-01,  7.07106781e-01,\n",
       "          5.21655371e-01, -8.53156301e-01],\n",
       "        [ 7.55664851e-01, -5.00000000e-01,  8.66025404e-01,\n",
       "          5.21043709e-01, -8.53529995e-01],\n",
       "        [ 6.66339032e-01, -2.58819045e-01,  9.65925826e-01,\n",
       "          5.20431780e-01, -8.53903251e-01],\n",
       "        [ 5.37051663e-01, -7.16474371e-12,  1.00000000e+00,\n",
       "          5.19819584e-01, -8.54276068e-01],\n",
       "        [ 4.74758658e-01,  2.58819045e-01,  9.65925826e-01,\n",
       "          5.19207120e-01, -8.54648446e-01]],\n",
       "\n",
       "       [[ 8.49692028e-01, -7.07106781e-01,  7.07106781e-01,\n",
       "          5.21655371e-01, -8.53156301e-01],\n",
       "        [ 7.55664851e-01, -5.00000000e-01,  8.66025404e-01,\n",
       "          5.21043709e-01, -8.53529995e-01],\n",
       "        [ 6.66339032e-01, -2.58819045e-01,  9.65925826e-01,\n",
       "          5.20431780e-01, -8.53903251e-01],\n",
       "        [ 5.37051663e-01, -7.16474371e-12,  1.00000000e+00,\n",
       "          5.19819584e-01, -8.54276068e-01],\n",
       "        [ 4.74758658e-01,  2.58819045e-01,  9.65925826e-01,\n",
       "          5.19207120e-01, -8.54648446e-01],\n",
       "        [ 4.12465653e-01,  5.00000000e-01,  8.66025404e-01,\n",
       "          5.18594390e-01, -8.55020385e-01]],\n",
       "\n",
       "       ...,\n",
       "\n",
       "       [[-5.23104762e-01, -7.37277337e-01, -6.75590208e-01,\n",
       "          4.03308458e-03,  9.99991867e-01],\n",
       "        [-8.20465711e-01, -8.87010833e-01, -4.61748613e-01,\n",
       "          4.74986003e-03,  9.99988719e-01],\n",
       "        [-9.55629779e-01, -9.76296007e-01, -2.16439614e-01,\n",
       "          5.46663304e-03,  9.99985058e-01],\n",
       "        [-1.15661287e+00, -9.99048222e-01,  4.36193874e-02,\n",
       "          6.18340325e-03,  9.99980883e-01],\n",
       "        [-1.22243189e+00, -9.53716951e-01,  3.00705799e-01,\n",
       "          6.90017027e-03,  9.99976194e-01],\n",
       "        [-1.27179616e+00, -8.43391446e-01,  5.37299608e-01,\n",
       "          7.61693375e-03,  9.99970991e-01]],\n",
       "\n",
       "       [[-8.20465711e-01, -8.87010833e-01, -4.61748613e-01,\n",
       "          4.74986003e-03,  9.99988719e-01],\n",
       "        [-9.55629779e-01, -9.76296007e-01, -2.16439614e-01,\n",
       "          5.46663304e-03,  9.99985058e-01],\n",
       "        [-1.15661287e+00, -9.99048222e-01,  4.36193874e-02,\n",
       "          6.18340325e-03,  9.99980883e-01],\n",
       "        [-1.22243189e+00, -9.53716951e-01,  3.00705799e-01,\n",
       "          6.90017027e-03,  9.99976194e-01],\n",
       "        [-1.27179616e+00, -8.43391446e-01,  5.37299608e-01,\n",
       "          7.61693375e-03,  9.99970991e-01],\n",
       "        [-1.43046702e+00, -6.75590208e-01,  7.37277337e-01,\n",
       "          8.33369332e-03,  9.99965274e-01]],\n",
       "\n",
       "       [[-9.55629779e-01, -9.76296007e-01, -2.16439614e-01,\n",
       "          5.46663304e-03,  9.99985058e-01],\n",
       "        [-1.15661287e+00, -9.99048222e-01,  4.36193874e-02,\n",
       "          6.18340325e-03,  9.99980883e-01],\n",
       "        [-1.22243189e+00, -9.53716951e-01,  3.00705799e-01,\n",
       "          6.90017027e-03,  9.99976194e-01],\n",
       "        [-1.27179616e+00, -8.43391446e-01,  5.37299608e-01,\n",
       "          7.61693375e-03,  9.99970991e-01],\n",
       "        [-1.43046702e+00, -6.75590208e-01,  7.37277337e-01,\n",
       "          8.33369332e-03,  9.99965274e-01],\n",
       "        [-1.44692178e+00, -4.61748613e-01,  8.87010833e-01,\n",
       "          9.05044860e-03,  9.99959044e-01]]])"
      ]
     },
     "execution_count": 108,
     "metadata": {},
     "output_type": "execute_result"
    }
   ],
   "source": [
    "preprocess(X2_train)\n",
    "preprocess(X2_val)\n",
    "preprocess(X2_test)"
   ]
  },
  {
   "cell_type": "code",
   "execution_count": 109,
   "metadata": {
    "colab": {
     "base_uri": "https://localhost:8080/"
    },
    "id": "AER68ty-DDK4",
    "outputId": "cb6ebf99-1b7c-417d-951c-78b83a247ebd"
   },
   "outputs": [
    {
     "name": "stdout",
     "output_type": "stream",
     "text": [
      "Model: \"sequential_10\"\n",
      "_________________________________________________________________\n",
      " Layer (type)                Output Shape              Param #   \n",
      "=================================================================\n",
      " lstm_6 (LSTM)               (None, 64)                17920     \n",
      "                                                                 \n",
      " dense_20 (Dense)            (None, 8)                 520       \n",
      "                                                                 \n",
      " dense_21 (Dense)            (None, 1)                 9         \n",
      "                                                                 \n",
      "=================================================================\n",
      "Total params: 18449 (72.07 KB)\n",
      "Trainable params: 18449 (72.07 KB)\n",
      "Non-trainable params: 0 (0.00 Byte)\n",
      "_________________________________________________________________\n"
     ]
    }
   ],
   "source": [
    "model4 = Sequential()\n",
    "model4.add(InputLayer((6, 5)))\n",
    "model4.add(LSTM(64))\n",
    "model4.add(Dense(8, 'relu'))\n",
    "model4.add(Dense(1, 'linear'))\n",
    "\n",
    "model4.summary()"
   ]
  },
  {
   "cell_type": "code",
   "execution_count": 110,
   "metadata": {
    "id": "nYWXv67bENSm"
   },
   "outputs": [],
   "source": [
    "cp4 = ModelCheckpoint('model4/', save_best_only=True)\n",
    "model4.compile(loss=MeanSquaredError(), optimizer=Adam(learning_rate=0.0001), metrics=[RootMeanSquaredError()])"
   ]
  },
  {
   "cell_type": "code",
   "execution_count": 111,
   "metadata": {
    "id": "nodJelV-EZRI"
   },
   "outputs": [
    {
     "name": "stdout",
     "output_type": "stream",
     "text": [
      "Epoch 1/10\n",
      "1874/1875 [============================>.] - ETA: 0s - loss: 57.7637 - root_mean_squared_error: 7.6002INFO:tensorflow:Assets written to: model4\\assets\n"
     ]
    },
    {
     "name": "stderr",
     "output_type": "stream",
     "text": [
      "INFO:tensorflow:Assets written to: model4\\assets\n"
     ]
    },
    {
     "name": "stdout",
     "output_type": "stream",
     "text": [
      "1875/1875 [==============================] - 26s 12ms/step - loss: 57.7388 - root_mean_squared_error: 7.5986 - val_loss: 4.5458 - val_root_mean_squared_error: 2.1321\n",
      "Epoch 2/10\n",
      "1873/1875 [============================>.] - ETA: 0s - loss: 5.6711 - root_mean_squared_error: 2.3814INFO:tensorflow:Assets written to: model4\\assets\n"
     ]
    },
    {
     "name": "stderr",
     "output_type": "stream",
     "text": [
      "INFO:tensorflow:Assets written to: model4\\assets\n"
     ]
    },
    {
     "name": "stdout",
     "output_type": "stream",
     "text": [
      "1875/1875 [==============================] - 22s 12ms/step - loss: 5.6677 - root_mean_squared_error: 2.3807 - val_loss: 1.7603 - val_root_mean_squared_error: 1.3268\n",
      "Epoch 3/10\n",
      "1872/1875 [============================>.] - ETA: 0s - loss: 1.9873 - root_mean_squared_error: 1.4097INFO:tensorflow:Assets written to: model4\\assets\n"
     ]
    },
    {
     "name": "stderr",
     "output_type": "stream",
     "text": [
      "INFO:tensorflow:Assets written to: model4\\assets\n"
     ]
    },
    {
     "name": "stdout",
     "output_type": "stream",
     "text": [
      "1875/1875 [==============================] - 21s 11ms/step - loss: 1.9860 - root_mean_squared_error: 1.4092 - val_loss: 1.0426 - val_root_mean_squared_error: 1.0211\n",
      "Epoch 4/10\n",
      "1873/1875 [============================>.] - ETA: 0s - loss: 1.2727 - root_mean_squared_error: 1.1281INFO:tensorflow:Assets written to: model4\\assets\n"
     ]
    },
    {
     "name": "stderr",
     "output_type": "stream",
     "text": [
      "INFO:tensorflow:Assets written to: model4\\assets\n"
     ]
    },
    {
     "name": "stdout",
     "output_type": "stream",
     "text": [
      "1875/1875 [==============================] - 21s 11ms/step - loss: 1.2724 - root_mean_squared_error: 1.1280 - val_loss: 0.8239 - val_root_mean_squared_error: 0.9077\n",
      "Epoch 5/10\n",
      "1870/1875 [============================>.] - ETA: 0s - loss: 0.9752 - root_mean_squared_error: 0.9875INFO:tensorflow:Assets written to: model4\\assets\n"
     ]
    },
    {
     "name": "stderr",
     "output_type": "stream",
     "text": [
      "INFO:tensorflow:Assets written to: model4\\assets\n"
     ]
    },
    {
     "name": "stdout",
     "output_type": "stream",
     "text": [
      "1875/1875 [==============================] - 23s 12ms/step - loss: 0.9745 - root_mean_squared_error: 0.9872 - val_loss: 0.6603 - val_root_mean_squared_error: 0.8126\n",
      "Epoch 6/10\n",
      "1872/1875 [============================>.] - ETA: 0s - loss: 0.7750 - root_mean_squared_error: 0.8803INFO:tensorflow:Assets written to: model4\\assets\n"
     ]
    },
    {
     "name": "stderr",
     "output_type": "stream",
     "text": [
      "INFO:tensorflow:Assets written to: model4\\assets\n"
     ]
    },
    {
     "name": "stdout",
     "output_type": "stream",
     "text": [
      "1875/1875 [==============================] - 22s 12ms/step - loss: 0.7751 - root_mean_squared_error: 0.8804 - val_loss: 0.5541 - val_root_mean_squared_error: 0.7443\n",
      "Epoch 7/10\n",
      "1873/1875 [============================>.] - ETA: 0s - loss: 0.6382 - root_mean_squared_error: 0.7989INFO:tensorflow:Assets written to: model4\\assets\n"
     ]
    },
    {
     "name": "stderr",
     "output_type": "stream",
     "text": [
      "INFO:tensorflow:Assets written to: model4\\assets\n"
     ]
    },
    {
     "name": "stdout",
     "output_type": "stream",
     "text": [
      "1875/1875 [==============================] - 23s 12ms/step - loss: 0.6380 - root_mean_squared_error: 0.7987 - val_loss: 0.4539 - val_root_mean_squared_error: 0.6737\n",
      "Epoch 8/10\n",
      "1873/1875 [============================>.] - ETA: 0s - loss: 0.5679 - root_mean_squared_error: 0.7536INFO:tensorflow:Assets written to: model4\\assets\n"
     ]
    },
    {
     "name": "stderr",
     "output_type": "stream",
     "text": [
      "INFO:tensorflow:Assets written to: model4\\assets\n"
     ]
    },
    {
     "name": "stdout",
     "output_type": "stream",
     "text": [
      "1875/1875 [==============================] - 22s 11ms/step - loss: 0.5679 - root_mean_squared_error: 0.7536 - val_loss: 0.4261 - val_root_mean_squared_error: 0.6528\n",
      "Epoch 9/10\n",
      "1872/1875 [============================>.] - ETA: 0s - loss: 0.5412 - root_mean_squared_error: 0.7356INFO:tensorflow:Assets written to: model4\\assets\n"
     ]
    },
    {
     "name": "stderr",
     "output_type": "stream",
     "text": [
      "INFO:tensorflow:Assets written to: model4\\assets\n"
     ]
    },
    {
     "name": "stdout",
     "output_type": "stream",
     "text": [
      "1875/1875 [==============================] - 22s 12ms/step - loss: 0.5408 - root_mean_squared_error: 0.7354 - val_loss: 0.4156 - val_root_mean_squared_error: 0.6446\n",
      "Epoch 10/10\n",
      "1872/1875 [============================>.] - ETA: 0s - loss: 0.5303 - root_mean_squared_error: 0.7283INFO:tensorflow:Assets written to: model4\\assets\n"
     ]
    },
    {
     "name": "stderr",
     "output_type": "stream",
     "text": [
      "INFO:tensorflow:Assets written to: model4\\assets\n"
     ]
    },
    {
     "name": "stdout",
     "output_type": "stream",
     "text": [
      "1875/1875 [==============================] - 22s 12ms/step - loss: 0.5308 - root_mean_squared_error: 0.7286 - val_loss: 0.4098 - val_root_mean_squared_error: 0.6402\n"
     ]
    },
    {
     "data": {
      "text/plain": [
       "<keras.src.callbacks.History at 0x1ee0e7c7f50>"
      ]
     },
     "execution_count": 111,
     "metadata": {},
     "output_type": "execute_result"
    }
   ],
   "source": [
    "model4.fit(X2_train, y2_train, validation_data=(X2_val, y2_val), epochs=10, callbacks=[cp4])"
   ]
  },
  {
   "cell_type": "code",
   "execution_count": 112,
   "metadata": {
    "colab": {
     "base_uri": "https://localhost:8080/",
     "height": 503
    },
    "id": "jAgqCN2XEhNs",
    "outputId": "719f3825-808d-493d-c686-ac0ec1a3b85f"
   },
   "outputs": [
    {
     "name": "stdout",
     "output_type": "stream",
     "text": [
      "159/159 [==============================] - 2s 5ms/step\n"
     ]
    },
    {
     "data": {
      "text/plain": [
       "(      Predictions  Actuals\n",
       " 0       13.311637    13.46\n",
       " 1       12.901159    12.93\n",
       " 2       12.475226    12.43\n",
       " 3       12.173822    12.17\n",
       " 4       12.290567    11.55\n",
       " ...           ...      ...\n",
       " 5080    -0.940275    -0.98\n",
       " 5081    -1.255963    -1.40\n",
       " 5082    -1.550331    -2.75\n",
       " 5083    -2.965939    -2.89\n",
       " 5084    -2.972745    -3.93\n",
       " \n",
       " [5085 rows x 2 columns],\n",
       " 0.486218893308658)"
      ]
     },
     "execution_count": 112,
     "metadata": {},
     "output_type": "execute_result"
    },
    {
     "data": {
      "image/png": "[encoded data removed]",
      "text/plain": [
       "<Figure size 640x480 with 1 Axes>"
      ]
     },
     "metadata": {},
     "output_type": "display_data"
    }
   ],
   "source": [
    "plot_predictions1(model4, X2_test, y2_test)"
   ]
  },
  {
   "cell_type": "code",
   "execution_count": 113,
   "metadata": {
    "colab": {
     "base_uri": "https://localhost:8080/",
     "height": 447
    },
    "id": "evOTkLI4Phga",
    "outputId": "789806c9-2823-4ca5-ebed-65d021e8a00a"
   },
   "outputs": [
    {
     "data": {
      "text/html": [
       "<div>\n",
       "<style scoped>\n",
       "    .dataframe tbody tr th:only-of-type {\n",
       "        vertical-align: middle;\n",
       "    }\n",
       "\n",
       "    .dataframe tbody tr th {\n",
       "        vertical-align: top;\n",
       "    }\n",
       "\n",
       "    .dataframe thead th {\n",
       "        text-align: right;\n",
       "    }\n",
       "</style>\n",
       "<table border=\"1\" class=\"dataframe\">\n",
       "  <thead>\n",
       "    <tr style=\"text-align: right;\">\n",
       "      <th></th>\n",
       "      <th>p (mbar)</th>\n",
       "      <th>Temperature</th>\n",
       "      <th>Day sin</th>\n",
       "      <th>Day cos</th>\n",
       "      <th>Year sin</th>\n",
       "      <th>Year cos</th>\n",
       "    </tr>\n",
       "    <tr>\n",
       "      <th>Date Time</th>\n",
       "      <th></th>\n",
       "      <th></th>\n",
       "      <th></th>\n",
       "      <th></th>\n",
       "      <th></th>\n",
       "      <th></th>\n",
       "    </tr>\n",
       "  </thead>\n",
       "  <tbody>\n",
       "    <tr>\n",
       "      <th>2009-01-01 01:00:00</th>\n",
       "      <td>996.50</td>\n",
       "      <td>-8.05</td>\n",
       "      <td>0.258819</td>\n",
       "      <td>0.965926</td>\n",
       "      <td>0.010049</td>\n",
       "      <td>0.999950</td>\n",
       "    </tr>\n",
       "    <tr>\n",
       "      <th>2009-01-01 02:00:00</th>\n",
       "      <td>996.62</td>\n",
       "      <td>-8.88</td>\n",
       "      <td>0.500000</td>\n",
       "      <td>0.866025</td>\n",
       "      <td>0.010766</td>\n",
       "      <td>0.999942</td>\n",
       "    </tr>\n",
       "    <tr>\n",
       "      <th>2009-01-01 03:00:00</th>\n",
       "      <td>996.84</td>\n",
       "      <td>-8.81</td>\n",
       "      <td>0.707107</td>\n",
       "      <td>0.707107</td>\n",
       "      <td>0.011483</td>\n",
       "      <td>0.999934</td>\n",
       "    </tr>\n",
       "    <tr>\n",
       "      <th>2009-01-01 04:00:00</th>\n",
       "      <td>996.99</td>\n",
       "      <td>-9.05</td>\n",
       "      <td>0.866025</td>\n",
       "      <td>0.500000</td>\n",
       "      <td>0.012199</td>\n",
       "      <td>0.999926</td>\n",
       "    </tr>\n",
       "    <tr>\n",
       "      <th>2009-01-01 05:00:00</th>\n",
       "      <td>997.46</td>\n",
       "      <td>-9.63</td>\n",
       "      <td>0.965926</td>\n",
       "      <td>0.258819</td>\n",
       "      <td>0.012916</td>\n",
       "      <td>0.999917</td>\n",
       "    </tr>\n",
       "    <tr>\n",
       "      <th>...</th>\n",
       "      <td>...</td>\n",
       "      <td>...</td>\n",
       "      <td>...</td>\n",
       "      <td>...</td>\n",
       "      <td>...</td>\n",
       "      <td>...</td>\n",
       "    </tr>\n",
       "    <tr>\n",
       "      <th>2016-12-31 19:10:00</th>\n",
       "      <td>1002.18</td>\n",
       "      <td>-0.98</td>\n",
       "      <td>-0.953717</td>\n",
       "      <td>0.300706</td>\n",
       "      <td>0.006900</td>\n",
       "      <td>0.999976</td>\n",
       "    </tr>\n",
       "    <tr>\n",
       "      <th>2016-12-31 20:10:00</th>\n",
       "      <td>1001.40</td>\n",
       "      <td>-1.40</td>\n",
       "      <td>-0.843391</td>\n",
       "      <td>0.537300</td>\n",
       "      <td>0.007617</td>\n",
       "      <td>0.999971</td>\n",
       "    </tr>\n",
       "    <tr>\n",
       "      <th>2016-12-31 21:10:00</th>\n",
       "      <td>1001.19</td>\n",
       "      <td>-2.75</td>\n",
       "      <td>-0.675590</td>\n",
       "      <td>0.737277</td>\n",
       "      <td>0.008334</td>\n",
       "      <td>0.999965</td>\n",
       "    </tr>\n",
       "    <tr>\n",
       "      <th>2016-12-31 22:10:00</th>\n",
       "      <td>1000.65</td>\n",
       "      <td>-2.89</td>\n",
       "      <td>-0.461749</td>\n",
       "      <td>0.887011</td>\n",
       "      <td>0.009050</td>\n",
       "      <td>0.999959</td>\n",
       "    </tr>\n",
       "    <tr>\n",
       "      <th>2016-12-31 23:10:00</th>\n",
       "      <td>1000.11</td>\n",
       "      <td>-3.93</td>\n",
       "      <td>-0.216440</td>\n",
       "      <td>0.976296</td>\n",
       "      <td>0.009767</td>\n",
       "      <td>0.999952</td>\n",
       "    </tr>\n",
       "  </tbody>\n",
       "</table>\n",
       "<p>70091 rows × 6 columns</p>\n",
       "</div>"
      ],
      "text/plain": [
       "                     p (mbar)  Temperature   Day sin   Day cos  Year sin  \\\n",
       "Date Time                                                                  \n",
       "2009-01-01 01:00:00    996.50        -8.05  0.258819  0.965926  0.010049   \n",
       "2009-01-01 02:00:00    996.62        -8.88  0.500000  0.866025  0.010766   \n",
       "2009-01-01 03:00:00    996.84        -8.81  0.707107  0.707107  0.011483   \n",
       "2009-01-01 04:00:00    996.99        -9.05  0.866025  0.500000  0.012199   \n",
       "2009-01-01 05:00:00    997.46        -9.63  0.965926  0.258819  0.012916   \n",
       "...                       ...          ...       ...       ...       ...   \n",
       "2016-12-31 19:10:00   1002.18        -0.98 -0.953717  0.300706  0.006900   \n",
       "2016-12-31 20:10:00   1001.40        -1.40 -0.843391  0.537300  0.007617   \n",
       "2016-12-31 21:10:00   1001.19        -2.75 -0.675590  0.737277  0.008334   \n",
       "2016-12-31 22:10:00   1000.65        -2.89 -0.461749  0.887011  0.009050   \n",
       "2016-12-31 23:10:00   1000.11        -3.93 -0.216440  0.976296  0.009767   \n",
       "\n",
       "                     Year cos  \n",
       "Date Time                      \n",
       "2009-01-01 01:00:00  0.999950  \n",
       "2009-01-01 02:00:00  0.999942  \n",
       "2009-01-01 03:00:00  0.999934  \n",
       "2009-01-01 04:00:00  0.999926  \n",
       "2009-01-01 05:00:00  0.999917  \n",
       "...                       ...  \n",
       "2016-12-31 19:10:00  0.999976  \n",
       "2016-12-31 20:10:00  0.999971  \n",
       "2016-12-31 21:10:00  0.999965  \n",
       "2016-12-31 22:10:00  0.999959  \n",
       "2016-12-31 23:10:00  0.999952  \n",
       "\n",
       "[70091 rows x 6 columns]"
      ]
     },
     "execution_count": 113,
     "metadata": {},
     "output_type": "execute_result"
    }
   ],
   "source": [
    "p_temp_df = pd.concat([df['p (mbar)'], temp_df], axis=1)\n",
    "p_temp_df"
   ]
  },
  {
   "cell_type": "code",
   "execution_count": 114,
   "metadata": {
    "id": "qCLh2-T8RgS4"
   },
   "outputs": [],
   "source": [
    "def df_to_X_y3(df, window_size=7):\n",
    "  df_as_np = df.to_numpy()\n",
    "  X = []\n",
    "  y = []\n",
    "  for i in range(len(df_as_np)-window_size):\n",
    "    row = [r for r in df_as_np[i:i+window_size]]\n",
    "    X.append(row)\n",
    "    label = [df_as_np[i+window_size][0], df_as_np[i+window_size][1]]\n",
    "    y.append(label)\n",
    "  return np.array(X), np.array(y)"
   ]
  },
  {
   "cell_type": "code",
   "execution_count": 115,
   "metadata": {
    "colab": {
     "base_uri": "https://localhost:8080/"
    },
    "id": "VpuUPN1cSzdk",
    "outputId": "925f113a-190f-470b-dd66-b03170c5d887"
   },
   "outputs": [
    {
     "data": {
      "text/plain": [
       "((70084, 7, 6), (70084, 2))"
      ]
     },
     "execution_count": 115,
     "metadata": {},
     "output_type": "execute_result"
    }
   ],
   "source": [
    "X3, y3 = df_to_X_y3(p_temp_df)\n",
    "X3.shape, y3.shape"
   ]
  },
  {
   "cell_type": "code",
   "execution_count": 116,
   "metadata": {
    "colab": {
     "base_uri": "https://localhost:8080/"
    },
    "id": "_wzVmWCVUMYY",
    "outputId": "da570e15-02e9-40d7-8cda-f24c7929bcdc"
   },
   "outputs": [
    {
     "data": {
      "text/plain": [
       "((60000, 7, 6), (60000, 2), (5000, 7, 6), (5000, 2), (5084, 7, 6), (5084, 2))"
      ]
     },
     "execution_count": 116,
     "metadata": {},
     "output_type": "execute_result"
    }
   ],
   "source": [
    "X3_train, y3_train = X3[:60000], y3[:60000]\n",
    "X3_val, y3_val = X3[60000:65000], y3[60000:65000]\n",
    "X3_test, y3_test = X3[65000:], y3[65000:]\n",
    "X3_train.shape, y3_train.shape, X3_val.shape, y3_val.shape, X3_test.shape, y3_test.shape"
   ]
  },
  {
   "cell_type": "code",
   "execution_count": 117,
   "metadata": {
    "id": "GGbZvLocUY54"
   },
   "outputs": [],
   "source": [
    "p_training_mean3 = np.mean(X3_train[:, :, 0])\n",
    "p_training_std3 = np.std(X3_train[:, :, 0])\n",
    "\n",
    "temp_training_mean3 = np.mean(X3_train[:, :, 1])\n",
    "temp_training_std3 = np.std(X3_train[:, :, 1])\n",
    "\n",
    "def preprocess3(X):\n",
    "  X[:, :, 0] = (X[:, :, 0] - p_training_mean3) / p_training_std3\n",
    "  X[:, :, 1] = (X[:, :, 1] - temp_training_mean3) / temp_training_std3\n",
    "  return X\n",
    "\n",
    "def preprocess_output(y):\n",
    "  y[:, 0] = (y[:, 0] - p_training_mean3) / p_training_std3\n",
    "  y[:, 1] = (y[:, 1] - temp_training_mean3) / temp_training_std3\n",
    "  return y"
   ]
  },
  {
   "cell_type": "code",
   "execution_count": 118,
   "metadata": {
    "colab": {
     "base_uri": "https://localhost:8080/"
    },
    "id": "8YTj2X6CU_1J",
    "outputId": "aac36bbf-0390-4340-d12e-ababaeab1943"
   },
   "outputs": [
    {
     "data": {
      "text/plain": [
       "array([[[-1.07355644e+00,  1.04009390e+00, -9.65925826e-01,\n",
       "          2.58819045e-01,  5.22877889e-01, -8.52407598e-01],\n",
       "        [-1.00807435e+00,  9.90728707e-01, -8.66025404e-01,\n",
       "          5.00000000e-01,  5.22266764e-01, -8.52782169e-01],\n",
       "        [-9.51080673e-01,  8.49685305e-01, -7.07106781e-01,\n",
       "          7.07106781e-01,  5.21655371e-01, -8.53156301e-01],\n",
       "        ...,\n",
       "        [-8.80748054e-01,  6.66328883e-01, -2.58819045e-01,\n",
       "          9.65925826e-01,  5.20431780e-01, -8.53903251e-01],\n",
       "        [-8.29817537e-01,  5.37039098e-01, -7.16474371e-12,\n",
       "          1.00000000e+00,  5.19819584e-01, -8.54276068e-01],\n",
       "        [-8.01927015e-01,  4.74744929e-01,  2.58819045e-01,\n",
       "          9.65925826e-01,  5.19207120e-01, -8.54648446e-01]],\n",
       "\n",
       "       [[-1.00807435e+00,  9.90728707e-01, -8.66025404e-01,\n",
       "          5.00000000e-01,  5.22266764e-01, -8.52782169e-01],\n",
       "        [-9.51080673e-01,  8.49685305e-01, -7.07106781e-01,\n",
       "          7.07106781e-01,  5.21655371e-01, -8.53156301e-01],\n",
       "        [-9.14701732e-01,  7.55656370e-01, -5.00000000e-01,\n",
       "          8.66025404e-01,  5.21043709e-01, -8.53529995e-01],\n",
       "        ...,\n",
       "        [-8.29817537e-01,  5.37039098e-01, -7.16474371e-12,\n",
       "          1.00000000e+00,  5.19819584e-01, -8.54276068e-01],\n",
       "        [-8.01927015e-01,  4.74744929e-01,  2.58819045e-01,\n",
       "          9.65925826e-01,  5.19207120e-01, -8.54648446e-01],\n",
       "        [-7.93438596e-01,  4.12450760e-01,  5.00000000e-01,\n",
       "          8.66025404e-01,  5.18594390e-01, -8.55020385e-01]],\n",
       "\n",
       "       [[-9.51080673e-01,  8.49685305e-01, -7.07106781e-01,\n",
       "          7.07106781e-01,  5.21655371e-01, -8.53156301e-01],\n",
       "        [-9.14701732e-01,  7.55656370e-01, -5.00000000e-01,\n",
       "          8.66025404e-01,  5.21043709e-01, -8.53529995e-01],\n",
       "        [-8.80748054e-01,  6.66328883e-01, -2.58819045e-01,\n",
       "          9.65925826e-01,  5.20431780e-01, -8.53903251e-01],\n",
       "        ...,\n",
       "        [-8.01927015e-01,  4.74744929e-01,  2.58819045e-01,\n",
       "          9.65925826e-01,  5.19207120e-01, -8.54648446e-01],\n",
       "        [-7.93438596e-01,  4.12450760e-01,  5.00000000e-01,\n",
       "          8.66025404e-01,  5.18594390e-01, -8.55020385e-01],\n",
       "        [-7.63122812e-01,  3.53682676e-01,  7.07106781e-01,\n",
       "          7.07106781e-01,  5.17981393e-01, -8.55391885e-01]],\n",
       "\n",
       "       ...,\n",
       "\n",
       "       [[ 1.73125990e+00, -6.19516796e-01, -5.37299608e-01,\n",
       "         -8.43391446e-01,  3.31630706e-03,  9.99994501e-01],\n",
       "        [ 1.71185780e+00, -5.23137138e-01, -7.37277337e-01,\n",
       "         -6.75590208e-01,  4.03308458e-03,  9.99991867e-01],\n",
       "        [ 1.64516307e+00, -8.20503643e-01, -8.87010833e-01,\n",
       "         -4.61748613e-01,  4.74986003e-03,  9.99988719e-01],\n",
       "        ...,\n",
       "        [ 1.61242203e+00, -1.15665708e+00, -9.99048222e-01,\n",
       "          4.36193874e-02,  6.18340325e-03,  9.99980883e-01],\n",
       "        [ 1.60150834e+00, -1.22247734e+00, -9.53716951e-01,\n",
       "          3.00705799e-01,  6.90017027e-03,  9.99976194e-01],\n",
       "        [ 1.50692310e+00, -1.27184253e+00, -8.43391446e-01,\n",
       "          5.37299608e-01,  7.61693375e-03,  9.99970991e-01]],\n",
       "\n",
       "       [[ 1.71185780e+00, -5.23137138e-01, -7.37277337e-01,\n",
       "         -6.75590208e-01,  4.03308458e-03,  9.99991867e-01],\n",
       "        [ 1.64516307e+00, -8.20503643e-01, -8.87010833e-01,\n",
       "         -4.61748613e-01,  4.74986003e-03,  9.99988719e-01],\n",
       "        [ 1.63182413e+00, -9.55670237e-01, -9.76296007e-01,\n",
       "         -2.16439614e-01,  5.46663304e-03,  9.99985058e-01],\n",
       "        ...,\n",
       "        [ 1.60150834e+00, -1.22247734e+00, -9.53716951e-01,\n",
       "          3.00705799e-01,  6.90017027e-03,  9.99976194e-01],\n",
       "        [ 1.50692310e+00, -1.27184253e+00, -8.43391446e-01,\n",
       "          5.37299608e-01,  7.61693375e-03,  9.99970991e-01],\n",
       "        [ 1.48145784e+00, -1.43051636e+00, -6.75590208e-01,\n",
       "          7.37277337e-01,  8.33369332e-03,  9.99965274e-01]],\n",
       "\n",
       "       [[ 1.64516307e+00, -8.20503643e-01, -8.87010833e-01,\n",
       "         -4.61748613e-01,  4.74986003e-03,  9.99988719e-01],\n",
       "        [ 1.63182413e+00, -9.55670237e-01, -9.76296007e-01,\n",
       "         -2.16439614e-01,  5.46663304e-03,  9.99985058e-01],\n",
       "        [ 1.61242203e+00, -1.15665708e+00, -9.99048222e-01,\n",
       "          4.36193874e-02,  6.18340325e-03,  9.99980883e-01],\n",
       "        ...,\n",
       "        [ 1.50692310e+00, -1.27184253e+00, -8.43391446e-01,\n",
       "          5.37299608e-01,  7.61693375e-03,  9.99970991e-01],\n",
       "        [ 1.48145784e+00, -1.43051636e+00, -6.75590208e-01,\n",
       "          7.37277337e-01,  8.33369332e-03,  9.99965274e-01],\n",
       "        [ 1.41597574e+00, -1.44697142e+00, -4.61748613e-01,\n",
       "          8.87010833e-01,  9.05044860e-03,  9.99959044e-01]]])"
      ]
     },
     "execution_count": 118,
     "metadata": {},
     "output_type": "execute_result"
    }
   ],
   "source": [
    "preprocess3(X3_train)\n",
    "preprocess3(X3_val)\n",
    "preprocess3(X3_test)"
   ]
  },
  {
   "cell_type": "code",
   "execution_count": 119,
   "metadata": {
    "colab": {
     "base_uri": "https://localhost:8080/"
    },
    "id": "RKOm6mRLXgFZ",
    "outputId": "6dafb59f-9f0c-4382-f589-b7b2479c8685"
   },
   "outputs": [
    {
     "data": {
      "text/plain": [
       "array([[-0.7934386 ,  0.41245076],\n",
       "       [-0.76312281,  0.35368268],\n",
       "       [-0.72189335,  0.32312327],\n",
       "       ...,\n",
       "       [ 1.48145784, -1.43051636],\n",
       "       [ 1.41597574, -1.44697142],\n",
       "       [ 1.35049365, -1.56920903]])"
      ]
     },
     "execution_count": 119,
     "metadata": {},
     "output_type": "execute_result"
    }
   ],
   "source": [
    "preprocess_output(y3_train)\n",
    "preprocess_output(y3_val)\n",
    "preprocess_output(y3_test)"
   ]
  },
  {
   "cell_type": "code",
   "execution_count": 120,
   "metadata": {
    "colab": {
     "base_uri": "https://localhost:8080/"
    },
    "id": "ypEqobuNTg53",
    "outputId": "026cbebf-78d8-4810-fb7f-28830c770c67"
   },
   "outputs": [
    {
     "name": "stdout",
     "output_type": "stream",
     "text": [
      "Model: \"sequential_11\"\n",
      "_________________________________________________________________\n",
      " Layer (type)                Output Shape              Param #   \n",
      "=================================================================\n",
      " lstm_7 (LSTM)               (None, 64)                18176     \n",
      "                                                                 \n",
      " dense_22 (Dense)            (None, 8)                 520       \n",
      "                                                                 \n",
      " dense_23 (Dense)            (None, 2)                 18        \n",
      "                                                                 \n",
      "=================================================================\n",
      "Total params: 18714 (73.10 KB)\n",
      "Trainable params: 18714 (73.10 KB)\n",
      "Non-trainable params: 0 (0.00 Byte)\n",
      "_________________________________________________________________\n"
     ]
    }
   ],
   "source": [
    "model5 = Sequential()\n",
    "model5.add(InputLayer((7, 6)))\n",
    "model5.add(LSTM(64))\n",
    "model5.add(Dense(8, 'relu'))\n",
    "model5.add(Dense(2, 'linear'))\n",
    "\n",
    "model5.summary()"
   ]
  },
  {
   "cell_type": "code",
   "execution_count": 121,
   "metadata": {
    "id": "q25hb7rXUCDI"
   },
   "outputs": [],
   "source": [
    "cp5 = ModelCheckpoint('model5/', save_best_only=True)\n",
    "model5.compile(loss=MeanSquaredError(), optimizer=Adam(learning_rate=0.0001), metrics=[RootMeanSquaredError()])"
   ]
  },
  {
   "cell_type": "code",
   "execution_count": 122,
   "metadata": {
    "colab": {
     "base_uri": "https://localhost:8080/",
     "height": 337
    },
    "id": "t_xyuPiZUJ_n",
    "outputId": "94b1604f-9681-4c7d-ce22-c8ef05a3dc3b"
   },
   "outputs": [
    {
     "name": "stdout",
     "output_type": "stream",
     "text": [
      "Epoch 1/10\n",
      "1871/1875 [============================>.] - ETA: 0s - loss: 0.1549 - root_mean_squared_error: 0.3935INFO:tensorflow:Assets written to: model5\\assets\n"
     ]
    },
    {
     "name": "stderr",
     "output_type": "stream",
     "text": [
      "INFO:tensorflow:Assets written to: model5\\assets\n"
     ]
    },
    {
     "name": "stdout",
     "output_type": "stream",
     "text": [
      "1875/1875 [==============================] - 28s 13ms/step - loss: 0.1546 - root_mean_squared_error: 0.3932 - val_loss: 0.0342 - val_root_mean_squared_error: 0.1849\n",
      "Epoch 2/10\n",
      "1875/1875 [==============================] - ETA: 0s - loss: 0.0257 - root_mean_squared_error: 0.1602INFO:tensorflow:Assets written to: model5\\assets\n"
     ]
    },
    {
     "name": "stderr",
     "output_type": "stream",
     "text": [
      "INFO:tensorflow:Assets written to: model5\\assets\n"
     ]
    },
    {
     "name": "stdout",
     "output_type": "stream",
     "text": [
      "1875/1875 [==============================] - 23s 12ms/step - loss: 0.0257 - root_mean_squared_error: 0.1602 - val_loss: 0.0190 - val_root_mean_squared_error: 0.1380\n",
      "Epoch 3/10\n",
      "1872/1875 [============================>.] - ETA: 0s - loss: 0.0136 - root_mean_squared_error: 0.1166INFO:tensorflow:Assets written to: model5\\assets\n"
     ]
    },
    {
     "name": "stderr",
     "output_type": "stream",
     "text": [
      "INFO:tensorflow:Assets written to: model5\\assets\n"
     ]
    },
    {
     "name": "stdout",
     "output_type": "stream",
     "text": [
      "1875/1875 [==============================] - 25s 13ms/step - loss: 0.0136 - root_mean_squared_error: 0.1166 - val_loss: 0.0097 - val_root_mean_squared_error: 0.0986\n",
      "Epoch 4/10\n",
      "1871/1875 [============================>.] - ETA: 0s - loss: 0.0090 - root_mean_squared_error: 0.0950INFO:tensorflow:Assets written to: model5\\assets\n"
     ]
    },
    {
     "name": "stderr",
     "output_type": "stream",
     "text": [
      "INFO:tensorflow:Assets written to: model5\\assets\n"
     ]
    },
    {
     "name": "stdout",
     "output_type": "stream",
     "text": [
      "1875/1875 [==============================] - 23s 12ms/step - loss: 0.0090 - root_mean_squared_error: 0.0950 - val_loss: 0.0069 - val_root_mean_squared_error: 0.0833\n",
      "Epoch 5/10\n",
      "1872/1875 [============================>.] - ETA: 0s - loss: 0.0074 - root_mean_squared_error: 0.0861INFO:tensorflow:Assets written to: model5\\assets\n"
     ]
    },
    {
     "name": "stderr",
     "output_type": "stream",
     "text": [
      "INFO:tensorflow:Assets written to: model5\\assets\n"
     ]
    },
    {
     "name": "stdout",
     "output_type": "stream",
     "text": [
      "1875/1875 [==============================] - 24s 13ms/step - loss: 0.0074 - root_mean_squared_error: 0.0861 - val_loss: 0.0058 - val_root_mean_squared_error: 0.0759\n",
      "Epoch 6/10\n",
      "1873/1875 [============================>.] - ETA: 0s - loss: 0.0063 - root_mean_squared_error: 0.0796INFO:tensorflow:Assets written to: model5\\assets\n"
     ]
    },
    {
     "name": "stderr",
     "output_type": "stream",
     "text": [
      "INFO:tensorflow:Assets written to: model5\\assets\n"
     ]
    },
    {
     "name": "stdout",
     "output_type": "stream",
     "text": [
      "1875/1875 [==============================] - 24s 13ms/step - loss: 0.0063 - root_mean_squared_error: 0.0796 - val_loss: 0.0047 - val_root_mean_squared_error: 0.0688\n",
      "Epoch 7/10\n",
      "1872/1875 [============================>.] - ETA: 0s - loss: 0.0056 - root_mean_squared_error: 0.0748INFO:tensorflow:Assets written to: model5\\assets\n"
     ]
    },
    {
     "name": "stderr",
     "output_type": "stream",
     "text": [
      "INFO:tensorflow:Assets written to: model5\\assets\n"
     ]
    },
    {
     "name": "stdout",
     "output_type": "stream",
     "text": [
      "1875/1875 [==============================] - 24s 13ms/step - loss: 0.0056 - root_mean_squared_error: 0.0748 - val_loss: 0.0042 - val_root_mean_squared_error: 0.0645\n",
      "Epoch 8/10\n",
      "1875/1875 [==============================] - 18s 10ms/step - loss: 0.0053 - root_mean_squared_error: 0.0725 - val_loss: 0.0042 - val_root_mean_squared_error: 0.0647\n",
      "Epoch 9/10\n",
      "1873/1875 [============================>.] - ETA: 0s - loss: 0.0051 - root_mean_squared_error: 0.0713INFO:tensorflow:Assets written to: model5\\assets\n"
     ]
    },
    {
     "name": "stderr",
     "output_type": "stream",
     "text": [
      "INFO:tensorflow:Assets written to: model5\\assets\n"
     ]
    },
    {
     "name": "stdout",
     "output_type": "stream",
     "text": [
      "1875/1875 [==============================] - 23s 12ms/step - loss: 0.0051 - root_mean_squared_error: 0.0713 - val_loss: 0.0038 - val_root_mean_squared_error: 0.0617\n",
      "Epoch 10/10\n",
      "1872/1875 [============================>.] - ETA: 0s - loss: 0.0050 - root_mean_squared_error: 0.0706INFO:tensorflow:Assets written to: model5\\assets\n"
     ]
    },
    {
     "name": "stderr",
     "output_type": "stream",
     "text": [
      "INFO:tensorflow:Assets written to: model5\\assets\n"
     ]
    },
    {
     "name": "stdout",
     "output_type": "stream",
     "text": [
      "1875/1875 [==============================] - 25s 13ms/step - loss: 0.0050 - root_mean_squared_error: 0.0707 - val_loss: 0.0037 - val_root_mean_squared_error: 0.0612\n"
     ]
    },
    {
     "data": {
      "text/plain": [
       "<keras.src.callbacks.History at 0x1ee2a775610>"
      ]
     },
     "execution_count": 122,
     "metadata": {},
     "output_type": "execute_result"
    }
   ],
   "source": [
    "model5.fit(X3_train, y3_train, validation_data=(X3_val, y3_val), epochs=10, callbacks=[cp5])"
   ]
  },
  {
   "cell_type": "code",
   "execution_count": 123,
   "metadata": {
    "id": "zi3EglPHZTeX"
   },
   "outputs": [],
   "source": [
    "def plot_predictions2(model, X, y, start=0, end=100):\n",
    "  predictions = model.predict(X)\n",
    "  p_preds, temp_preds = predictions[:, 0], predictions[:, 1]\n",
    "  p_actuals, temp_actuals = y[:, 0], y[:, 1]\n",
    "  df = pd.DataFrame(data={'Temperature Predictions': temp_preds,\n",
    "                          'Temperature Actuals':temp_actuals,\n",
    "                          'Pressure Predictions': p_preds,\n",
    "                          'Pressure Actuals': p_actuals\n",
    "                          })\n",
    "  plt.plot(df['Temperature Predictions'][start:end])\n",
    "  plt.plot(df['Temperature Actuals'][start:end])\n",
    "  plt.plot(df['Pressure Predictions'][start:end])\n",
    "  plt.plot(df['Pressure Actuals'][start:end])\n",
    "  return df"
   ]
  },
  {
   "cell_type": "code",
   "execution_count": 124,
   "metadata": {
    "colab": {
     "base_uri": "https://localhost:8080/",
     "height": 665
    },
    "id": "0i-aCfgVZC9L",
    "outputId": "fb268b8f-ce83-4251-84c5-5c3728135323"
   },
   "outputs": [
    {
     "name": "stdout",
     "output_type": "stream",
     "text": [
      "159/159 [==============================] - 2s 6ms/step\n"
     ]
    },
    {
     "data": {
      "text/html": [
       "<div>\n",
       "<style scoped>\n",
       "    .dataframe tbody tr th:only-of-type {\n",
       "        vertical-align: middle;\n",
       "    }\n",
       "\n",
       "    .dataframe tbody tr th {\n",
       "        vertical-align: top;\n",
       "    }\n",
       "\n",
       "    .dataframe thead th {\n",
       "        text-align: right;\n",
       "    }\n",
       "</style>\n",
       "<table border=\"1\" class=\"dataframe\">\n",
       "  <thead>\n",
       "    <tr style=\"text-align: right;\">\n",
       "      <th></th>\n",
       "      <th>Temperature Predictions</th>\n",
       "      <th>Temperature Actuals</th>\n",
       "      <th>Pressure Predictions</th>\n",
       "      <th>Pressure Actuals</th>\n",
       "    </tr>\n",
       "  </thead>\n",
       "  <tbody>\n",
       "    <tr>\n",
       "      <th>0</th>\n",
       "      <td>0.388685</td>\n",
       "      <td>0.412451</td>\n",
       "      <td>-0.788990</td>\n",
       "      <td>-0.793439</td>\n",
       "    </tr>\n",
       "    <tr>\n",
       "      <th>1</th>\n",
       "      <td>0.345850</td>\n",
       "      <td>0.353683</td>\n",
       "      <td>-0.776443</td>\n",
       "      <td>-0.763123</td>\n",
       "    </tr>\n",
       "    <tr>\n",
       "      <th>2</th>\n",
       "      <td>0.308735</td>\n",
       "      <td>0.323123</td>\n",
       "      <td>-0.742134</td>\n",
       "      <td>-0.721893</td>\n",
       "    </tr>\n",
       "    <tr>\n",
       "      <th>3</th>\n",
       "      <td>0.315199</td>\n",
       "      <td>0.250251</td>\n",
       "      <td>-0.689081</td>\n",
       "      <td>-0.652773</td>\n",
       "    </tr>\n",
       "    <tr>\n",
       "      <th>4</th>\n",
       "      <td>0.272594</td>\n",
       "      <td>0.254952</td>\n",
       "      <td>-0.600938</td>\n",
       "      <td>-0.652773</td>\n",
       "    </tr>\n",
       "    <tr>\n",
       "      <th>...</th>\n",
       "      <td>...</td>\n",
       "      <td>...</td>\n",
       "      <td>...</td>\n",
       "      <td>...</td>\n",
       "    </tr>\n",
       "    <tr>\n",
       "      <th>5079</th>\n",
       "      <td>-1.280792</td>\n",
       "      <td>-1.222477</td>\n",
       "      <td>1.603437</td>\n",
       "      <td>1.601508</td>\n",
       "    </tr>\n",
       "    <tr>\n",
       "      <th>5080</th>\n",
       "      <td>-1.310681</td>\n",
       "      <td>-1.271843</td>\n",
       "      <td>1.583573</td>\n",
       "      <td>1.506923</td>\n",
       "    </tr>\n",
       "    <tr>\n",
       "      <th>5081</th>\n",
       "      <td>-1.307938</td>\n",
       "      <td>-1.430516</td>\n",
       "      <td>1.480059</td>\n",
       "      <td>1.481458</td>\n",
       "    </tr>\n",
       "    <tr>\n",
       "      <th>5082</th>\n",
       "      <td>-1.484054</td>\n",
       "      <td>-1.446971</td>\n",
       "      <td>1.430333</td>\n",
       "      <td>1.415976</td>\n",
       "    </tr>\n",
       "    <tr>\n",
       "      <th>5083</th>\n",
       "      <td>-1.472601</td>\n",
       "      <td>-1.569209</td>\n",
       "      <td>1.351039</td>\n",
       "      <td>1.350494</td>\n",
       "    </tr>\n",
       "  </tbody>\n",
       "</table>\n",
       "<p>5084 rows × 4 columns</p>\n",
       "</div>"
      ],
      "text/plain": [
       "      Temperature Predictions  Temperature Actuals  Pressure Predictions  \\\n",
       "0                    0.388685             0.412451             -0.788990   \n",
       "1                    0.345850             0.353683             -0.776443   \n",
       "2                    0.308735             0.323123             -0.742134   \n",
       "3                    0.315199             0.250251             -0.689081   \n",
       "4                    0.272594             0.254952             -0.600938   \n",
       "...                       ...                  ...                   ...   \n",
       "5079                -1.280792            -1.222477              1.603437   \n",
       "5080                -1.310681            -1.271843              1.583573   \n",
       "5081                -1.307938            -1.430516              1.480059   \n",
       "5082                -1.484054            -1.446971              1.430333   \n",
       "5083                -1.472601            -1.569209              1.351039   \n",
       "\n",
       "      Pressure Actuals  \n",
       "0            -0.793439  \n",
       "1            -0.763123  \n",
       "2            -0.721893  \n",
       "3            -0.652773  \n",
       "4            -0.652773  \n",
       "...                ...  \n",
       "5079          1.601508  \n",
       "5080          1.506923  \n",
       "5081          1.481458  \n",
       "5082          1.415976  \n",
       "5083          1.350494  \n",
       "\n",
       "[5084 rows x 4 columns]"
      ]
     },
     "execution_count": 124,
     "metadata": {},
     "output_type": "execute_result"
    },
    {
     "data": {
      "image/png": "[encoded data removed]",
      "text/plain": [
       "<Figure size 640x480 with 1 Axes>"
      ]
     },
     "metadata": {},
     "output_type": "display_data"
    }
   ],
   "source": [
    "plot_predictions2(model5, X3_test, y3_test)"
   ]
  },
  {
   "cell_type": "code",
   "execution_count": 125,
   "metadata": {
    "id": "_3biL9urbmdB"
   },
   "outputs": [],
   "source": [
    "def postprocess_temp(arr):\n",
    "  arr = (arr*temp_training_std3) + temp_training_mean3\n",
    "  return arr\n",
    "\n",
    "def postprocess_p(arr):\n",
    "  arr = (arr*p_training_std3) + p_training_mean3\n",
    "  return arr"
   ]
  },
  {
   "cell_type": "code",
   "execution_count": 126,
   "metadata": {
    "id": "6aZSDhgjcbtI"
   },
   "outputs": [],
   "source": [
    "def get_predictions_postprocessed(model, X, y):\n",
    "  predictions = model.predict(X)\n",
    "  p_preds, temp_preds = postprocess_p(predictions[:, 0]), postprocess_temp(predictions[:, 1])\n",
    "  p_actuals, temp_actuals = postprocess_p(y[:, 0]), postprocess_temp(y[:, 1])\n",
    "  df = pd.DataFrame(data={'Temperature Predictions': temp_preds,\n",
    "                          'Temperature Actuals':temp_actuals,\n",
    "                          'Pressure Predictions': p_preds,\n",
    "                          'Pressure Actuals': p_actuals\n",
    "                          })\n",
    "  return df"
   ]
  },
  {
   "cell_type": "code",
   "execution_count": 127,
   "metadata": {
    "colab": {
     "base_uri": "https://localhost:8080/",
     "height": 417
    },
    "id": "dKO-Y5lCcT9P",
    "outputId": "8c401492-495a-4ae8-dc55-287307939f81"
   },
   "outputs": [
    {
     "name": "stdout",
     "output_type": "stream",
     "text": [
      "159/159 [==============================] - 1s 6ms/step\n"
     ]
    },
    {
     "data": {
      "text/html": [
       "<div>\n",
       "<style scoped>\n",
       "    .dataframe tbody tr th:only-of-type {\n",
       "        vertical-align: middle;\n",
       "    }\n",
       "\n",
       "    .dataframe tbody tr th {\n",
       "        vertical-align: top;\n",
       "    }\n",
       "\n",
       "    .dataframe thead th {\n",
       "        text-align: right;\n",
       "    }\n",
       "</style>\n",
       "<table border=\"1\" class=\"dataframe\">\n",
       "  <thead>\n",
       "    <tr style=\"text-align: right;\">\n",
       "      <th></th>\n",
       "      <th>Temperature Predictions</th>\n",
       "      <th>Temperature Actuals</th>\n",
       "      <th>Pressure Predictions</th>\n",
       "      <th>Pressure Actuals</th>\n",
       "    </tr>\n",
       "  </thead>\n",
       "  <tbody>\n",
       "    <tr>\n",
       "      <th>0</th>\n",
       "      <td>12.727804</td>\n",
       "      <td>12.93</td>\n",
       "      <td>982.466736</td>\n",
       "      <td>982.43</td>\n",
       "    </tr>\n",
       "    <tr>\n",
       "      <th>1</th>\n",
       "      <td>12.363364</td>\n",
       "      <td>12.43</td>\n",
       "      <td>982.570190</td>\n",
       "      <td>982.68</td>\n",
       "    </tr>\n",
       "    <tr>\n",
       "      <th>2</th>\n",
       "      <td>12.047582</td>\n",
       "      <td>12.17</td>\n",
       "      <td>982.853088</td>\n",
       "      <td>983.02</td>\n",
       "    </tr>\n",
       "    <tr>\n",
       "      <th>3</th>\n",
       "      <td>12.102580</td>\n",
       "      <td>11.55</td>\n",
       "      <td>983.290588</td>\n",
       "      <td>983.59</td>\n",
       "    </tr>\n",
       "    <tr>\n",
       "      <th>4</th>\n",
       "      <td>11.740094</td>\n",
       "      <td>11.59</td>\n",
       "      <td>984.017517</td>\n",
       "      <td>983.59</td>\n",
       "    </tr>\n",
       "    <tr>\n",
       "      <th>...</th>\n",
       "      <td>...</td>\n",
       "      <td>...</td>\n",
       "      <td>...</td>\n",
       "      <td>...</td>\n",
       "    </tr>\n",
       "    <tr>\n",
       "      <th>5079</th>\n",
       "      <td>-1.476144</td>\n",
       "      <td>-0.98</td>\n",
       "      <td>1002.195923</td>\n",
       "      <td>1002.18</td>\n",
       "    </tr>\n",
       "    <tr>\n",
       "      <th>5080</th>\n",
       "      <td>-1.730434</td>\n",
       "      <td>-1.40</td>\n",
       "      <td>1002.032104</td>\n",
       "      <td>1001.40</td>\n",
       "    </tr>\n",
       "    <tr>\n",
       "      <th>5081</th>\n",
       "      <td>-1.707103</td>\n",
       "      <td>-2.75</td>\n",
       "      <td>1001.178467</td>\n",
       "      <td>1001.19</td>\n",
       "    </tr>\n",
       "    <tr>\n",
       "      <th>5082</th>\n",
       "      <td>-3.205502</td>\n",
       "      <td>-2.89</td>\n",
       "      <td>1000.768433</td>\n",
       "      <td>1000.65</td>\n",
       "    </tr>\n",
       "    <tr>\n",
       "      <th>5083</th>\n",
       "      <td>-3.108054</td>\n",
       "      <td>-3.93</td>\n",
       "      <td>1000.114502</td>\n",
       "      <td>1000.11</td>\n",
       "    </tr>\n",
       "  </tbody>\n",
       "</table>\n",
       "<p>5084 rows × 4 columns</p>\n",
       "</div>"
      ],
      "text/plain": [
       "      Temperature Predictions  Temperature Actuals  Pressure Predictions  \\\n",
       "0                   12.727804                12.93            982.466736   \n",
       "1                   12.363364                12.43            982.570190   \n",
       "2                   12.047582                12.17            982.853088   \n",
       "3                   12.102580                11.55            983.290588   \n",
       "4                   11.740094                11.59            984.017517   \n",
       "...                       ...                  ...                   ...   \n",
       "5079                -1.476144                -0.98           1002.195923   \n",
       "5080                -1.730434                -1.40           1002.032104   \n",
       "5081                -1.707103                -2.75           1001.178467   \n",
       "5082                -3.205502                -2.89           1000.768433   \n",
       "5083                -3.108054                -3.93           1000.114502   \n",
       "\n",
       "      Pressure Actuals  \n",
       "0               982.43  \n",
       "1               982.68  \n",
       "2               983.02  \n",
       "3               983.59  \n",
       "4               983.59  \n",
       "...                ...  \n",
       "5079           1002.18  \n",
       "5080           1001.40  \n",
       "5081           1001.19  \n",
       "5082           1000.65  \n",
       "5083           1000.11  \n",
       "\n",
       "[5084 rows x 4 columns]"
      ]
     },
     "execution_count": 127,
     "metadata": {},
     "output_type": "execute_result"
    }
   ],
   "source": [
    "post_processed_df = get_predictions_postprocessed(model5, X3_test, y3_test)\n",
    "post_processed_df"
   ]
  },
  {
   "cell_type": "code",
   "execution_count": 128,
   "metadata": {
    "colab": {
     "base_uri": "https://localhost:8080/",
     "height": 282
    },
    "id": "7KIoImWHLv7O",
    "outputId": "e31a6d59-d68b-4c89-e2b3-6ddf4f7f53bb"
   },
   "outputs": [
    {
     "data": {
      "text/plain": [
       "[<matplotlib.lines.Line2D at 0x1ee31cd5ed0>]"
      ]
     },
     "execution_count": 128,
     "metadata": {},
     "output_type": "execute_result"
    },
    {
     "data": {
      "image/png": "[encoded data removed]",
      "text/plain": [
       "<Figure size 640x480 with 1 Axes>"
      ]
     },
     "metadata": {},
     "output_type": "display_data"
    }
   ],
   "source": [
    "start, end = 0, 100\n",
    "plt.plot(post_processed_df['Temperature Predictions'][start:end])\n",
    "plt.plot(post_processed_df['Temperature Actuals'][start:end])"
   ]
  },
  {
   "cell_type": "code",
   "execution_count": 129,
   "metadata": {
    "colab": {
     "base_uri": "https://localhost:8080/",
     "height": 282
    },
    "id": "w9qLd1KrL5kT",
    "outputId": "d74125b8-9859-4316-c7ff-a4112f45b370"
   },
   "outputs": [
    {
     "data": {
      "text/plain": [
       "[<matplotlib.lines.Line2D at 0x1ee2a9e3a10>]"
      ]
     },
     "execution_count": 129,
     "metadata": {},
     "output_type": "execute_result"
    },
    {
     "data": {
      "image/png": "[encoded data removed]",
      "text/plain": [
       "<Figure size 640x480 with 1 Axes>"
      ]
     },
     "metadata": {},
     "output_type": "display_data"
    }
   ],
   "source": [
    "plt.plot(post_processed_df['Pressure Predictions'][start:end])\n",
    "plt.plot(post_processed_df['Pressure Actuals'][start:end])"
   ]
  },
  {
   "cell_type": "code",
   "execution_count": 130,
   "metadata": {
    "colab": {
     "base_uri": "https://localhost:8080/"
    },
    "id": "DkCeXZOMcuaV",
    "outputId": "b019c760-eb96-45da-dab6-03b0b86fc93e"
   },
   "outputs": [
    {
     "name": "stdout",
     "output_type": "stream",
     "text": [
      "Model: \"sequential_12\"\n",
      "_________________________________________________________________\n",
      " Layer (type)                Output Shape              Param #   \n",
      "=================================================================\n",
      " lstm_8 (LSTM)               (None, 7, 32)             4992      \n",
      "                                                                 \n",
      " lstm_9 (LSTM)               (None, 16)                3136      \n",
      "                                                                 \n",
      " dense_24 (Dense)            (None, 8)                 136       \n",
      "                                                                 \n",
      " dense_25 (Dense)            (None, 2)                 18        \n",
      "                                                                 \n",
      "=================================================================\n",
      "Total params: 8282 (32.35 KB)\n",
      "Trainable params: 8282 (32.35 KB)\n",
      "Non-trainable params: 0 (0.00 Byte)\n",
      "_________________________________________________________________\n"
     ]
    }
   ],
   "source": [
    "model6 = Sequential()\n",
    "model6.add(InputLayer((7, 6)))\n",
    "model6.add(LSTM(32, return_sequences=True))\n",
    "model6.add(LSTM(16))\n",
    "model6.add(Dense(8, 'relu'))\n",
    "model6.add(Dense(2, 'linear'))\n",
    "\n",
    "model6.summary()"
   ]
  },
  {
   "cell_type": "code",
   "execution_count": 131,
   "metadata": {
    "id": "p0nbK--mdmAz"
   },
   "outputs": [],
   "source": [
    "cp6 = ModelCheckpoint('model6/', save_best_only=True)\n",
    "model6.compile(loss=MeanSquaredError(), optimizer=Adam(learning_rate=0.0001), metrics=[RootMeanSquaredError()])"
   ]
  },
  {
   "cell_type": "code",
   "execution_count": 132,
   "metadata": {
    "colab": {
     "base_uri": "https://localhost:8080/",
     "height": 337
    },
    "id": "23zFBGVwefkH",
    "outputId": "feabcec9-0295-43ee-ac0a-e7f98e665483"
   },
   "outputs": [
    {
     "name": "stdout",
     "output_type": "stream",
     "text": [
      "Epoch 1/10\n",
      "1874/1875 [============================>.] - ETA: 0s - loss: 0.2157 - root_mean_squared_error: 0.4644INFO:tensorflow:Assets written to: model6\\assets\n"
     ]
    },
    {
     "name": "stderr",
     "output_type": "stream",
     "text": [
      "INFO:tensorflow:Assets written to: model6\\assets\n"
     ]
    },
    {
     "name": "stdout",
     "output_type": "stream",
     "text": [
      "1875/1875 [==============================] - 39s 18ms/step - loss: 0.2156 - root_mean_squared_error: 0.4643 - val_loss: 0.0549 - val_root_mean_squared_error: 0.2343\n",
      "Epoch 2/10\n",
      "1875/1875 [==============================] - ETA: 0s - loss: 0.0443 - root_mean_squared_error: 0.2104INFO:tensorflow:Assets written to: model6\\assets\n"
     ]
    },
    {
     "name": "stderr",
     "output_type": "stream",
     "text": [
      "INFO:tensorflow:Assets written to: model6\\assets\n"
     ]
    },
    {
     "name": "stdout",
     "output_type": "stream",
     "text": [
      "1875/1875 [==============================] - 32s 17ms/step - loss: 0.0443 - root_mean_squared_error: 0.2104 - val_loss: 0.0361 - val_root_mean_squared_error: 0.1899\n",
      "Epoch 3/10\n",
      "1872/1875 [============================>.] - ETA: 0s - loss: 0.0297 - root_mean_squared_error: 0.1723INFO:tensorflow:Assets written to: model6\\assets\n"
     ]
    },
    {
     "name": "stderr",
     "output_type": "stream",
     "text": [
      "INFO:tensorflow:Assets written to: model6\\assets\n"
     ]
    },
    {
     "name": "stdout",
     "output_type": "stream",
     "text": [
      "1875/1875 [==============================] - 31s 17ms/step - loss: 0.0297 - root_mean_squared_error: 0.1722 - val_loss: 0.0235 - val_root_mean_squared_error: 0.1534\n",
      "Epoch 4/10\n",
      "1871/1875 [============================>.] - ETA: 0s - loss: 0.0184 - root_mean_squared_error: 0.1356INFO:tensorflow:Assets written to: model6\\assets\n"
     ]
    },
    {
     "name": "stderr",
     "output_type": "stream",
     "text": [
      "INFO:tensorflow:Assets written to: model6\\assets\n"
     ]
    },
    {
     "name": "stdout",
     "output_type": "stream",
     "text": [
      "1875/1875 [==============================] - 32s 17ms/step - loss: 0.0184 - root_mean_squared_error: 0.1356 - val_loss: 0.0138 - val_root_mean_squared_error: 0.1176\n",
      "Epoch 5/10\n",
      "1872/1875 [============================>.] - ETA: 0s - loss: 0.0126 - root_mean_squared_error: 0.1124INFO:tensorflow:Assets written to: model6\\assets\n"
     ]
    },
    {
     "name": "stderr",
     "output_type": "stream",
     "text": [
      "INFO:tensorflow:Assets written to: model6\\assets\n"
     ]
    },
    {
     "name": "stdout",
     "output_type": "stream",
     "text": [
      "1875/1875 [==============================] - 32s 17ms/step - loss: 0.0126 - root_mean_squared_error: 0.1124 - val_loss: 0.0102 - val_root_mean_squared_error: 0.1011\n",
      "Epoch 6/10\n",
      "1875/1875 [==============================] - ETA: 0s - loss: 0.0100 - root_mean_squared_error: 0.0999INFO:tensorflow:Assets written to: model6\\assets\n"
     ]
    },
    {
     "name": "stderr",
     "output_type": "stream",
     "text": [
      "INFO:tensorflow:Assets written to: model6\\assets\n"
     ]
    },
    {
     "name": "stdout",
     "output_type": "stream",
     "text": [
      "1875/1875 [==============================] - 32s 17ms/step - loss: 0.0100 - root_mean_squared_error: 0.0999 - val_loss: 0.0080 - val_root_mean_squared_error: 0.0893\n",
      "Epoch 7/10\n",
      "1874/1875 [============================>.] - ETA: 0s - loss: 0.0083 - root_mean_squared_error: 0.0913INFO:tensorflow:Assets written to: model6\\assets\n"
     ]
    },
    {
     "name": "stderr",
     "output_type": "stream",
     "text": [
      "INFO:tensorflow:Assets written to: model6\\assets\n"
     ]
    },
    {
     "name": "stdout",
     "output_type": "stream",
     "text": [
      "1875/1875 [==============================] - 31s 17ms/step - loss: 0.0083 - root_mean_squared_error: 0.0913 - val_loss: 0.0067 - val_root_mean_squared_error: 0.0818\n",
      "Epoch 8/10\n",
      "1873/1875 [============================>.] - ETA: 0s - loss: 0.0072 - root_mean_squared_error: 0.0846INFO:tensorflow:Assets written to: model6\\assets\n"
     ]
    },
    {
     "name": "stderr",
     "output_type": "stream",
     "text": [
      "INFO:tensorflow:Assets written to: model6\\assets\n"
     ]
    },
    {
     "name": "stdout",
     "output_type": "stream",
     "text": [
      "1875/1875 [==============================] - 31s 17ms/step - loss: 0.0072 - root_mean_squared_error: 0.0846 - val_loss: 0.0056 - val_root_mean_squared_error: 0.0751\n",
      "Epoch 9/10\n",
      "1870/1875 [============================>.] - ETA: 0s - loss: 0.0064 - root_mean_squared_error: 0.0797INFO:tensorflow:Assets written to: model6\\assets\n"
     ]
    },
    {
     "name": "stderr",
     "output_type": "stream",
     "text": [
      "INFO:tensorflow:Assets written to: model6\\assets\n"
     ]
    },
    {
     "name": "stdout",
     "output_type": "stream",
     "text": [
      "1875/1875 [==============================] - 41s 22ms/step - loss: 0.0064 - root_mean_squared_error: 0.0797 - val_loss: 0.0050 - val_root_mean_squared_error: 0.0709\n",
      "Epoch 10/10\n",
      "1873/1875 [============================>.] - ETA: 0s - loss: 0.0058 - root_mean_squared_error: 0.0763INFO:tensorflow:Assets written to: model6\\assets\n"
     ]
    },
    {
     "name": "stderr",
     "output_type": "stream",
     "text": [
      "INFO:tensorflow:Assets written to: model6\\assets\n"
     ]
    },
    {
     "name": "stdout",
     "output_type": "stream",
     "text": [
      "1875/1875 [==============================] - 37s 20ms/step - loss: 0.0058 - root_mean_squared_error: 0.0763 - val_loss: 0.0046 - val_root_mean_squared_error: 0.0676\n"
     ]
    },
    {
     "data": {
      "text/plain": [
       "<keras.src.callbacks.History at 0x1ee241a5610>"
      ]
     },
     "execution_count": 132,
     "metadata": {},
     "output_type": "execute_result"
    }
   ],
   "source": [
    "model6.fit(X3_train, y3_train, validation_data=(X3_val, y3_val), epochs=10, callbacks=[cp6])"
   ]
  },
  {
   "cell_type": "code",
   "execution_count": 133,
   "metadata": {
    "colab": {
     "base_uri": "https://localhost:8080/"
    },
    "id": "pJ6iH7IReqyw",
    "outputId": "236b4ce2-71b5-4387-f875-52ebbfd405a3"
   },
   "outputs": [
    {
     "name": "stdout",
     "output_type": "stream",
     "text": [
      "Model: \"sequential_13\"\n",
      "_________________________________________________________________\n",
      " Layer (type)                Output Shape              Param #   \n",
      "=================================================================\n",
      " conv1d_3 (Conv1D)           (None, 6, 64)             832       \n",
      "                                                                 \n",
      " flatten_3 (Flatten)         (None, 384)               0         \n",
      "                                                                 \n",
      " dense_26 (Dense)            (None, 8)                 3080      \n",
      "                                                                 \n",
      " dense_27 (Dense)            (None, 2)                 18        \n",
      "                                                                 \n",
      "=================================================================\n",
      "Total params: 3930 (15.35 KB)\n",
      "Trainable params: 3930 (15.35 KB)\n",
      "Non-trainable params: 0 (0.00 Byte)\n",
      "_________________________________________________________________\n"
     ]
    }
   ],
   "source": [
    "model7 = Sequential()\n",
    "model7.add(InputLayer((7, 6)))\n",
    "model7.add(Conv1D(64, kernel_size=2, activation='relu'))\n",
    "model7.add(Flatten())\n",
    "model7.add(Dense(8, 'relu'))\n",
    "model7.add(Dense(2, 'linear'))\n",
    "model7.summary()"
   ]
  },
  {
   "cell_type": "code",
   "execution_count": 134,
   "metadata": {
    "id": "5Lu1RTuHTQIN"
   },
   "outputs": [],
   "source": [
    "cp7 = ModelCheckpoint('model6/', save_best_only=True)\n",
    "model7.compile(loss=MeanSquaredError(), optimizer=Adam(learning_rate=0.0001), metrics=[RootMeanSquaredError()])"
   ]
  },
  {
   "cell_type": "code",
   "execution_count": 135,
   "metadata": {
    "colab": {
     "base_uri": "https://localhost:8080/"
    },
    "id": "y3Tp1QAMTUcf",
    "outputId": "f2640996-b9a3-422b-b9c3-203b9ae82dfe"
   },
   "outputs": [
    {
     "name": "stdout",
     "output_type": "stream",
     "text": [
      "Epoch 1/10\n",
      "1867/1875 [============================>.] - ETA: 0s - loss: 0.1148 - root_mean_squared_error: 0.3388INFO:tensorflow:Assets written to: model6\\assets\n"
     ]
    },
    {
     "name": "stderr",
     "output_type": "stream",
     "text": [
      "INFO:tensorflow:Assets written to: model6\\assets\n"
     ]
    },
    {
     "name": "stdout",
     "output_type": "stream",
     "text": [
      "1875/1875 [==============================] - 14s 7ms/step - loss: 0.1144 - root_mean_squared_error: 0.3382 - val_loss: 0.0222 - val_root_mean_squared_error: 0.1491\n",
      "Epoch 2/10\n",
      "1866/1875 [============================>.] - ETA: 0s - loss: 0.0165 - root_mean_squared_error: 0.1283INFO:tensorflow:Assets written to: model6\\assets\n"
     ]
    },
    {
     "name": "stderr",
     "output_type": "stream",
     "text": [
      "INFO:tensorflow:Assets written to: model6\\assets\n"
     ]
    },
    {
     "name": "stdout",
     "output_type": "stream",
     "text": [
      "1875/1875 [==============================] - 12s 6ms/step - loss: 0.0164 - root_mean_squared_error: 0.1282 - val_loss: 0.0109 - val_root_mean_squared_error: 0.1044\n",
      "Epoch 3/10\n",
      "1866/1875 [============================>.] - ETA: 0s - loss: 0.0094 - root_mean_squared_error: 0.0971INFO:tensorflow:Assets written to: model6\\assets\n"
     ]
    },
    {
     "name": "stderr",
     "output_type": "stream",
     "text": [
      "INFO:tensorflow:Assets written to: model6\\assets\n"
     ]
    },
    {
     "name": "stdout",
     "output_type": "stream",
     "text": [
      "1875/1875 [==============================] - 11s 6ms/step - loss: 0.0095 - root_mean_squared_error: 0.0975 - val_loss: 0.0071 - val_root_mean_squared_error: 0.0843\n",
      "Epoch 4/10\n",
      "1866/1875 [============================>.] - ETA: 0s - loss: 0.0073 - root_mean_squared_error: 0.0854INFO:tensorflow:Assets written to: model6\\assets\n"
     ]
    },
    {
     "name": "stderr",
     "output_type": "stream",
     "text": [
      "INFO:tensorflow:Assets written to: model6\\assets\n"
     ]
    },
    {
     "name": "stdout",
     "output_type": "stream",
     "text": [
      "1875/1875 [==============================] - 11s 6ms/step - loss: 0.0073 - root_mean_squared_error: 0.0854 - val_loss: 0.0058 - val_root_mean_squared_error: 0.0758\n",
      "Epoch 5/10\n",
      "1869/1875 [============================>.] - ETA: 0s - loss: 0.0066 - root_mean_squared_error: 0.0809INFO:tensorflow:Assets written to: model6\\assets\n"
     ]
    },
    {
     "name": "stderr",
     "output_type": "stream",
     "text": [
      "INFO:tensorflow:Assets written to: model6\\assets\n"
     ]
    },
    {
     "name": "stdout",
     "output_type": "stream",
     "text": [
      "1875/1875 [==============================] - 11s 6ms/step - loss: 0.0065 - root_mean_squared_error: 0.0809 - val_loss: 0.0051 - val_root_mean_squared_error: 0.0717\n",
      "Epoch 6/10\n",
      "1871/1875 [============================>.] - ETA: 0s - loss: 0.0062 - root_mean_squared_error: 0.0787INFO:tensorflow:Assets written to: model6\\assets\n"
     ]
    },
    {
     "name": "stderr",
     "output_type": "stream",
     "text": [
      "INFO:tensorflow:Assets written to: model6\\assets\n"
     ]
    },
    {
     "name": "stdout",
     "output_type": "stream",
     "text": [
      "1875/1875 [==============================] - 11s 6ms/step - loss: 0.0062 - root_mean_squared_error: 0.0787 - val_loss: 0.0049 - val_root_mean_squared_error: 0.0698\n",
      "Epoch 7/10\n",
      "1875/1875 [==============================] - 10s 6ms/step - loss: 0.0060 - root_mean_squared_error: 0.0772 - val_loss: 0.0049 - val_root_mean_squared_error: 0.0701\n",
      "Epoch 8/10\n",
      "1875/1875 [==============================] - ETA: 0s - loss: 0.0058 - root_mean_squared_error: 0.0762INFO:tensorflow:Assets written to: model6\\assets\n"
     ]
    },
    {
     "name": "stderr",
     "output_type": "stream",
     "text": [
      "INFO:tensorflow:Assets written to: model6\\assets\n"
     ]
    },
    {
     "name": "stdout",
     "output_type": "stream",
     "text": [
      "1875/1875 [==============================] - 11s 6ms/step - loss: 0.0058 - root_mean_squared_error: 0.0762 - val_loss: 0.0047 - val_root_mean_squared_error: 0.0688\n",
      "Epoch 9/10\n",
      "1867/1875 [============================>.] - ETA: 0s - loss: 0.0057 - root_mean_squared_error: 0.0753INFO:tensorflow:Assets written to: model6\\assets\n"
     ]
    },
    {
     "name": "stderr",
     "output_type": "stream",
     "text": [
      "INFO:tensorflow:Assets written to: model6\\assets\n"
     ]
    },
    {
     "name": "stdout",
     "output_type": "stream",
     "text": [
      "1875/1875 [==============================] - 11s 6ms/step - loss: 0.0057 - root_mean_squared_error: 0.0753 - val_loss: 0.0046 - val_root_mean_squared_error: 0.0677\n",
      "Epoch 10/10\n",
      "1871/1875 [============================>.] - ETA: 0s - loss: 0.0056 - root_mean_squared_error: 0.0748INFO:tensorflow:Assets written to: model6\\assets\n"
     ]
    },
    {
     "name": "stderr",
     "output_type": "stream",
     "text": [
      "INFO:tensorflow:Assets written to: model6\\assets\n"
     ]
    },
    {
     "name": "stdout",
     "output_type": "stream",
     "text": [
      "1875/1875 [==============================] - 11s 6ms/step - loss: 0.0056 - root_mean_squared_error: 0.0748 - val_loss: 0.0044 - val_root_mean_squared_error: 0.0660\n"
     ]
    },
    {
     "data": {
      "text/plain": [
       "<keras.src.callbacks.History at 0x1ee0eaa4cd0>"
      ]
     },
     "execution_count": 135,
     "metadata": {},
     "output_type": "execute_result"
    }
   ],
   "source": [
    "model7.fit(X3_train, y3_train, validation_data=(X3_val, y3_val), epochs=10, callbacks=[cp7])"
   ]
  },
  {
   "cell_type": "code",
   "execution_count": null,
   "metadata": {},
   "outputs": [],
   "source": []
  },
  {
   "cell_type": "code",
   "execution_count": null,
   "metadata": {},
   "outputs": [],
   "source": []
  },
  {
   "cell_type": "code",
   "execution_count": null,
   "metadata": {},
   "outputs": [],
   "source": []
  },
  {
   "cell_type": "code",
   "execution_count": null,
   "metadata": {},
   "outputs": [],
   "source": []
  },
  {
   "cell_type": "code",
   "execution_count": null,
   "metadata": {},
   "outputs": [],
   "source": []
  }
 ],
 "metadata": {
  "colab": {
   "provenance": []
  },
  "kernelspec": {
   "display_name": "Python 3 (ipykernel)",
   "language": "python",
   "name": "python3"
  },
  "language_info": {
   "codemirror_mode": {
    "name": "ipython",
    "version": 3
   },
   "file_extension": ".py",
   "mimetype": "text/x-python",
   "name": "python",
   "nbconvert_exporter": "python",
   "pygments_lexer": "ipython3",
   "version": "3.11.4"
  }
 },
 "nbformat": 4,
 "nbformat_minor": 1
}
